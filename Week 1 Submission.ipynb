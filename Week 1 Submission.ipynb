{
    "cells": [
        {
            "cell_type": "markdown",
            "metadata": {
                "collapsed": true
            },
            "source": "# Applied Data Science Capstone\nWeek 1 Submission"
        },
        {
            "cell_type": "markdown",
            "metadata": {},
            "source": "### 1. A description of the problem and a discussion of the background. (15 marks)\nClearly define a problem or an idea of your choice. Remember that data science problems always target an audience and are meant to help a group of stakeholders solve a problem, so make sure that you explicitly describe your audience and why they would care about your problem."
        },
        {
            "cell_type": "markdown",
            "metadata": {},
            "source": "Seattle city planners are distraught over the high number of severe collisions occuring within city limits. They are interested in learning more about the determinants of major incidents in order to identify which underlying characteristics are most likely to result in severe injuries or fatalities. Some of these factors are likely to be due to driver behaviors, while others will be due to underlying environmental factors. The city planners are interested in using their power to change roadways to be safer for motorists, as well as discouraging dangerous behaviors. With any luck, the analysis will lead to many lives saved in Seattle and beyond."
        },
        {
            "cell_type": "markdown",
            "metadata": {},
            "source": "### 2. A description of the data and how it will be used to solve the problem. (15 marks)\nDescribe the data that you will be using to solve the problem or execute your idea. So make sure that you provide adequate explanation and discussion, with examples, of the data that you will be using."
        },
        {
            "cell_type": "markdown",
            "metadata": {},
            "source": "We have a dataset consisting of nearly 195,000 traffic incidents occuring between 2004 and 2020. The data was collected and recorded by the Traffic Records Group at the SDOT Traffic Management Division, and is updated weekly.\n\nEach row provides data on a single traffic incident. For each incident, we know the severity, geographic location, number and type of vehicles involved, number of pedestrians and cyclists involved, incident description, weather conditions, as well as a set of identifiers. \n\nMuch of the data has been pre-categorized by the City. For example, address types have been cate"
        }
    ],
    "metadata": {
        "kernelspec": {
            "display_name": "Python 3.6",
            "language": "python",
            "name": "python3"
        },
        "language_info": {
            "codemirror_mode": {
                "name": "ipython",
                "version": 3
            },
            "file_extension": ".py",
            "mimetype": "text/x-python",
            "name": "python",
            "nbconvert_exporter": "python",
            "pygments_lexer": "ipython3",
            "version": "3.6.9"
        }
    },
    "nbformat": 4,
    "nbformat_minor": 1
}