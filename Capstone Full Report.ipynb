{
    "cells": [
        {
            "cell_type": "markdown",
            "metadata": {
                "collapsed": true
            },
            "source": "# Applied Data Science Capstone\n## Full Report\nWeek 2 Submission"
        },
        {
            "cell_type": "markdown",
            "metadata": {},
            "source": "### 1. Introduction"
        },
        {
            "cell_type": "markdown",
            "metadata": {},
            "source": "Seattle First Responders are distraught over the high number of severe collisions occuring within city limits. They are interested in learning more about the determinants of major incidents in order to identify which underlying characteristics are most likely to result in severe injuries or fatalities. Some of these factors are likely to be due to driver behaviors, while others will be due to underlying environmental factors. The First Responders are interested in using a classification model in real time so that they may better predict which incident are likely to cause human injury, thus allowing them to prioritize their response efforts on these types of incidents. With any luck, the analysis will lead to many lives saved in Seattle and beyond."
        },
        {
            "cell_type": "markdown",
            "metadata": {},
            "source": "### 2. Data"
        },
        {
            "cell_type": "markdown",
            "metadata": {},
            "source": "We have a dataset consisting of nearly 195,000 traffic incidents occuring between 2004 and 2020 in the city of Seattle. The data was collected and recorded by the Traffic Records Group at the SDOT Traffic Management Division, and is updated weekly.\n\nEach row provides data on a single traffic incident. For each incident, we know the severity, geographic location, number and type of vehicles involved, number of pedestrians and cyclists involved, incident description, weather conditions, as well as a set of identifiers. \n\nMuch of the data has been pre-categorized by the City. For example, address types have been categorized into \"alley\", \"block\", and \"intersection\". Severity, our target variable, has been categorized into \"fatality\", \"serious injury\", \"injury\", \"property damage\", and \"unknown\"."
        },
        {
            "cell_type": "markdown",
            "metadata": {},
            "source": "### 3. Methodology section\nrepresents the main component of the report where you discuss and describe any exploratory data analysis that you did, any inferential statistical testing that you performed, if any, and what machine learnings were used and why.\n"
        },
        {
            "cell_type": "markdown",
            "metadata": {},
            "source": "#### 3.1 Data Cleaning\n\nBefore specifying any particular model, I did basic data understanding and cleaning work to better understand the types of data available to go into the prediction model. \n\nI first found that the target dependent variable, Severity Code, only consisted of two values in the dataset: \"injury\" and \"property damage\". Thus the dependent variable can be treated as binary, and is conducive to classification or logarithmic machine learning approaches. As such, I recoded this variable so that property damage is coded as 0, while injuries are coded as 1.\n\nFor each independent variable, I found value counts to identify any null values. For categorical variables, I found the grouped proportion of injury-causing incidents by category to identify any discrepancies. Major discrepancies would indicate some explanatory power in the variable. I found strong associations between severity code and the categorical variables address type and collision type.\n\nFor continuous and binary variables, I found the pearson correlation coefficents and p values of the association between each variable and the incident severity code. This suggested which variables to include, namely inattention indicator, under influence indicator, pedestrian not granted right of way indicator, speeding indicator, hit parked car indicator, pedestrian count, person count, and cyclist count.\n\nFor two variables, pedestrian count and person count, the distribution of the values is skewed towards the right. To reduce the influence of outliers on the model, I recast all values higher than 5 to 5, a non-statistical version of winsorization. I also recast cyclist count as a binary indicator given few observations of more than one cylist involved in any incident.\n\nFor the pedestrian count variable, I found a strong increase in the likelihood of an injury as soon as a single pedestrian is involved, the association increases as more pedestrians become involved, but the association is non-linear between 0 and 1. As such, I included an additional indicator the indicate whether any pedestrians were involved. This allows the association to have different intercepts for incidents where no pedestrians are involved and incidents where there are any pedestrians.\n\n#### 3.2 Training Set Development\n\nAfter selecting the significant variables outlined above, all independent variables were normalized to prevent the undue influence of values with high magnitudes.\n\nAs the main focus of this analysis is to understand the determinants of injury-causing incidents, it was important to have a large sample of those incidents in the dataset. However, these incidents were a small minority of the overall dataset. To prevent unbalanced results, I upsampled injury-causing incidents to have as many observations as property damage-only incidents.\n\n#### 3.3 Model Selection\n\nBecause of the relatively high number of observations and explanatory variables, I decided to pick the model based on a very small subset of the observations, just 1%. This method was used to pick between k-nearest neigbors (KNN), decision tree, support vector machine (SVM), and logistic regression models. I then applied the selected model development methodology to a full training set of 80% of incidents, and tested it against a test set of 20% of observations.\n"
        },
        {
            "cell_type": "markdown",
            "metadata": {},
            "source": "### 4. Results section"
        },
        {
            "cell_type": "markdown",
            "metadata": {},
            "source": "#### Optimum Model\n\nI looked at a full range of model diagnostics, including overall accuracy, f1 scores, jaggard scores, and injury precision and recall. As error in the model is literally a matter of life and death for First Responders, in Seattle, I focused more on optimizing injury recall than other metrics.\n\nOn these critera, the support vector machine performed best, with a recall of 0.82. Even though the overall model accuracy was relatively lower than the logistic regression (70% compared to 71%), the logistic regression has an incident recall of only 79%. The KNN model had a similar recall (80%), but a lower accuracy (79%) and a much longer run-time. See table below for full model selection metrics.\n\n<table>\n  <thead>\n    <tr>\n      <th>Model</th>\n      <th>Injury Recall</th>\n      <th>Test Accuracy</th>\n      <th>F1 Score</th>\n      <th>Jaggard Score</th>\n      <th>Log Loss</th>\n    </tr>\n  </thead>\n  <tbody>\n    <tr>\n      <td>KNN</td>\n      <td>0.80</td>\n      <td>0.69</td>\n      <td>0.69</td>\n      <td>0.69</td>\n      <td>N/A</td>\n    </tr>\n    <tr>\n      <td>Decision Tree</td>\n      <td>0.57</td>\n      <td>0.66</td>\n      <td>0.66</td>\n      <td>0.66</td>\n      <td>N/A</td>\n    </tr>\n    <tr>\n      <td>SVM</td>\n      <td>0.82</td>\n      <td>0.70</td>\n      <td>0.69</td>\n      <td>0.70</td>\n      <td>N/A</td>\n    </tr>\n    <tr>\n      <td>Log Reg</td>\n      <td>0.79</td>\n      <td>0.70</td>\n      <td>0.70</td>\n      <td>0.70</td>\n      <td>0.56</td>\n    </tr>\n  </tbody>\n</table>\n"
        },
        {
            "cell_type": "markdown",
            "metadata": {},
            "source": "### 5. Discussion."
        },
        {
            "cell_type": "markdown",
            "metadata": {},
            "source": "In the short term, this model gives an actionable tool to First Responders as they priortize which incidents to respond to first. To the extent that this data is available in real time, First Responders will be able to fairly accurately predict which incidents are likely to have caused an injury.\n\nA major limitation to this approach is that some of the data may not be known until hours or days after the incident has occured - and may even be collected by first responders themselves. This thus limits the usefulness of this model for real-time deployment to the extent that data may be readily and quickly ingested.\n\nIn the long term, the model can be used as a deterministic tool to evaluate policy changes that may have big impacts on public health. For example, it was found that speeding, inattention, and driving under the influence all had big impacts on the likelihood of the incident causing bodily harm. These are all behaviors that can be changed through careful public messaging campaigns. Other factors - like the number of pedestrians and cyclists - can hopefully be avoided through public signage, prioritizing pedestrian-only zones, protected bike lanes, or other precautionary measures. This tool can be readily adapted to inform any public works debate in Seattle."
        },
        {
            "cell_type": "markdown",
            "metadata": {},
            "source": "### 6. Conclusion"
        },
        {
            "cell_type": "markdown",
            "metadata": {},
            "source": "This project used publicly available traffic incident data from the city of Seattle to create a deployable model to predict which incidents are most likely to cause bodily harm. Using a support vector machine learning algorithm, this model has identified the factors of an incident most likely to cause harm, which may allow first responders to better target their response activities. In the long run, the deterministic aspects of this model may been into the city of Seattle's future infrastructure improvements and public health messaging to reduce the number of traffic incidents, or at least reduce the harm from those incidents, overall."
        },
        {
            "cell_type": "code",
            "execution_count": null,
            "metadata": {},
            "outputs": [],
            "source": ""
        }
    ],
    "metadata": {
        "kernelspec": {
            "display_name": "Python 3.6",
            "language": "python",
            "name": "python3"
        },
        "language_info": {
            "codemirror_mode": {
                "name": "ipython",
                "version": 3
            },
            "file_extension": ".py",
            "mimetype": "text/x-python",
            "name": "python",
            "nbconvert_exporter": "python",
            "pygments_lexer": "ipython3",
            "version": "3.6.9"
        }
    },
    "nbformat": 4,
    "nbformat_minor": 1
}
