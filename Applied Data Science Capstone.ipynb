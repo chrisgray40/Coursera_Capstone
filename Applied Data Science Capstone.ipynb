{
    "cells": [
        {
            "metadata": {
                "collapsed": true
            },
            "cell_type": "markdown",
            "source": "## IBM Data Science Professional"
        },
        {
            "metadata": {},
            "cell_type": "markdown",
            "source": "Applied Data Science Capstone, Chris Gray, September 2020"
        },
        {
            "metadata": {},
            "cell_type": "markdown",
            "source": "First, let's import the necessary libraries..."
        },
        {
            "metadata": {},
            "cell_type": "code",
            "source": "import itertools\nimport numpy as np\nimport pylab as pl\nimport pandas as pd",
            "execution_count": 25,
            "outputs": []
        },
        {
            "metadata": {},
            "cell_type": "markdown",
            "source": "### Data understanding:\nIn this phase, you need to collect or extract the dataset from various sources such as csv file or SQL database. Then, you need to determine the attributes (columns) that you will use to train your machine learning model. Also, you will assess the condition of chosen attributes by looking for trends, certain patterns, skewed information, correlations, and so on."
        },
        {
            "metadata": {},
            "cell_type": "code",
            "source": "!wget -O Data-Collisions.csv https://raw.githubusercontent.com/chrisgray40/Coursera_Capstone/master/Data-Collisions.csv\ndf = pd.read_csv('Data-Collisions.csv', error_bad_lines=False)",
            "execution_count": 26,
            "outputs": [
                {
                    "output_type": "stream",
                    "text": "--2020-09-13 13:55:41--  https://raw.githubusercontent.com/chrisgray40/Coursera_Capstone/master/Data-Collisions.csv\nResolving raw.githubusercontent.com (raw.githubusercontent.com)... 199.232.8.133\nConnecting to raw.githubusercontent.com (raw.githubusercontent.com)|199.232.8.133|:443... connected.\nHTTP request sent, awaiting response... 200 OK\nLength: 72431093 (69M) [text/plain]\nSaving to: \u2018Data-Collisions.csv\u2019\n\n100%[======================================>] 72,431,093   152MB/s   in 0.5s   \n\n2020-09-13 13:55:42 (152 MB/s) - \u2018Data-Collisions.csv\u2019 saved [72431093/72431093]\n\n",
                    "name": "stdout"
                }
            ]
        },
        {
            "metadata": {},
            "cell_type": "code",
            "source": "df.head()",
            "execution_count": 27,
            "outputs": [
                {
                    "output_type": "execute_result",
                    "execution_count": 27,
                    "data": {
                        "text/plain": "   SEVERITYCODE           X          Y  OBJECTID  INCKEY  COLDETKEY REPORTNO  \\\n0             2 -122.323148  47.703140         1    1307       1307  3502005   \n1             1 -122.347294  47.647172         2   52200      52200  2607959   \n2             1 -122.334540  47.607871         3   26700      26700  1482393   \n3             1 -122.334803  47.604803         4    1144       1144  3503937   \n4             2 -122.306426  47.545739         5   17700      17700  1807429   \n\n    STATUS      ADDRTYPE   INTKEY  ... ROADCOND                LIGHTCOND  \\\n0  Matched  Intersection  37475.0  ...      Wet                 Daylight   \n1  Matched         Block      NaN  ...      Wet  Dark - Street Lights On   \n2  Matched         Block      NaN  ...      Dry                 Daylight   \n3  Matched         Block      NaN  ...      Dry                 Daylight   \n4  Matched  Intersection  34387.0  ...      Wet                 Daylight   \n\n  PEDROWNOTGRNT SDOTCOLNUM SPEEDING  ST_COLCODE  \\\n0           NaN        NaN      NaN          10   \n1           NaN  6354039.0      NaN          11   \n2           NaN  4323031.0      NaN          32   \n3           NaN        NaN      NaN          23   \n4           NaN  4028032.0      NaN          10   \n\n                                          ST_COLDESC  SEGLANEKEY  \\\n0                                  Entering at angle           0   \n1  From same direction - both going straight - bo...           0   \n2                             One parked--one moving           0   \n3                   From same direction - all others           0   \n4                                  Entering at angle           0   \n\n   CROSSWALKKEY HITPARKEDCAR  \n0             0            N  \n1             0            N  \n2             0            N  \n3             0            N  \n4             0            N  \n\n[5 rows x 37 columns]",
                        "text/html": "<div>\n<style scoped>\n    .dataframe tbody tr th:only-of-type {\n        vertical-align: middle;\n    }\n\n    .dataframe tbody tr th {\n        vertical-align: top;\n    }\n\n    .dataframe thead th {\n        text-align: right;\n    }\n</style>\n<table border=\"1\" class=\"dataframe\">\n  <thead>\n    <tr style=\"text-align: right;\">\n      <th></th>\n      <th>SEVERITYCODE</th>\n      <th>X</th>\n      <th>Y</th>\n      <th>OBJECTID</th>\n      <th>INCKEY</th>\n      <th>COLDETKEY</th>\n      <th>REPORTNO</th>\n      <th>STATUS</th>\n      <th>ADDRTYPE</th>\n      <th>INTKEY</th>\n      <th>...</th>\n      <th>ROADCOND</th>\n      <th>LIGHTCOND</th>\n      <th>PEDROWNOTGRNT</th>\n      <th>SDOTCOLNUM</th>\n      <th>SPEEDING</th>\n      <th>ST_COLCODE</th>\n      <th>ST_COLDESC</th>\n      <th>SEGLANEKEY</th>\n      <th>CROSSWALKKEY</th>\n      <th>HITPARKEDCAR</th>\n    </tr>\n  </thead>\n  <tbody>\n    <tr>\n      <th>0</th>\n      <td>2</td>\n      <td>-122.323148</td>\n      <td>47.703140</td>\n      <td>1</td>\n      <td>1307</td>\n      <td>1307</td>\n      <td>3502005</td>\n      <td>Matched</td>\n      <td>Intersection</td>\n      <td>37475.0</td>\n      <td>...</td>\n      <td>Wet</td>\n      <td>Daylight</td>\n      <td>NaN</td>\n      <td>NaN</td>\n      <td>NaN</td>\n      <td>10</td>\n      <td>Entering at angle</td>\n      <td>0</td>\n      <td>0</td>\n      <td>N</td>\n    </tr>\n    <tr>\n      <th>1</th>\n      <td>1</td>\n      <td>-122.347294</td>\n      <td>47.647172</td>\n      <td>2</td>\n      <td>52200</td>\n      <td>52200</td>\n      <td>2607959</td>\n      <td>Matched</td>\n      <td>Block</td>\n      <td>NaN</td>\n      <td>...</td>\n      <td>Wet</td>\n      <td>Dark - Street Lights On</td>\n      <td>NaN</td>\n      <td>6354039.0</td>\n      <td>NaN</td>\n      <td>11</td>\n      <td>From same direction - both going straight - bo...</td>\n      <td>0</td>\n      <td>0</td>\n      <td>N</td>\n    </tr>\n    <tr>\n      <th>2</th>\n      <td>1</td>\n      <td>-122.334540</td>\n      <td>47.607871</td>\n      <td>3</td>\n      <td>26700</td>\n      <td>26700</td>\n      <td>1482393</td>\n      <td>Matched</td>\n      <td>Block</td>\n      <td>NaN</td>\n      <td>...</td>\n      <td>Dry</td>\n      <td>Daylight</td>\n      <td>NaN</td>\n      <td>4323031.0</td>\n      <td>NaN</td>\n      <td>32</td>\n      <td>One parked--one moving</td>\n      <td>0</td>\n      <td>0</td>\n      <td>N</td>\n    </tr>\n    <tr>\n      <th>3</th>\n      <td>1</td>\n      <td>-122.334803</td>\n      <td>47.604803</td>\n      <td>4</td>\n      <td>1144</td>\n      <td>1144</td>\n      <td>3503937</td>\n      <td>Matched</td>\n      <td>Block</td>\n      <td>NaN</td>\n      <td>...</td>\n      <td>Dry</td>\n      <td>Daylight</td>\n      <td>NaN</td>\n      <td>NaN</td>\n      <td>NaN</td>\n      <td>23</td>\n      <td>From same direction - all others</td>\n      <td>0</td>\n      <td>0</td>\n      <td>N</td>\n    </tr>\n    <tr>\n      <th>4</th>\n      <td>2</td>\n      <td>-122.306426</td>\n      <td>47.545739</td>\n      <td>5</td>\n      <td>17700</td>\n      <td>17700</td>\n      <td>1807429</td>\n      <td>Matched</td>\n      <td>Intersection</td>\n      <td>34387.0</td>\n      <td>...</td>\n      <td>Wet</td>\n      <td>Daylight</td>\n      <td>NaN</td>\n      <td>4028032.0</td>\n      <td>NaN</td>\n      <td>10</td>\n      <td>Entering at angle</td>\n      <td>0</td>\n      <td>0</td>\n      <td>N</td>\n    </tr>\n  </tbody>\n</table>\n<p>5 rows \u00d7 37 columns</p>\n</div>"
                    },
                    "metadata": {}
                }
            ]
        },
        {
            "metadata": {},
            "cell_type": "markdown",
            "source": "First things first: Severity Code, our target variable"
        },
        {
            "metadata": {},
            "cell_type": "code",
            "source": "df['SEVERITYCODE'].value_counts(dropna=False)\n",
            "execution_count": 28,
            "outputs": [
                {
                    "output_type": "execute_result",
                    "execution_count": 28,
                    "data": {
                        "text/plain": "1    136485\n2     58188\nName: SEVERITYCODE, dtype: int64"
                    },
                    "metadata": {}
                }
            ]
        },
        {
            "metadata": {},
            "cell_type": "markdown",
            "source": "Since we really care about 2 - bodily injury, let's recode to 0, 1"
        },
        {
            "metadata": {},
            "cell_type": "code",
            "source": "df['SEVERITYCODE'].replace(to_replace=1, value=0, inplace=True)\ndf['SEVERITYCODE'].replace(to_replace=2, value=1, inplace=True)\ndf['SEVERITYCODE'].value_counts(dropna=False)",
            "execution_count": 29,
            "outputs": [
                {
                    "output_type": "execute_result",
                    "execution_count": 29,
                    "data": {
                        "text/plain": "0    136485\n1     58188\nName: SEVERITYCODE, dtype: int64"
                    },
                    "metadata": {}
                }
            ]
        },
        {
            "metadata": {},
            "cell_type": "markdown",
            "source": "Let's start by looking at Address type. Does this have any impact on our Severity Score?"
        },
        {
            "metadata": {
                "scrolled": true
            },
            "cell_type": "code",
            "source": "# Address Type\ndf['ADDRTYPE'].value_counts(dropna=False)\n",
            "execution_count": 30,
            "outputs": [
                {
                    "output_type": "execute_result",
                    "execution_count": 30,
                    "data": {
                        "text/plain": "Block           126926\nIntersection     65070\nNaN               1926\nAlley              751\nName: ADDRTYPE, dtype: int64"
                    },
                    "metadata": {}
                }
            ]
        },
        {
            "metadata": {},
            "cell_type": "code",
            "source": "df.groupby(['ADDRTYPE'])['SEVERITYCODE'].value_counts(normalize=True)",
            "execution_count": 31,
            "outputs": [
                {
                    "output_type": "execute_result",
                    "execution_count": 31,
                    "data": {
                        "text/plain": "ADDRTYPE      SEVERITYCODE\nAlley         0               0.890812\n              1               0.109188\nBlock         0               0.762885\n              1               0.237115\nIntersection  0               0.572476\n              1               0.427524\nName: SEVERITYCODE, dtype: float64"
                    },
                    "metadata": {}
                }
            ]
        },
        {
            "metadata": {},
            "cell_type": "markdown",
            "source": "Yes, it does! Intersections are much more dangerous than alleys. This could easily be a function of speed."
        },
        {
            "metadata": {},
            "cell_type": "markdown",
            "source": "Let's move on to Collision Type"
        },
        {
            "metadata": {},
            "cell_type": "code",
            "source": "# Collision Type\ndf['COLLISIONTYPE'].value_counts(dropna=False)",
            "execution_count": 32,
            "outputs": [
                {
                    "output_type": "execute_result",
                    "execution_count": 32,
                    "data": {
                        "text/plain": "Parked Car    47987\nAngles        34674\nRear Ended    34090\nOther         23703\nSideswipe     18609\nLeft Turn     13703\nPedestrian     6608\nCycles         5415\nNaN            4904\nRight Turn     2956\nHead On        2024\nName: COLLISIONTYPE, dtype: int64"
                    },
                    "metadata": {}
                }
            ]
        },
        {
            "metadata": {},
            "cell_type": "code",
            "source": "df.groupby(['COLLISIONTYPE'])['SEVERITYCODE'].value_counts(normalize=True)",
            "execution_count": 33,
            "outputs": [
                {
                    "output_type": "execute_result",
                    "execution_count": 33,
                    "data": {
                        "text/plain": "COLLISIONTYPE  SEVERITYCODE\nAngles         0               0.607083\n               1               0.392917\nCycles         1               0.876085\n               0               0.123915\nHead On        0               0.569170\n               1               0.430830\nLeft Turn      0               0.605123\n               1               0.394877\nOther          0               0.742142\n               1               0.257858\nParked Car     0               0.944527\n               1               0.055473\nPedestrian     1               0.898305\n               0               0.101695\nRear Ended     0               0.569639\n               1               0.430361\nRight Turn     0               0.793978\n               1               0.206022\nSideswipe      0               0.865334\n               1               0.134666\nName: SEVERITYCODE, dtype: float64"
                    },
                    "metadata": {}
                }
            ]
        },
        {
            "metadata": {},
            "cell_type": "markdown",
            "source": "Definite trends with Collision type. It appears that collisions at angles, head on, left turn, and rear end lead to the most severe crashes.\nCycles, sideswipes, etc are less dangerous"
        },
        {
            "metadata": {},
            "cell_type": "markdown",
            "source": "Moving on to Person Count"
        },
        {
            "metadata": {
                "scrolled": true
            },
            "cell_type": "code",
            "source": "# Person Count\ndf['PERSONCOUNT'].value_counts(dropna=False)",
            "execution_count": 34,
            "outputs": [
                {
                    "output_type": "execute_result",
                    "execution_count": 34,
                    "data": {
                        "text/plain": "2     114231\n3      35553\n4      14660\n1      13154\n5       6584\n0       5544\n6       2702\n7       1131\n8        533\n9        216\n10       128\n11        56\n12        33\n13        21\n14        19\n15        11\n17        11\n16         8\n44         6\n18         6\n20         6\n25         6\n19         5\n26         4\n22         4\n27         3\n28         3\n29         3\n47         3\n32         3\n34         3\n37         3\n23         2\n21         2\n24         2\n30         2\n36         2\n57         1\n31         1\n35         1\n39         1\n41         1\n43         1\n48         1\n53         1\n54         1\n81         1\nName: PERSONCOUNT, dtype: int64"
                    },
                    "metadata": {}
                }
            ]
        },
        {
            "metadata": {},
            "cell_type": "markdown",
            "source": "Pretty big spread of persons here. Let's group into 1, 2, 3, 4, and 5+ "
        },
        {
            "metadata": {},
            "cell_type": "code",
            "source": "df['PERSONCOUNT'].where(df['PERSONCOUNT'] < 5,5,inplace=True)\ndf['PERSONCOUNT'].value_counts(dropna=False)",
            "execution_count": 35,
            "outputs": [
                {
                    "output_type": "execute_result",
                    "execution_count": 35,
                    "data": {
                        "text/plain": "2    114231\n3     35553\n4     14660\n1     13154\n5     11531\n0      5544\nName: PERSONCOUNT, dtype: int64"
                    },
                    "metadata": {}
                }
            ]
        },
        {
            "metadata": {},
            "cell_type": "code",
            "source": "from scipy import stats\npearson_coef, p_value = stats.pearsonr(df['PERSONCOUNT'], df['SEVERITYCODE'])\nprint(\"The Pearson Correlation Coefficient is\", pearson_coef, \" with a P-value of P =\", p_value)",
            "execution_count": 36,
            "outputs": [
                {
                    "output_type": "stream",
                    "text": "The Pearson Correlation Coefficient is 0.14719105647071537  with a P-value of P = 0.0\n",
                    "name": "stdout"
                }
            ]
        },
        {
            "metadata": {},
            "cell_type": "markdown",
            "source": "Clear trend here that the more people involved, the higher the severity. "
        },
        {
            "metadata": {},
            "cell_type": "markdown",
            "source": "Moving on, looking at Number of Pedestrians:"
        },
        {
            "metadata": {
                "scrolled": true
            },
            "cell_type": "code",
            "source": "# Ped Count\ndf['PEDCOUNT'].value_counts(dropna=False)",
            "execution_count": 37,
            "outputs": [
                {
                    "output_type": "execute_result",
                    "execution_count": 37,
                    "data": {
                        "text/plain": "0    187734\n1      6685\n2       226\n3        22\n4         4\n6         1\n5         1\nName: PEDCOUNT, dtype: int64"
                    },
                    "metadata": {}
                }
            ]
        },
        {
            "metadata": {
                "scrolled": false
            },
            "cell_type": "code",
            "source": "df.groupby(['PEDCOUNT'])['SEVERITYCODE'].value_counts(normalize=True)",
            "execution_count": 38,
            "outputs": [
                {
                    "output_type": "execute_result",
                    "execution_count": 38,
                    "data": {
                        "text/plain": "PEDCOUNT  SEVERITYCODE\n0         0               0.723295\n          1               0.276705\n1         1               0.898579\n          0               0.101421\n2         1               0.915929\n          0               0.084071\n3         1               0.954545\n          0               0.045455\n4         1               1.000000\n5         1               1.000000\n6         1               1.000000\nName: SEVERITYCODE, dtype: float64"
                    },
                    "metadata": {}
                }
            ]
        },
        {
            "metadata": {},
            "cell_type": "code",
            "source": "pearson_coef, p_value = stats.pearsonr(df['PEDCOUNT'], df['SEVERITYCODE'])\nprint(\"The Pearson Correlation Coefficient is\", pearson_coef, \" with a P-value of P =\", p_value)",
            "execution_count": 39,
            "outputs": [
                {
                    "output_type": "stream",
                    "text": "The Pearson Correlation Coefficient is 0.24633815772800452  with a P-value of P = 0.0\n",
                    "name": "stdout"
                }
            ]
        },
        {
            "metadata": {},
            "cell_type": "markdown",
            "source": "Wow. Involving a single pedestrian makes the severity rate absolutely skyrocket. Let's create an indicator for \"0 pedestrians\" in addition to the continuous field."
        },
        {
            "metadata": {
                "scrolled": true
            },
            "cell_type": "code",
            "source": "df['PEDCOUNT_0'] = 0\ndf.loc[df['PEDCOUNT'] >= 1, ['PEDCOUNT_0']] = 1\ndf.groupby(['PEDCOUNT'])['PEDCOUNT_0'].value_counts(normalize=True)",
            "execution_count": 40,
            "outputs": [
                {
                    "output_type": "execute_result",
                    "execution_count": 40,
                    "data": {
                        "text/plain": "PEDCOUNT  PEDCOUNT_0\n0         0             1.0\n1         1             1.0\n2         1             1.0\n3         1             1.0\n4         1             1.0\n5         1             1.0\n6         1             1.0\nName: PEDCOUNT_0, dtype: float64"
                    },
                    "metadata": {}
                }
            ]
        },
        {
            "metadata": {},
            "cell_type": "code",
            "source": "pearson_coef, p_value = stats.pearsonr(df['PEDCOUNT_0'], df['SEVERITYCODE'])\nprint(\"The Pearson Correlation Coefficient is\", pearson_coef, \" with a P-value of P =\", p_value)",
            "execution_count": 41,
            "outputs": [
                {
                    "output_type": "stream",
                    "text": "The Pearson Correlation Coefficient is 0.25219835429145654  with a P-value of P = 0.0\n",
                    "name": "stdout"
                }
            ]
        },
        {
            "metadata": {},
            "cell_type": "markdown",
            "source": "Let's look at number of Cyclists..."
        },
        {
            "metadata": {
                "scrolled": true
            },
            "cell_type": "code",
            "source": "# Cycle Count\ndf['PEDCYLCOUNT'].value_counts(dropna=False)",
            "execution_count": 42,
            "outputs": [
                {
                    "output_type": "execute_result",
                    "execution_count": 42,
                    "data": {
                        "text/plain": "0    189189\n1      5441\n2        43\nName: PEDCYLCOUNT, dtype: int64"
                    },
                    "metadata": {}
                }
            ]
        },
        {
            "metadata": {
                "scrolled": false
            },
            "cell_type": "code",
            "source": "df.groupby(['PEDCYLCOUNT'])['SEVERITYCODE'].value_counts(normalize=True)",
            "execution_count": 43,
            "outputs": [
                {
                    "output_type": "execute_result",
                    "execution_count": 43,
                    "data": {
                        "text/plain": "PEDCYLCOUNT  SEVERITYCODE\n0            0               0.717832\n             1               0.282168\n1            1               0.875207\n             0               0.124793\n2            1               1.000000\nName: SEVERITYCODE, dtype: float64"
                    },
                    "metadata": {}
                }
            ]
        },
        {
            "metadata": {},
            "cell_type": "code",
            "source": "pearson_coef, p_value = stats.pearsonr(df['PEDCYLCOUNT'], df['SEVERITYCODE'])\nprint(\"The Pearson Correlation Coefficient is\", pearson_coef, \" with a P-value of P =\", p_value)",
            "execution_count": 44,
            "outputs": [
                {
                    "output_type": "stream",
                    "text": "The Pearson Correlation Coefficient is 0.21421818271572407  with a P-value of P = 0.0\n",
                    "name": "stdout"
                }
            ]
        },
        {
            "metadata": {},
            "cell_type": "markdown",
            "source": "And the same is true with Cyclists. Funnily enough, when a car hits a person or a bike, it doesn't end well. Since there are so few with 2 cyclists, let's lump them into the \"1\" category"
        },
        {
            "metadata": {
                "scrolled": true
            },
            "cell_type": "code",
            "source": "df['PEDCYLCOUNT'].replace(to_replace=2, value=1, inplace=True)\ndf.groupby(['PEDCYLCOUNT'])['SEVERITYCODE'].value_counts(normalize=True)",
            "execution_count": 45,
            "outputs": [
                {
                    "output_type": "execute_result",
                    "execution_count": 45,
                    "data": {
                        "text/plain": "PEDCYLCOUNT  SEVERITYCODE\n0            0               0.717832\n             1               0.282168\n1            1               0.876185\n             0               0.123815\nName: SEVERITYCODE, dtype: float64"
                    },
                    "metadata": {}
                }
            ]
        },
        {
            "metadata": {},
            "cell_type": "markdown",
            "source": "Moving on to Vehicle Count"
        },
        {
            "metadata": {
                "scrolled": true
            },
            "cell_type": "code",
            "source": "# Vehicle Count\ndf['VEHCOUNT'].value_counts(dropna=False)\n",
            "execution_count": 46,
            "outputs": [
                {
                    "output_type": "execute_result",
                    "execution_count": 46,
                    "data": {
                        "text/plain": "2     147650\n1      25748\n3      13010\n0       5085\n4       2426\n5        529\n6        146\n7         46\n8         15\n9          9\n11         6\n10         2\n12         1\nName: VEHCOUNT, dtype: int64"
                    },
                    "metadata": {}
                }
            ]
        },
        {
            "metadata": {},
            "cell_type": "markdown",
            "source": "Small sample sizes here above 5 cars, so let's bin them like we did earlier"
        },
        {
            "metadata": {
                "scrolled": true
            },
            "cell_type": "code",
            "source": "df['VEHCOUNT'].where(df['VEHCOUNT'] < 5,5,inplace=True)\ndf['VEHCOUNT'].value_counts(dropna=False)",
            "execution_count": 47,
            "outputs": [
                {
                    "output_type": "execute_result",
                    "execution_count": 47,
                    "data": {
                        "text/plain": "2    147650\n1     25748\n3     13010\n0      5085\n4      2426\n5       754\nName: VEHCOUNT, dtype: int64"
                    },
                    "metadata": {}
                }
            ]
        },
        {
            "metadata": {
                "scrolled": true
            },
            "cell_type": "code",
            "source": "df.groupby(['VEHCOUNT'])['SEVERITYCODE'].value_counts(normalize=True)",
            "execution_count": 48,
            "outputs": [
                {
                    "output_type": "execute_result",
                    "execution_count": 48,
                    "data": {
                        "text/plain": "VEHCOUNT  SEVERITYCODE\n0         0               0.758702\n          1               0.241298\n1         1               0.547810\n          0               0.452190\n2         0               0.756526\n          1               0.243474\n3         0               0.579554\n          1               0.420446\n4         0               0.555647\n          1               0.444353\n5         0               0.523873\n          1               0.476127\nName: SEVERITYCODE, dtype: float64"
                    },
                    "metadata": {}
                }
            ]
        },
        {
            "metadata": {},
            "cell_type": "code",
            "source": "pearson_coef, p_value = stats.pearsonr(df['VEHCOUNT'], df['SEVERITYCODE'])\nprint(\"The Pearson Correlation Coefficient is\", pearson_coef, \" with a P-value of P =\", p_value)",
            "execution_count": 49,
            "outputs": [
                {
                    "output_type": "stream",
                    "text": "The Pearson Correlation Coefficient is -0.05694279764587654  with a P-value of P = 1.6269780702027183e-139\n",
                    "name": "stdout"
                }
            ]
        },
        {
            "metadata": {},
            "cell_type": "markdown",
            "source": "It's not clear if there is a trend here, and correlation coefficient is very low. Let's leave it out."
        },
        {
            "metadata": {},
            "cell_type": "markdown",
            "source": "Moving on to Junction Type"
        },
        {
            "metadata": {
                "scrolled": true
            },
            "cell_type": "code",
            "source": "# Junction Type\ndf['JUNCTIONTYPE'].value_counts(dropna=False)",
            "execution_count": 50,
            "outputs": [
                {
                    "output_type": "execute_result",
                    "execution_count": 50,
                    "data": {
                        "text/plain": "Mid-Block (not related to intersection)              89800\nAt Intersection (intersection related)               62810\nMid-Block (but intersection related)                 22790\nDriveway Junction                                    10671\nNaN                                                   6329\nAt Intersection (but not related to intersection)     2098\nRamp Junction                                          166\nUnknown                                                  9\nName: JUNCTIONTYPE, dtype: int64"
                    },
                    "metadata": {}
                }
            ]
        },
        {
            "metadata": {},
            "cell_type": "code",
            "source": "df.groupby(['JUNCTIONTYPE'])['SEVERITYCODE'].value_counts(normalize=True)",
            "execution_count": 51,
            "outputs": [
                {
                    "output_type": "execute_result",
                    "execution_count": 51,
                    "data": {
                        "text/plain": "JUNCTIONTYPE                                       SEVERITYCODE\nAt Intersection (but not related to intersection)  0               0.703051\n                                                   1               0.296949\nAt Intersection (intersection related)             0               0.567362\n                                                   1               0.432638\nDriveway Junction                                  0               0.696936\n                                                   1               0.303064\nMid-Block (but intersection related)               0               0.679816\n                                                   1               0.320184\nMid-Block (not related to intersection)            0               0.783920\n                                                   1               0.216080\nRamp Junction                                      0               0.674699\n                                                   1               0.325301\nUnknown                                            0               0.777778\n                                                   1               0.222222\nName: SEVERITYCODE, dtype: float64"
                    },
                    "metadata": {}
                }
            ]
        },
        {
            "metadata": {},
            "cell_type": "markdown",
            "source": "Its not clear there's anything happening with Junction Type. This will not go into the model"
        },
        {
            "metadata": {},
            "cell_type": "markdown",
            "source": "SDOT Collision codes"
        },
        {
            "metadata": {},
            "cell_type": "code",
            "source": "df.groupby(['SDOT_COLCODE'])['SEVERITYCODE'].value_counts(normalize=True)",
            "execution_count": 52,
            "outputs": [
                {
                    "output_type": "execute_result",
                    "execution_count": 52,
                    "data": {
                        "text/plain": "SDOT_COLCODE  SEVERITYCODE\n0             0               0.927659\n              1               0.072341\n11            0               0.714373\n              1               0.285627\n12            0               0.981250\n              1               0.018750\n13            0               0.965995\n              1               0.034005\n14            0               0.673143\n              1               0.326857\n15            0               0.953242\n              1               0.046758\n16            0               0.930298\n              1               0.069702\n18            1               0.880799\n              0               0.119201\n21            1               0.773481\n              0               0.226519\n22            1               0.941176\n              0               0.058824\n23            1               0.750000\n              0               0.250000\n24            1               0.897975\n              0               0.102025\n25            0               0.803922\n              1               0.196078\n26            0               0.752584\n              1               0.247416\n27            0               0.783133\n              1               0.216867\n                                ...   \n35            1               0.166667\n36            0               0.750000\n              1               0.250000\n44            1               1.000000\n46            0               1.000000\n47            0               1.000000\n48            0               0.897196\n              1               0.102804\n51            1               0.884146\n              0               0.115854\n52            0               0.500000\n              1               0.500000\n53            1               0.777778\n              0               0.222222\n54            1               0.769784\n              0               0.230216\n55            1               0.800000\n              0               0.200000\n56            1               0.894444\n              0               0.105556\n58            1               1.000000\n61            1               1.000000\n64            1               0.960000\n              0               0.040000\n66            1               0.956522\n              0               0.043478\n68            1               0.750000\n              0               0.250000\n69            1               0.985507\n              0               0.014493\nName: SEVERITYCODE, Length: 73, dtype: float64"
                    },
                    "metadata": {}
                }
            ]
        },
        {
            "metadata": {},
            "cell_type": "markdown",
            "source": "Lots of variety here, however we're also dealing with small sample sizes and an overload of categories. There is a potential unbalanced model concern with this variable"
        },
        {
            "metadata": {},
            "cell_type": "markdown",
            "source": "Inattention"
        },
        {
            "metadata": {},
            "cell_type": "code",
            "source": "# Inattention\ndf['INATTENTIONIND'].value_counts(dropna=False)\n\n# Recode Nan/Y vars to 0/1\ndf['INATTENTIONIND'].replace(to_replace='Y', value=1, inplace=True)\ndf['INATTENTIONIND'] = df['INATTENTIONIND'].fillna(0)\n\ndf['INATTENTIONIND'].value_counts(dropna=False)",
            "execution_count": 53,
            "outputs": [
                {
                    "output_type": "execute_result",
                    "execution_count": 53,
                    "data": {
                        "text/plain": "0.0    164868\n1.0     29805\nName: INATTENTIONIND, dtype: int64"
                    },
                    "metadata": {}
                }
            ]
        },
        {
            "metadata": {
                "scrolled": true
            },
            "cell_type": "code",
            "source": "df.groupby(['INATTENTIONIND'])['SEVERITYCODE'].value_counts(normalize=True)",
            "execution_count": 54,
            "outputs": [
                {
                    "output_type": "execute_result",
                    "execution_count": 54,
                    "data": {
                        "text/plain": "INATTENTIONIND  SEVERITYCODE\n0.0             0               0.710126\n                1               0.289874\n1.0             0               0.651166\n                1               0.348834\nName: SEVERITYCODE, dtype: float64"
                    },
                    "metadata": {}
                }
            ]
        },
        {
            "metadata": {},
            "cell_type": "code",
            "source": "pearson_coef, p_value = stats.pearsonr(df['INATTENTIONIND'], df['SEVERITYCODE'])\nprint(\"The Pearson Correlation Coefficient is\", pearson_coef, \" with a P-value of P =\", p_value)",
            "execution_count": 55,
            "outputs": [
                {
                    "output_type": "stream",
                    "text": "The Pearson Correlation Coefficient is 0.04637771113288977  with a P-value of P = 3.706252804903865e-93\n",
                    "name": "stdout"
                }
            ]
        },
        {
            "metadata": {},
            "cell_type": "markdown",
            "source": "Inattentive drivers are only marginally more likely to cause bodily harm, though it does appear to be statistically significant. This will go into the model"
        },
        {
            "metadata": {},
            "cell_type": "markdown",
            "source": "What about drunk driving?"
        },
        {
            "metadata": {
                "scrolled": false
            },
            "cell_type": "code",
            "source": "# Under Influence\ndf['UNDERINFL'].value_counts(dropna=False)\n\n# Recode N/Y vars to 0/1\ndf['UNDERINFL'].replace(to_replace='N', value=0, inplace=True)\ndf['UNDERINFL'].replace(to_replace='0', value=0, inplace=True)\ndf['UNDERINFL'].replace(to_replace='Y', value=1, inplace=True)\ndf['UNDERINFL'].replace(to_replace='1', value=1, inplace=True)\ndf['UNDERINFL'] = df['UNDERINFL'].fillna(0)\n\ndf['UNDERINFL'].value_counts(dropna=False)",
            "execution_count": 56,
            "outputs": [
                {
                    "output_type": "execute_result",
                    "execution_count": 56,
                    "data": {
                        "text/plain": "0.0    185552\n1.0      9121\nName: UNDERINFL, dtype: int64"
                    },
                    "metadata": {}
                }
            ]
        },
        {
            "metadata": {
                "scrolled": true
            },
            "cell_type": "code",
            "source": "df.groupby(['UNDERINFL'])['SEVERITYCODE'].value_counts(normalize=True)",
            "execution_count": 57,
            "outputs": [
                {
                    "output_type": "execute_result",
                    "execution_count": 57,
                    "data": {
                        "text/plain": "UNDERINFL  SEVERITYCODE\n0.0        0               0.705603\n           1               0.294397\n1.0        0               0.609473\n           1               0.390527\nName: SEVERITYCODE, dtype: float64"
                    },
                    "metadata": {}
                }
            ]
        },
        {
            "metadata": {},
            "cell_type": "code",
            "source": "pearson_coef, p_value = stats.pearsonr(df['UNDERINFL'], df['SEVERITYCODE'])\nprint(\"The Pearson Correlation Coefficient is\", pearson_coef, \" with a P-value of P =\", p_value)",
            "execution_count": 58,
            "outputs": [
                {
                    "output_type": "stream",
                    "text": "The Pearson Correlation Coefficient is 0.0443766229171993  with a P-value of P = 1.908982071929083e-85\n",
                    "name": "stdout"
                }
            ]
        },
        {
            "metadata": {},
            "cell_type": "markdown",
            "source": "Yes, drunk drivers appear to be more likely to cause harm. Into the model it goes."
        },
        {
            "metadata": {},
            "cell_type": "markdown",
            "source": "Does the weather matter?"
        },
        {
            "metadata": {},
            "cell_type": "code",
            "source": "df.groupby(['WEATHER'])['SEVERITYCODE'].value_counts(normalize=True)",
            "execution_count": 59,
            "outputs": [
                {
                    "output_type": "execute_result",
                    "execution_count": 59,
                    "data": {
                        "text/plain": "WEATHER                   SEVERITYCODE\nBlowing Sand/Dirt         0               0.732143\n                          1               0.267857\nClear                     0               0.677509\n                          1               0.322491\nFog/Smog/Smoke            0               0.671353\n                          1               0.328647\nOther                     0               0.860577\n                          1               0.139423\nOvercast                  0               0.684456\n                          1               0.315544\nPartly Cloudy             1               0.600000\n                          0               0.400000\nRaining                   0               0.662815\n                          1               0.337185\nSevere Crosswind          0               0.720000\n                          1               0.280000\nSleet/Hail/Freezing Rain  0               0.752212\n                          1               0.247788\nSnowing                   0               0.811466\n                          1               0.188534\nUnknown                   0               0.945928\n                          1               0.054072\nName: SEVERITYCODE, dtype: float64"
                    },
                    "metadata": {}
                }
            ]
        },
        {
            "metadata": {},
            "cell_type": "markdown",
            "source": "Weather doesn't actually appear to make that much of a difference. We'll leave this one out of the model."
        },
        {
            "metadata": {},
            "cell_type": "markdown",
            "source": "What about the road conditions? After all, that is more directly relevent to driving"
        },
        {
            "metadata": {},
            "cell_type": "code",
            "source": "df.groupby(['ROADCOND'])['SEVERITYCODE'].value_counts(normalize=True)",
            "execution_count": 60,
            "outputs": [
                {
                    "output_type": "execute_result",
                    "execution_count": 60,
                    "data": {
                        "text/plain": "ROADCOND        SEVERITYCODE\nDry             0               0.678227\n                1               0.321773\nIce             0               0.774194\n                1               0.225806\nOil             0               0.625000\n                1               0.375000\nOther           0               0.674242\n                1               0.325758\nSand/Mud/Dirt   0               0.693333\n                1               0.306667\nSnow/Slush      0               0.833665\n                1               0.166335\nStanding Water  0               0.739130\n                1               0.260870\nUnknown         0               0.950325\n                1               0.049675\nWet             0               0.668134\n                1               0.331866\nName: SEVERITYCODE, dtype: float64"
                    },
                    "metadata": {}
                }
            ]
        },
        {
            "metadata": {},
            "cell_type": "markdown",
            "source": "Some strange results here. For example \"unknown\" road conditions only have a 5% severity rate. I'm not sure what that could mean. This will stay out of the model"
        },
        {
            "metadata": {},
            "cell_type": "markdown",
            "source": "Let's move on to light conditions"
        },
        {
            "metadata": {
                "scrolled": true
            },
            "cell_type": "code",
            "source": "# Light Conditions\ndf['LIGHTCOND'].value_counts(dropna=False)",
            "execution_count": 61,
            "outputs": [
                {
                    "output_type": "execute_result",
                    "execution_count": 61,
                    "data": {
                        "text/plain": "Daylight                    116137\nDark - Street Lights On      48507\nUnknown                      13473\nDusk                          5902\nNaN                           5170\nDawn                          2502\nDark - No Street Lights       1537\nDark - Street Lights Off      1199\nOther                          235\nDark - Unknown Lighting         11\nName: LIGHTCOND, dtype: int64"
                    },
                    "metadata": {}
                }
            ]
        },
        {
            "metadata": {},
            "cell_type": "code",
            "source": "df.groupby(['LIGHTCOND'])['SEVERITYCODE'].value_counts(normalize=True)",
            "execution_count": 62,
            "outputs": [
                {
                    "output_type": "execute_result",
                    "execution_count": 62,
                    "data": {
                        "text/plain": "LIGHTCOND                 SEVERITYCODE\nDark - No Street Lights   0               0.782694\n                          1               0.217306\nDark - Street Lights Off  0               0.736447\n                          1               0.263553\nDark - Street Lights On   0               0.701589\n                          1               0.298411\nDark - Unknown Lighting   0               0.636364\n                          1               0.363636\nDawn                      0               0.670663\n                          1               0.329337\nDaylight                  0               0.668116\n                          1               0.331884\nDusk                      0               0.670620\n                          1               0.329380\nOther                     0               0.778723\n                          1               0.221277\nUnknown                   0               0.955095\n                          1               0.044905\nName: SEVERITYCODE, dtype: float64"
                    },
                    "metadata": {}
                }
            ]
        },
        {
            "metadata": {},
            "cell_type": "markdown",
            "source": "Again, it's not particularly clear."
        },
        {
            "metadata": {},
            "cell_type": "markdown",
            "source": "Was right of way not granted?"
        },
        {
            "metadata": {},
            "cell_type": "code",
            "source": "# Right of way not granted?\ndf['PEDROWNOTGRNT'].value_counts(dropna=False)\n\n# Recode N/Y vars to 0/1\ndf['PEDROWNOTGRNT'].replace(to_replace='Y', value=1, inplace=True)\ndf['PEDROWNOTGRNT'] = df['PEDROWNOTGRNT'].fillna(0)\n\ndf['PEDROWNOTGRNT'].value_counts(dropna=False)",
            "execution_count": 63,
            "outputs": [
                {
                    "output_type": "execute_result",
                    "execution_count": 63,
                    "data": {
                        "text/plain": "0.0    190006\n1.0      4667\nName: PEDROWNOTGRNT, dtype: int64"
                    },
                    "metadata": {}
                }
            ]
        },
        {
            "metadata": {
                "scrolled": true
            },
            "cell_type": "code",
            "source": "df.groupby(['PEDROWNOTGRNT'])['SEVERITYCODE'].value_counts(normalize=True)",
            "execution_count": 64,
            "outputs": [
                {
                    "output_type": "execute_result",
                    "execution_count": 64,
                    "data": {
                        "text/plain": "PEDROWNOTGRNT  SEVERITYCODE\n0.0            0               0.715898\n               1               0.284102\n1.0            1               0.901436\n               0               0.098564\nName: SEVERITYCODE, dtype: float64"
                    },
                    "metadata": {}
                }
            ]
        },
        {
            "metadata": {},
            "cell_type": "code",
            "source": "pearson_coef, p_value = stats.pearsonr(df['PEDROWNOTGRNT'], df['SEVERITYCODE'])\nprint(\"The Pearson Correlation Coefficient is\", pearson_coef, \" with a P-value of P =\", p_value)",
            "execution_count": 65,
            "outputs": [
                {
                    "output_type": "stream",
                    "text": "The Pearson Correlation Coefficient is 0.2062830849988825  with a P-value of P = 0.0\n",
                    "name": "stdout"
                }
            ]
        },
        {
            "metadata": {},
            "cell_type": "markdown",
            "source": "Winner winner chicken dinner. in 90% of cases where the right of way was not granted, there was an injury. This is likely tied into the type of collision."
        },
        {
            "metadata": {},
            "cell_type": "markdown",
            "source": "Does speeding matter?"
        },
        {
            "metadata": {
                "scrolled": false
            },
            "cell_type": "code",
            "source": "# Speeding\ndf['SPEEDING'].value_counts(dropna=False)\n\n# Recode N/Y vars to 0/1\ndf['SPEEDING'].replace(to_replace='Y', value=1, inplace=True)\ndf['SPEEDING'] = df['SPEEDING'].fillna(0)\n\ndf['SPEEDING'].value_counts(dropna=False)",
            "execution_count": 66,
            "outputs": [
                {
                    "output_type": "execute_result",
                    "execution_count": 66,
                    "data": {
                        "text/plain": "0.0    185340\n1.0      9333\nName: SPEEDING, dtype: int64"
                    },
                    "metadata": {}
                }
            ]
        },
        {
            "metadata": {
                "scrolled": true
            },
            "cell_type": "code",
            "source": "df.groupby(['SPEEDING'])['SEVERITYCODE'].value_counts(normalize=True)",
            "execution_count": 67,
            "outputs": [
                {
                    "output_type": "execute_result",
                    "execution_count": 67,
                    "data": {
                        "text/plain": "SPEEDING  SEVERITYCODE\n0.0       0               0.705099\n          1               0.294901\n1.0       0               0.621665\n          1               0.378335\nName: SEVERITYCODE, dtype: float64"
                    },
                    "metadata": {}
                }
            ]
        },
        {
            "metadata": {},
            "cell_type": "code",
            "source": "pearson_coef, p_value = stats.pearsonr(df['SPEEDING'], df['SEVERITYCODE'])\nprint(\"The Pearson Correlation Coefficient is\", pearson_coef, \" with a P-value of P =\", p_value)",
            "execution_count": 68,
            "outputs": [
                {
                    "output_type": "stream",
                    "text": "The Pearson Correlation Coefficient is 0.038938339201815754  with a P-value of P = 3.3407402652562895e-66\n",
                    "name": "stdout"
                }
            ]
        },
        {
            "metadata": {},
            "cell_type": "markdown",
            "source": "It appears it matters, at least a little - speeders are 8 percentage points more likely to cause injuries. We'll include this"
        },
        {
            "metadata": {},
            "cell_type": "markdown",
            "source": "Does the State Collision Code matter?"
        },
        {
            "metadata": {},
            "cell_type": "code",
            "source": "df.groupby(['ST_COLDESC'])['SEVERITYCODE'].value_counts(normalize=True)",
            "execution_count": 69,
            "outputs": [
                {
                    "output_type": "execute_result",
                    "execution_count": 69,
                    "data": {
                        "text/plain": "ST_COLDESC                                                                             SEVERITYCODE\nAll Other Multi Vehicle                                                                0               0.625000\n                                                                                       1               0.375000\nAll other non-collision                                                                0               0.703704\n                                                                                       1               0.296296\nBreakage of any part of the vehicle resulting in injury or in further property damage  0               0.735294\n                                                                                       1               0.264706\nDomestic animal other (cat, dog, etc)                                                  0               0.937500\n                                                                                       1               0.062500\nEntering at angle                                                                      0               0.607083\n                                                                                       1               0.392917\nFire started in vehicle                                                                0               0.857143\n                                                                                       1               0.142857\nFixed object                                                                           0               0.757193\n                                                                                       1               0.242807\nFrom opposite direction - all others                                                   0               0.655914\n                                                                                       1               0.344086\nFrom opposite direction - both going straight - one stopped - sideswipe                0               0.774892\n                                                                                       1               0.225108\nFrom opposite direction - both going straight - sideswipe                              0               0.728585\n                                                                                       1               0.271415\nFrom opposite direction - both moving - head-on                                        1               0.632203\n                                                                                       0               0.367797\nFrom opposite direction - one left turn - one right turn                               0               0.828671\n                                                                                       1               0.171329\nFrom opposite direction - one left turn - one straight                                 0               0.551434\n                                                                                       1               0.448566\nFrom opposite direction - one stopped - head-on                                        0               0.613636\n                                                                                       1               0.386364\nFrom same direction - all others                                                       0               0.814856\n                                                                                       1               0.185144\n                                                                                                         ...   \nStrikes or Was Struck by Object from the Load of Another Vehicle                       1               0.222222\nStrikes or Was Struck by a Part of Another Vehicle (Not from Load)                     0               1.000000\nVehicle - Pedalcyclist                                                                 1               0.876835\n                                                                                       0               0.123165\nVehicle Hits City Road or Construction Machinery                                       0               0.820000\n                                                                                       1               0.180000\nVehicle Hits Other Road or Construction Machinery                                      0               0.636364\n                                                                                       1               0.363636\nVehicle Hits State Road or Construction Machinery                                      0               1.000000\nVehicle Strikes All Other Non-Domestic Animal                                          1               1.000000\nVehicle Strikes Deer                                                                   0               1.000000\nVehicle Strikes Pedalcyclist                                                           1               0.855769\n                                                                                       0               0.144231\nVehicle Strikes Railway Vehicle                                                        0               0.771930\n                                                                                       1               0.228070\nVehicle Struck by City Road or Construction Machinery                                  0               1.000000\nVehicle Struck by Other Road or Construction Machinery                                 0               0.777778\n                                                                                       1               0.222222\nVehicle backing hits pedestrian                                                        1               0.902542\n                                                                                       0               0.097458\nVehicle going straight hits pedestrian                                                 1               0.890701\n                                                                                       0               0.109299\nVehicle hits Pedestrian - All Other Actions                                            1               0.864865\n                                                                                       0               0.135135\nVehicle overturned                                                                     1               0.760736\n                                                                                       0               0.239264\nVehicle turning left hits pedestrian                                                   1               0.918733\n                                                                                       0               0.081267\nVehicle turning right hits pedestrian                                                  1               0.881765\n                                                                                       0               0.118235\nName: SEVERITYCODE, Length: 117, dtype: float64"
                    },
                    "metadata": {}
                }
            ]
        },
        {
            "metadata": {},
            "cell_type": "markdown",
            "source": "Probably somewhat, but we're dealing with the same small sample size / too many categories issues that we dealt with with the SDOT data. This will not go into the model"
        },
        {
            "metadata": {},
            "cell_type": "markdown",
            "source": "Last but not least : Did the driver hit a parked car?"
        },
        {
            "metadata": {},
            "cell_type": "code",
            "source": "# Hit Parked Car\ndf['HITPARKEDCAR'].value_counts(dropna=False)\n\n# Recode N/Y vars to 0/1\ndf['HITPARKEDCAR'].replace(to_replace='Y', value=1, inplace=True)\ndf['HITPARKEDCAR'].replace(to_replace='N', value=0, inplace=True)\ndf['HITPARKEDCAR'] = df['HITPARKEDCAR'].fillna(0)\n\ndf['HITPARKEDCAR'].value_counts(dropna=False)",
            "execution_count": 70,
            "outputs": [
                {
                    "output_type": "execute_result",
                    "execution_count": 70,
                    "data": {
                        "text/plain": "0    187457\n1      7216\nName: HITPARKEDCAR, dtype: int64"
                    },
                    "metadata": {}
                }
            ]
        },
        {
            "metadata": {
                "scrolled": true
            },
            "cell_type": "code",
            "source": "df.groupby(['HITPARKEDCAR'])['SEVERITYCODE'].value_counts(normalize=True)",
            "execution_count": 71,
            "outputs": [
                {
                    "output_type": "execute_result",
                    "execution_count": 71,
                    "data": {
                        "text/plain": "HITPARKEDCAR  SEVERITYCODE\n0             0               0.691983\n              1               0.308017\n1             0               0.937916\n              1               0.062084\nName: SEVERITYCODE, dtype: float64"
                    },
                    "metadata": {}
                }
            ]
        },
        {
            "metadata": {},
            "cell_type": "code",
            "source": "pearson_coef, p_value = stats.pearsonr(df['HITPARKEDCAR'], df['SEVERITYCODE'])\nprint(\"The Pearson Correlation Coefficient is\", pearson_coef, \" with a P-value of P =\", p_value)",
            "execution_count": 72,
            "outputs": [
                {
                    "output_type": "stream",
                    "text": "The Pearson Correlation Coefficient is -0.10149784205882276  with a P-value of P = 0.0\n",
                    "name": "stdout"
                }
            ]
        },
        {
            "metadata": {},
            "cell_type": "markdown",
            "source": "Clearly important. If you hit a parked car, you probably didn't do too much bodily harm. This will definitely go in the model."
        },
        {
            "metadata": {},
            "cell_type": "markdown",
            "source": "### Data Preparation:\nThe data preparation includes all the required activities to construct the final dataset which will be fed into the modeling tools. Data preparation can be performed multiple times and it includes balancing the labeled data, transformation, filling missing data, and cleaning the dataset."
        },
        {
            "metadata": {},
            "cell_type": "markdown",
            "source": "First: we're looking for determinants of bodily injury, however this group is undersampled in the dataset. So let's upsample SEVERITYCODE=1 to get more of a robust sample"
        },
        {
            "metadata": {},
            "cell_type": "code",
            "source": "df['SEVERITYCODE'].value_counts(dropna=False)\n\n# change the weighting to over-sample serious injuries\n\n# Model for resampling\nfrom sklearn.utils import resample\n\n# Separate majority and minority classes\ndf_majority = df[df.SEVERITYCODE==0]\ndf_minority = df[df.SEVERITYCODE==1]\n\n# Upsample minority class\ndf_minority_upsampled = resample(df_minority, \n                                 replace=True,     # sample with replacement\n                                 n_samples=136485,    # to match majority class\n                                 random_state=123) # reproducible results\n \n# Combine majority class with upsampled minority class\ndf_upsampled = pd.concat([df_majority, df_minority_upsampled])\n \n# Display new class counts\ndf_upsampled['SEVERITYCODE'].value_counts()\n# 1    576\n# 0    576\n# Name: balance, dtype: int64",
            "execution_count": 73,
            "outputs": [
                {
                    "output_type": "execute_result",
                    "execution_count": 73,
                    "data": {
                        "text/plain": "1    136485\n0    136485\nName: SEVERITYCODE, dtype: int64"
                    },
                    "metadata": {}
                }
            ]
        },
        {
            "metadata": {},
            "cell_type": "markdown",
            "source": "Select the Feature Set.."
        },
        {
            "metadata": {},
            "cell_type": "code",
            "source": "Feature = df_upsampled[['INATTENTIONIND','UNDERINFL','PEDROWNOTGRNT','SPEEDING','HITPARKEDCAR','PEDCOUNT','PEDCOUNT_0','PERSONCOUNT','PEDCYLCOUNT']]",
            "execution_count": 74,
            "outputs": []
        },
        {
            "metadata": {},
            "cell_type": "code",
            "source": "Feature = pd.concat([Feature,pd.get_dummies(df_upsampled['ADDRTYPE'])], axis=1)\nFeature.drop(['Alley'], axis = 1,inplace=True)\n\nFeature = pd.concat([Feature,pd.get_dummies(df_upsampled['COLLISIONTYPE'])], axis=1)\nFeature.drop(['Angles'], axis = 1,inplace=True)\n\nX = Feature",
            "execution_count": 75,
            "outputs": []
        },
        {
            "metadata": {},
            "cell_type": "code",
            "source": "# Normalize the X data\nfrom sklearn import preprocessing\nX= preprocessing.StandardScaler().fit(X).transform(X)\nX[0:5]",
            "execution_count": 76,
            "outputs": [
                {
                    "output_type": "stream",
                    "text": "/opt/conda/envs/Python36/lib/python3.6/site-packages/sklearn/preprocessing/data.py:645: DataConversionWarning: Data with input dtype uint8, int64, float64 were all converted to float64 by StandardScaler.\n  return self.partial_fit(X, y)\n/opt/conda/envs/Python36/lib/python3.6/site-packages/ipykernel/__main__.py:3: DataConversionWarning: Data with input dtype uint8, int64, float64 were all converted to float64 by StandardScaler.\n  app.launch_new_instance()\n",
                    "name": "stderr"
                },
                {
                    "output_type": "execute_result",
                    "execution_count": 76,
                    "data": {
                        "text/plain": "array([[-0.43670817, -0.23070007, -0.1993071 , -0.23296354, -0.17180232,\n        -0.23902672, -0.24502348, -0.42390388, -0.21526527,  0.79576403,\n        -0.77730655, -0.21369548, -0.10868854, -0.28744689, -0.36356721,\n        -0.4819729 , -0.23852175, -0.49508953, -0.1191811 ,  3.37053891],\n       [-0.43670817, -0.23070007, -0.1993071 , -0.23296354, -0.17180232,\n        -0.23902672, -0.24502348,  1.45106944, -0.21526527,  0.79576403,\n        -0.77730655, -0.21369548, -0.10868854, -0.28744689, -0.36356721,\n         2.07480544, -0.23852175, -0.49508953, -0.1191811 , -0.29668846],\n       [-0.43670817, -0.23070007, -0.1993071 , -0.23296354, -0.17180232,\n        -0.23902672, -0.24502348,  0.51358278, -0.21526527,  0.79576403,\n        -0.77730655, -0.21369548, -0.10868854, -0.28744689,  2.75052304,\n        -0.4819729 , -0.23852175, -0.49508953, -0.1191811 , -0.29668846],\n       [-0.43670817, -0.23070007, -0.1993071 , -0.23296354, -0.17180232,\n        -0.23902672, -0.24502348, -0.42390388, -0.21526527, -1.25665393,\n         1.28649372, -0.21369548, -0.10868854, -0.28744689, -0.36356721,\n        -0.4819729 , -0.23852175, -0.49508953, -0.1191811 , -0.29668846],\n       [-0.43670817, -0.23070007, -0.1993071 , -0.23296354, -0.17180232,\n        -0.23902672, -0.24502348, -0.42390388, -0.21526527, -1.25665393,\n         1.28649372, -0.21369548, -0.10868854, -0.28744689, -0.36356721,\n        -0.4819729 , -0.23852175, -0.49508953, -0.1191811 , -0.29668846]])"
                    },
                    "metadata": {}
                }
            ]
        },
        {
            "metadata": {},
            "cell_type": "code",
            "source": "# Set the target variable\ny = df_upsampled['SEVERITYCODE'].values",
            "execution_count": 77,
            "outputs": []
        },
        {
            "metadata": {},
            "cell_type": "markdown",
            "source": "Because the dataset is relatively large, we're going to Train/Test with a very very small training set (1%) just to select the right model. Once optimized, we'll then train on a much larger set."
        },
        {
            "metadata": {},
            "cell_type": "code",
            "source": "# Split the datasets into training and testing data\nfrom sklearn.model_selection import train_test_split\nX_train, X_test, y_train, y_test = train_test_split( X, y, test_size=0.995, random_state=4)\nprint ('Train set:', X_train.shape,  y_train.shape)\nprint ('Test set:', X_test.shape,  y_test.shape)",
            "execution_count": 78,
            "outputs": [
                {
                    "output_type": "stream",
                    "text": "Train set: (1364, 20) (1364,)\nTest set: (271606, 20) (271606,)\n",
                    "name": "stdout"
                }
            ]
        },
        {
            "metadata": {},
            "cell_type": "markdown",
            "source": "### Modeling:\nIn this phase, various algorithms and methods can be selected and applied to build the model including supervised machine learning techniques. You can select SVM, XGBoost, decision tree, or any other techniques. You can select a single or multiple machine learning models for the same data mining problem. At this phase, stepping back to the data preparation phase is often required."
        },
        {
            "metadata": {},
            "cell_type": "markdown",
            "source": "### Model 1: K Nearest Neighbor (KNN)"
        },
        {
            "metadata": {},
            "cell_type": "code",
            "source": "from sklearn.neighbors import KNeighborsClassifier\nfrom sklearn import metrics",
            "execution_count": 79,
            "outputs": []
        },
        {
            "metadata": {},
            "cell_type": "code",
            "source": "import matplotlib.pyplot as plt\nKs = 10\nmean_acc = np.zeros((Ks-1))\nstd_acc = np.zeros((Ks-1))\nConfustionMx = [];\nfor n in range(1,Ks):\n    \n    #Train Model and Predict  \n    neigh = KNeighborsClassifier(n_neighbors = n).fit(X_train,y_train)\n    yhat=neigh.predict(X_test)\n    mean_acc[n-1] = metrics.accuracy_score(y_test, yhat)\n\n    \n    std_acc[n-1]=np.std(yhat==y_test)/np.sqrt(yhat.shape[0])\n\nmean_acc\n\nplt.plot(range(1,Ks),mean_acc,'g')\nplt.fill_between(range(1,Ks),mean_acc - 1 * std_acc,mean_acc + 1 * std_acc, alpha=0.10)\nplt.legend(('Accuracy ', '+/- 3xstd'))\nplt.ylabel('Accuracy ')\nplt.xlabel('Number of Neighbors (K)')\nplt.tight_layout()\nplt.show()\n\nprint( \"The best accuracy was with\", mean_acc.max(), \"with k=\", mean_acc.argmax()+1) ",
            "execution_count": 81,
            "outputs": [
                {
                    "output_type": "display_data",
                    "data": {
                        "text/plain": "<Figure size 432x288 with 1 Axes>",
                        "image/png": "[encoded data removed]"
                    },
                    "metadata": {
                        "needs_background": "light"
                    }
                },
                {
                    "output_type": "stream",
                    "text": "The best accuracy was with 0.6924294750484157 with k= 5\n",
                    "name": "stdout"
                }
            ]
        },
        {
            "metadata": {},
            "cell_type": "code",
            "source": "k = 5\n#Train Model and Predict  \nneigh = KNeighborsClassifier(n_neighbors = k).fit(X_train,y_train)\nneigh\nyhat1 = neigh.predict(X_test)\nyhat1[0:5]",
            "execution_count": 82,
            "outputs": [
                {
                    "output_type": "execute_result",
                    "execution_count": 82,
                    "data": {
                        "text/plain": "array([0, 0, 1, 0, 1])"
                    },
                    "metadata": {}
                }
            ]
        },
        {
            "metadata": {},
            "cell_type": "code",
            "source": "# Add a confusion matrix for KNN\ndef plot_confusion_matrix(cm, classes,\n                          normalize=False,\n                          title='Confusion matrix',\n                          cmap=plt.cm.Blues):\n    \"\"\"\n    This function prints and plots the confusion matrix.\n    Normalization can be applied by setting `normalize=True`.\n    \"\"\"\n    if normalize:\n        cm = cm.astype('float') / cm.sum(axis=1)[:, np.newaxis]\n        print(\"Normalized confusion matrix\")\n    else:\n        print('Confusion matrix, without normalization')\n\n    print(cm)\n\n    plt.imshow(cm, interpolation='nearest', cmap=cmap)\n    plt.title(title)\n    plt.colorbar()\n    tick_marks = np.arange(len(classes))\n    plt.xticks(tick_marks, classes, rotation=45)\n    plt.yticks(tick_marks, classes)\n\n    fmt = '.2f' if normalize else 'd'\n    thresh = cm.max() / 2.\n    for i, j in itertools.product(range(cm.shape[0]), range(cm.shape[1])):\n        plt.text(j, i, format(cm[i, j], fmt),\n                 horizontalalignment=\"center\",\n                 color=\"white\" if cm[i, j] > thresh else \"black\")\n\n    plt.tight_layout()\n    plt.ylabel('True label')\n    plt.xlabel('Predicted label')\n    \n",
            "execution_count": 83,
            "outputs": []
        },
        {
            "metadata": {},
            "cell_type": "code",
            "source": "from sklearn.metrics import classification_report, confusion_matrix, jaccard_similarity_score, f1_score, log_loss",
            "execution_count": 84,
            "outputs": []
        },
        {
            "metadata": {},
            "cell_type": "code",
            "source": "# Compute confusion matrix\ncnf_matrix = confusion_matrix(y_test, yhat1)\nnp.set_printoptions(precision=2)\n\nprint (classification_report(y_test, yhat1))\n\n# Plot non-normalized confusion matrix\nplt.figure()\nplot_confusion_matrix(cnf_matrix, classes=['Property Damage','Injury'],normalize= True,  title='Confusion matrix')",
            "execution_count": 85,
            "outputs": [
                {
                    "output_type": "stream",
                    "text": "              precision    recall  f1-score   support\n\n           0       0.75      0.58      0.65    135821\n           1       0.66      0.80      0.72    135785\n\n   micro avg       0.69      0.69      0.69    271606\n   macro avg       0.70      0.69      0.69    271606\nweighted avg       0.70      0.69      0.69    271606\n\nNormalized confusion matrix\n[[0.58 0.42]\n [0.2  0.8 ]]\n",
                    "name": "stdout"
                },
                {
                    "output_type": "display_data",
                    "data": {
                        "text/plain": "<Figure size 432x288 with 2 Axes>",
                        "image/png": "[encoded data removed]"
                    },
                    "metadata": {
                        "needs_background": "light"
                    }
                }
            ]
        },
        {
            "metadata": {},
            "cell_type": "markdown",
            "source": "### Model 2: Decision Tree"
        },
        {
            "metadata": {},
            "cell_type": "code",
            "source": "from sklearn.tree import DecisionTreeClassifier\n\nTree = DecisionTreeClassifier(criterion=\"entropy\", max_depth = 5)\nTree # it shows the default parameters\n\nTree.fit(X_train,y_train)\n\nyhat2 = Tree.predict(X_test)\n\nprint (yhat2 [0:10])\nprint (y_test [0:10])",
            "execution_count": 86,
            "outputs": [
                {
                    "output_type": "stream",
                    "text": "[0 1 1 0 0 0 1 1 1 0]\n[0 0 1 0 0 1 1 1 1 0]\n",
                    "name": "stdout"
                }
            ]
        },
        {
            "metadata": {},
            "cell_type": "code",
            "source": "# Compute confusion matrix\ncnf_matrix = confusion_matrix(y_test, yhat2)\nnp.set_printoptions(precision=2)\n\nprint (classification_report(y_test, yhat2))\n\n# Plot non-normalized confusion matrix\nplt.figure()\nplot_confusion_matrix(cnf_matrix, classes=['Property Damage','Injury'],normalize= True,  title='Confusion matrix')",
            "execution_count": 87,
            "outputs": [
                {
                    "output_type": "stream",
                    "text": "              precision    recall  f1-score   support\n\n           0       0.63      0.75      0.69    135821\n           1       0.69      0.57      0.63    135785\n\n   micro avg       0.66      0.66      0.66    271606\n   macro avg       0.66      0.66      0.66    271606\nweighted avg       0.66      0.66      0.66    271606\n\nNormalized confusion matrix\n[[0.75 0.25]\n [0.43 0.57]]\n",
                    "name": "stdout"
                },
                {
                    "output_type": "display_data",
                    "data": {
                        "text/plain": "<Figure size 432x288 with 2 Axes>",
                        "image/png": "[encoded data removed]"
                    },
                    "metadata": {
                        "needs_background": "light"
                    }
                }
            ]
        },
        {
            "metadata": {},
            "cell_type": "markdown",
            "source": "### Model 3: Support Vector Machine"
        },
        {
            "metadata": {},
            "cell_type": "code",
            "source": "from sklearn import svm\n\nclf = svm.SVC(kernel='rbf')\nclf.fit(X_train, y_train) \n\nyhat3 = clf.predict(X_test)\nyhat3 [0:5]",
            "execution_count": 88,
            "outputs": [
                {
                    "output_type": "stream",
                    "text": "/opt/conda/envs/Python36/lib/python3.6/site-packages/sklearn/svm/base.py:196: FutureWarning: The default value of gamma will change from 'auto' to 'scale' in version 0.22 to account better for unscaled features. Set gamma explicitly to 'auto' or 'scale' to avoid this warning.\n  \"avoid this warning.\", FutureWarning)\n",
                    "name": "stderr"
                },
                {
                    "output_type": "execute_result",
                    "execution_count": 88,
                    "data": {
                        "text/plain": "array([0, 0, 1, 0, 1])"
                    },
                    "metadata": {}
                }
            ]
        },
        {
            "metadata": {},
            "cell_type": "code",
            "source": "# Compute confusion matrix\ncnf_matrix = confusion_matrix(y_test, yhat3)\nnp.set_printoptions(precision=2)\n\nprint (classification_report(y_test, yhat3))\n\n# Plot non-normalized confusion matrix\nplt.figure()\nplot_confusion_matrix(cnf_matrix, classes=['Property Damage','Injury'],normalize= True,  title='Confusion matrix')\n\n# F1 Score\nf1_score(y_test, yhat3, average='weighted') \n\n# Jaccard\njaccard_similarity_score(y_test, yhat3)",
            "execution_count": 89,
            "outputs": [
                {
                    "output_type": "stream",
                    "text": "              precision    recall  f1-score   support\n\n           0       0.76      0.57      0.65    135821\n           1       0.66      0.82      0.73    135785\n\n   micro avg       0.70      0.70      0.70    271606\n   macro avg       0.71      0.70      0.69    271606\nweighted avg       0.71      0.70      0.69    271606\n\nNormalized confusion matrix\n[[0.57 0.43]\n [0.18 0.82]]\n",
                    "name": "stdout"
                },
                {
                    "output_type": "execute_result",
                    "execution_count": 89,
                    "data": {
                        "text/plain": "0.6960818244074137"
                    },
                    "metadata": {}
                },
                {
                    "output_type": "display_data",
                    "data": {
                        "text/plain": "<Figure size 432x288 with 2 Axes>",
                        "image/png": "[encoded data removed]"
                    },
                    "metadata": {
                        "needs_background": "light"
                    }
                }
            ]
        },
        {
            "metadata": {},
            "cell_type": "markdown",
            "source": "### Model 4: Logistic Regression"
        },
        {
            "metadata": {},
            "cell_type": "code",
            "source": "from sklearn.linear_model import LogisticRegression\n\nLR = LogisticRegression(C=0.01, solver='liblinear').fit(X_train,y_train)\nLR\n\nyhat4 = LR.predict(X_test)\nyhat4\n\nyhat4_prob = LR.predict_proba(X_test)\nyhat4_prob\n\njaccard_similarity_score(y_test, yhat4)\n\nprint(confusion_matrix(y_test, yhat4))\n\n# Compute confusion matrix\ncnf_matrix = confusion_matrix(y_test, yhat4)\nnp.set_printoptions(precision=2)\n\n\n# Plot non-normalized confusion matrix\nplt.figure()\nplot_confusion_matrix(cnf_matrix, classes=['Property Damage','Injury'],normalize= True,  title='Confusion matrix')\n\nfrom sklearn.metrics import log_loss\nlog_loss(y_test, yhat4_prob)",
            "execution_count": 90,
            "outputs": [
                {
                    "output_type": "stream",
                    "text": "[[ 82885  52936]\n [ 28123 107662]]\nNormalized confusion matrix\n[[0.61 0.39]\n [0.21 0.79]]\n",
                    "name": "stdout"
                },
                {
                    "output_type": "execute_result",
                    "execution_count": 90,
                    "data": {
                        "text/plain": "0.5582260823944383"
                    },
                    "metadata": {}
                },
                {
                    "output_type": "display_data",
                    "data": {
                        "text/plain": "<Figure size 432x288 with 2 Axes>",
                        "image/png": "[encoded data removed]"
                    },
                    "metadata": {
                        "needs_background": "light"
                    }
                }
            ]
        },
        {
            "metadata": {},
            "cell_type": "markdown",
            "source": "### Evaluation:\nBefore proceeding to the deployment stage, the model needs to be evaluated thoroughly to ensure that the business or the applications' objectives are achieved. Certain metrics can be used for the model evaluation such as accuracy, recall, F1-score, precision, and others."
        },
        {
            "metadata": {},
            "cell_type": "code",
            "source": "print(\"Model: KNN\")\nprint(\"Test set Accuracy: \", metrics.accuracy_score(y_test, yhat1))\nprint(\"Test F1 Score: \", f1_score(y_test, yhat1, average='weighted'))\nprint(\"Test Jaccard Score: \", jaccard_similarity_score(y_test, yhat1))\nprint(\"\")\nprint(\"Model: Decision Tree\")\nprint(\"Test set Accuracy: \", metrics.accuracy_score(y_test, yhat2))\nprint(\"Test F1 Score: \", f1_score(y_test, yhat2, average='weighted'))\nprint(\"Test Jaccard Score: \", jaccard_similarity_score(y_test, yhat2))\nprint(\"\")\nprint(\"Model: SVM\")\nprint(\"Test set Accuracy: \", metrics.accuracy_score(y_test, yhat3))\nprint(\"Test F1 Score: \", f1_score(y_test, yhat3, average='weighted'))\nprint(\"Test Jaccard Score: \", jaccard_similarity_score(y_test, yhat3))\nprint(\"\")\nprint(\"Model: Log Reg\")\nyhat4_prob = LR.predict_proba(X_test)\nprint(\"Test set Accuracy: \", metrics.accuracy_score(y_test, yhat4))\nprint(\"Test F1 Score: \", f1_score(y_test, yhat4, average='weighted'))\nprint(\"Test Jaccard Score: \", jaccard_similarity_score(y_test, yhat4))\nprint(\"Test Log Loss Score: \", log_loss(y_test, yhat4_prob))",
            "execution_count": 92,
            "outputs": [
                {
                    "output_type": "stream",
                    "text": "Model: KNN\nTest set Accuracy:  0.6924294750484157\nTest F1 Score:  0.6887280730181042\nTest Jaccard Score:  0.6924294750484157\n\nModel: Decision Tree\nTest set Accuracy:  0.6589213787618831\nTest F1 Score:  0.6561451258343262\nTest Jaccard Score:  0.6589213787618831\n\nModel: SVM\nTest set Accuracy:  0.6960818244074137\nTest F1 Score:  0.6913949817434024\nTest Jaccard Score:  0.6960818244074137\n\nModel: Log Reg\nTest set Accuracy:  0.7015566666421214\nTest F1 Score:  0.6990485923016758\nTest Jaccard Score:  0.7015566666421214\nTest Log Loss Score:  0.5582260823944383\n",
                    "name": "stdout"
                }
            ]
        },
        {
            "metadata": {},
            "cell_type": "markdown",
            "source": "### Deployment:\nThe deployment phase requirements vary from project to project. It can be as simple as creating a report, developing interactive visualization, or making the machine learning model available in the production environment. In this environment, the customers or end-users can utilize the model in different ways such as API, website, or so on."
        },
        {
            "metadata": {},
            "cell_type": "code",
            "source": "# Split the datasets into training and testing data\nfrom sklearn.model_selection import train_test_split\nX_train, X_test, y_train, y_test = train_test_split( X, y, test_size=0.2, random_state=4)\nprint ('Train set:', X_train.shape,  y_train.shape)\nprint ('Test set:', X_test.shape,  y_test.shape)",
            "execution_count": 93,
            "outputs": [
                {
                    "output_type": "stream",
                    "text": "Train set: (218376, 20) (218376,)\nTest set: (54594, 20) (54594,)\n",
                    "name": "stdout"
                }
            ]
        },
        {
            "metadata": {},
            "cell_type": "code",
            "source": "clf = svm.SVC(kernel='rbf')\nclf.fit(X_train, y_train) \n\nyhat3 = clf.predict(X_test)\nyhat3 [0:5]",
            "execution_count": null,
            "outputs": [
                {
                    "output_type": "stream",
                    "text": "/opt/conda/envs/Python36/lib/python3.6/site-packages/sklearn/svm/base.py:196: FutureWarning: The default value of gamma will change from 'auto' to 'scale' in version 0.22 to account better for unscaled features. Set gamma explicitly to 'auto' or 'scale' to avoid this warning.\n  \"avoid this warning.\", FutureWarning)\n",
                    "name": "stderr"
                }
            ]
        },
        {
            "metadata": {},
            "cell_type": "code",
            "source": "# Compute confusion matrix\ncnf_matrix = confusion_matrix(y_test, yhat3)\nnp.set_printoptions(precision=2)\n\nprint (classification_report(y_test, yhat3))\n\n# Plot non-normalized confusion matrix\nplt.figure()\nplot_confusion_matrix(cnf_matrix, classes=['Property Damage','Injury'],normalize= True,  title='Confusion matrix')\n\n# F1 Score\nf1_score(y_test, yhat3, average='weighted') \n\n# Jaccard\njaccard_similarity_score(y_test, yhat3)",
            "execution_count": null,
            "outputs": []
        }
    ],
    "metadata": {
        "kernelspec": {
            "name": "python3",
            "display_name": "Python 3.6",
            "language": "python"
        },
        "language_info": {
            "name": "python",
            "version": "3.6.9",
            "mimetype": "text/x-python",
            "codemirror_mode": {
                "name": "ipython",
                "version": 3
            },
            "pygments_lexer": "ipython3",
            "nbconvert_exporter": "python",
            "file_extension": ".py"
        }
    },
    "nbformat": 4,
    "nbformat_minor": 1
}