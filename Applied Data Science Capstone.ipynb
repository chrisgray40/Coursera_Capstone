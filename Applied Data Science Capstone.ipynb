{
    "cells": [
        {
            "metadata": {
                "collapsed": true
            },
            "cell_type": "markdown",
            "source": "## IBM Data Science Professional"
        },
        {
            "metadata": {},
            "cell_type": "markdown",
            "source": "Applied Data Science Capstone, Chris Gray, September 2020"
        },
        {
            "metadata": {},
            "cell_type": "markdown",
            "source": "First, let's import the necessary libraries..."
        },
        {
            "metadata": {},
            "cell_type": "code",
            "source": "import itertools\nimport numpy as np\nimport pylab as pl\nimport pandas as pd",
            "execution_count": 2,
            "outputs": []
        },
        {
            "metadata": {},
            "cell_type": "markdown",
            "source": "### Data understanding:\nIn this phase, you need to collect or extract the dataset from various sources such as csv file or SQL database. Then, you need to determine the attributes (columns) that you will use to train your machine learning model. Also, you will assess the condition of chosen attributes by looking for trends, certain patterns, skewed information, correlations, and so on."
        },
        {
            "metadata": {},
            "cell_type": "code",
            "source": "!wget -O Data-Collisions.csv https://raw.githubusercontent.com/chrisgray40/Coursera_Capstone/master/Data-Collisions.csv\ndf = pd.read_csv('Data-Collisions.csv', error_bad_lines=False)",
            "execution_count": 16,
            "outputs": [
                {
                    "output_type": "stream",
                    "text": "--2020-09-10 19:58:56--  https://raw.githubusercontent.com/chrisgray40/Coursera_Capstone/master/Data-Collisions.csv\nResolving raw.githubusercontent.com (raw.githubusercontent.com)... 199.232.8.133\nConnecting to raw.githubusercontent.com (raw.githubusercontent.com)|199.232.8.133|:443... connected.\nHTTP request sent, awaiting response... 200 OK\nLength: 72431093 (69M) [text/plain]\nSaving to: \u2018Data-Collisions.csv\u2019\n\n100%[======================================>] 72,431,093   141MB/s   in 0.5s   \n\n2020-09-10 19:58:57 (141 MB/s) - \u2018Data-Collisions.csv\u2019 saved [72431093/72431093]\n\n",
                    "name": "stdout"
                }
            ]
        },
        {
            "metadata": {},
            "cell_type": "code",
            "source": "df.head()\ndf.shape",
            "execution_count": 19,
            "outputs": [
                {
                    "output_type": "execute_result",
                    "execution_count": 19,
                    "data": {
                        "text/plain": "(194673, 37)"
                    },
                    "metadata": {}
                }
            ]
        },
        {
            "metadata": {},
            "cell_type": "markdown",
            "source": "Let's start by looking at Address type. Does this have any impact on our Severity Score?"
        },
        {
            "metadata": {
                "scrolled": true
            },
            "cell_type": "code",
            "source": "# Address Type\ndf['ADDRTYPE'].value_counts(dropna=False)\n",
            "execution_count": 24,
            "outputs": [
                {
                    "output_type": "execute_result",
                    "execution_count": 24,
                    "data": {
                        "text/plain": "Block           126926\nIntersection     65070\nNaN               1926\nAlley              751\nName: ADDRTYPE, dtype: int64"
                    },
                    "metadata": {}
                }
            ]
        },
        {
            "metadata": {},
            "cell_type": "code",
            "source": "df.groupby(['ADDRTYPE'])['SEVERITYCODE'].value_counts(normalize=True)",
            "execution_count": 107,
            "outputs": [
                {
                    "output_type": "execute_result",
                    "execution_count": 107,
                    "data": {
                        "text/plain": "ADDRTYPE      SEVERITYCODE\nAlley         1               0.890812\n              2               0.109188\nBlock         1               0.762885\n              2               0.237115\nIntersection  1               0.572476\n              2               0.427524\nName: SEVERITYCODE, dtype: float64"
                    },
                    "metadata": {}
                }
            ]
        },
        {
            "metadata": {},
            "cell_type": "markdown",
            "source": "Yes, it does! Intersections are much more dangerous than alleys. This could easily be a function of speed."
        },
        {
            "metadata": {},
            "cell_type": "markdown",
            "source": "Let's move on to Collision Type"
        },
        {
            "metadata": {},
            "cell_type": "code",
            "source": "# Collision Type\ndf['COLLISIONTYPE'].value_counts(dropna=False)\n\ndf.groupby(['COLLISIONTYPE'])['SEVERITYCODE'].value_counts(normalize=True)",
            "execution_count": 77,
            "outputs": [
                {
                    "output_type": "execute_result",
                    "execution_count": 77,
                    "data": {
                        "text/plain": "COLLISIONTYPE  SEVERITYCODE\nAngles         1               0.607083\n               2               0.392917\nCycles         2               0.876085\n               1               0.123915\nHead On        1               0.569170\n               2               0.430830\nLeft Turn      1               0.605123\n               2               0.394877\nOther          1               0.742142\n               2               0.257858\nParked Car     1               0.944527\n               2               0.055473\nPedestrian     2               0.898305\n               1               0.101695\nRear Ended     1               0.569639\n               2               0.430361\nRight Turn     1               0.793978\n               2               0.206022\nSideswipe      1               0.865334\n               2               0.134666\nName: SEVERITYCODE, dtype: float64"
                    },
                    "metadata": {}
                }
            ]
        },
        {
            "metadata": {},
            "cell_type": "markdown",
            "source": "Definite trends with Collision type. It appears that collisions at angles, head on, left turn, and rear end lead to the most severe crashes.\nCycles, sideswipes, etc are less dangerous"
        },
        {
            "metadata": {},
            "cell_type": "code",
            "source": "# Person Count\ndf['PERSONCOUNT'].value_counts(dropna=False)",
            "execution_count": 26,
            "outputs": [
                {
                    "output_type": "execute_result",
                    "execution_count": 26,
                    "data": {
                        "text/plain": "2     114231\n3      35553\n4      14660\n1      13154\n5       6584\n0       5544\n6       2702\n7       1131\n8        533\n9        216\n10       128\n11        56\n12        33\n13        21\n14        19\n15        11\n17        11\n16         8\n44         6\n18         6\n20         6\n25         6\n19         5\n26         4\n22         4\n27         3\n28         3\n29         3\n47         3\n32         3\n34         3\n37         3\n23         2\n21         2\n24         2\n30         2\n36         2\n57         1\n31         1\n35         1\n39         1\n41         1\n43         1\n48         1\n53         1\n54         1\n81         1\nName: PERSONCOUNT, dtype: int64"
                    },
                    "metadata": {}
                }
            ]
        },
        {
            "metadata": {},
            "cell_type": "markdown",
            "source": "Pretty big spread of persons here. Let's group into 1, 2, 3, 4, and 5+ "
        },
        {
            "metadata": {},
            "cell_type": "code",
            "source": "bins = [0, 1, 2, 3, 4, 1000]\ndf['PERSONCOUNT_grouped'] = pd.cut(df['PERSONCOUNT'], bins)\ndf['PERSONCOUNT_grouped'].value_counts(dropna=False)",
            "execution_count": 90,
            "outputs": [
                {
                    "output_type": "execute_result",
                    "execution_count": 90,
                    "data": {
                        "text/plain": "(1.0, 2.0]       114231\n(2.0, 3.0]        35553\n(3.0, 4.0]        14660\n(0.0, 1.0]        13154\n(4.0, 1000.0]     11531\nNaN                5544\nName: PERSONCOUNT_grouped, dtype: int64"
                    },
                    "metadata": {}
                }
            ]
        },
        {
            "metadata": {
                "scrolled": true
            },
            "cell_type": "code",
            "source": "df.groupby(['PERSONCOUNT_grouped'])['SEVERITYCODE'].value_counts(normalize=True)",
            "execution_count": 91,
            "outputs": [
                {
                    "output_type": "execute_result",
                    "execution_count": 91,
                    "data": {
                        "text/plain": "PERSONCOUNT_grouped  SEVERITYCODE\n(0, 1]               1               0.749430\n                     2               0.250570\n(1, 2]               1               0.756537\n                     2               0.243463\n(2, 3]               1               0.621382\n                     2               0.378618\n(3, 4]               1               0.570600\n                     2               0.429400\n(4, 1000]            1               0.517561\n                     2               0.482439\nName: SEVERITYCODE, dtype: float64"
                    },
                    "metadata": {}
                }
            ]
        },
        {
            "metadata": {},
            "cell_type": "markdown",
            "source": "Clear trend here that the more people involved, the higher the severity. "
        },
        {
            "metadata": {},
            "cell_type": "markdown",
            "source": "Moving on, looking at Number of Pedestrians:"
        },
        {
            "metadata": {
                "scrolled": true
            },
            "cell_type": "code",
            "source": "# Ped Count\ndf['PEDCOUNT'].value_counts(dropna=False)",
            "execution_count": 83,
            "outputs": [
                {
                    "output_type": "execute_result",
                    "execution_count": 83,
                    "data": {
                        "text/plain": "0    187734\n1      6685\n2       226\n3        22\n4         4\n6         1\n5         1\nName: PEDCOUNT, dtype: int64"
                    },
                    "metadata": {}
                }
            ]
        },
        {
            "metadata": {
                "scrolled": true
            },
            "cell_type": "code",
            "source": "df.groupby(['PEDCOUNT'])['SEVERITYCODE'].value_counts(normalize=True)",
            "execution_count": 84,
            "outputs": [
                {
                    "output_type": "execute_result",
                    "execution_count": 84,
                    "data": {
                        "text/plain": "PEDCOUNT  SEVERITYCODE\n0         1               0.723295\n          2               0.276705\n1         2               0.898579\n          1               0.101421\n2         2               0.915929\n          1               0.084071\n3         2               0.954545\n          1               0.045455\n4         2               1.000000\n5         2               1.000000\n6         2               1.000000\nName: SEVERITYCODE, dtype: float64"
                    },
                    "metadata": {}
                }
            ]
        },
        {
            "metadata": {},
            "cell_type": "markdown",
            "source": "Wow. Involving a single pedestrian makes the severity rate absolutely skyrocket"
        },
        {
            "metadata": {},
            "cell_type": "markdown",
            "source": "Let's look at number of Cyclists..."
        },
        {
            "metadata": {
                "scrolled": true
            },
            "cell_type": "code",
            "source": "# Cycle Count\ndf['PEDCYLCOUNT'].value_counts(dropna=False)",
            "execution_count": 28,
            "outputs": [
                {
                    "output_type": "execute_result",
                    "execution_count": 28,
                    "data": {
                        "text/plain": "0    189189\n1      5441\n2        43\nName: PEDCYLCOUNT, dtype: int64"
                    },
                    "metadata": {}
                }
            ]
        },
        {
            "metadata": {
                "scrolled": true
            },
            "cell_type": "code",
            "source": "df.groupby(['PEDCYLCOUNT'])['SEVERITYCODE'].value_counts(normalize=True)",
            "execution_count": 86,
            "outputs": [
                {
                    "output_type": "execute_result",
                    "execution_count": 86,
                    "data": {
                        "text/plain": "PEDCYLCOUNT  SEVERITYCODE\n0            1               0.717832\n             2               0.282168\n1            2               0.875207\n             1               0.124793\n2            2               1.000000\nName: SEVERITYCODE, dtype: float64"
                    },
                    "metadata": {}
                }
            ]
        },
        {
            "metadata": {},
            "cell_type": "markdown",
            "source": "And the same is true with Cyclists. Funnily enough, when a car hits a person or a bike, it doesn't end well."
        },
        {
            "metadata": {
                "scrolled": true
            },
            "cell_type": "code",
            "source": "# Vehicle Count\ndf['VEHCOUNT'].value_counts(dropna=False)\n",
            "execution_count": 29,
            "outputs": [
                {
                    "output_type": "execute_result",
                    "execution_count": 29,
                    "data": {
                        "text/plain": "2     147650\n1      25748\n3      13010\n0       5085\n4       2426\n5        529\n6        146\n7         46\n8         15\n9          9\n11         6\n10         2\n12         1\nName: VEHCOUNT, dtype: int64"
                    },
                    "metadata": {}
                }
            ]
        },
        {
            "metadata": {},
            "cell_type": "markdown",
            "source": "Small sample sizes here above 5 cars, so let's bin them like we did earlier"
        },
        {
            "metadata": {},
            "cell_type": "code",
            "source": "bins = [0, 1, 2, 3, 4, 1000]\ndf['VEHCOUNT_grouped'] = pd.cut(df['VEHCOUNT'], bins)\ndf['VEHCOUNT_grouped'].value_counts(dropna=False)",
            "execution_count": 89,
            "outputs": [
                {
                    "output_type": "execute_result",
                    "execution_count": 89,
                    "data": {
                        "text/plain": "(1.0, 2.0]       147650\n(0.0, 1.0]        25748\n(2.0, 3.0]        13010\nNaN                5085\n(3.0, 4.0]         2426\n(4.0, 1000.0]       754\nName: VEHCOUNT_grouped, dtype: int64"
                    },
                    "metadata": {}
                }
            ]
        },
        {
            "metadata": {},
            "cell_type": "code",
            "source": "df.groupby(['VEHCOUNT_grouped'])['SEVERITYCODE'].value_counts(normalize=True)",
            "execution_count": 92,
            "outputs": [
                {
                    "output_type": "execute_result",
                    "execution_count": 92,
                    "data": {
                        "text/plain": "VEHCOUNT_grouped  SEVERITYCODE\n(0, 1]            2               0.547810\n                  1               0.452190\n(1, 2]            1               0.756526\n                  2               0.243474\n(2, 3]            1               0.579554\n                  2               0.420446\n(3, 4]            1               0.555647\n                  2               0.444353\n(4, 1000]         1               0.523873\n                  2               0.476127\nName: SEVERITYCODE, dtype: float64"
                    },
                    "metadata": {}
                }
            ]
        },
        {
            "metadata": {},
            "cell_type": "markdown",
            "source": "It's not clear if there is a trend here."
        },
        {
            "metadata": {},
            "cell_type": "markdown",
            "source": "Let's work with the Date variable a bit"
        },
        {
            "metadata": {},
            "cell_type": "code",
            "source": "import seaborn as sns\nimport matplotlib.pyplot as plt\n\n# Incident Date\ndf['INCDATE'] = pd.to_datetime(df['INCDATE'])\ndf.head()\n\ndf['dayofweek'] = df['INCDATE'].dt.dayofweek\nbins = np.linspace(df.dayofweek.min(), df.dayofweek.max(), 10)\ng = sns.FacetGrid(df, col=\"SEVERITYCODE\", hue=\"SEVERITYCODE\", palette=\"Set1\", col_wrap=2)\ng.map(plt.hist, 'dayofweek', bins=bins, ec=\"k\")\ng.axes[-1].legend()\nplt.show()\n\n\n",
            "execution_count": 64,
            "outputs": [
                {
                    "output_type": "display_data",
                    "data": {
                        "text/plain": "<Figure size 432x216 with 2 Axes>",
                        "image/png": "[encoded data removed]"
                    },
                    "metadata": {
                        "needs_background": "light"
                    }
                }
            ]
        },
        {
            "metadata": {},
            "cell_type": "code",
            "source": "df.groupby([df['INCDATE'].dt.year]).agg({'mean'})",
            "execution_count": 110,
            "outputs": [
                {
                    "output_type": "execute_result",
                    "execution_count": 110,
                    "data": {
                        "text/plain": "        SEVERITYCODE           X          Y       OBJECTID         INCKEY  \\\n                mean        mean       mean           mean           mean   \nINCDATE                                                                     \n2004        1.307375 -122.330285  47.621797   10962.043152   24691.625959   \n2005        1.294410 -122.330435  47.620266   26375.441416   40390.871188   \n2006        1.286410 -122.330843  47.620436   41934.029234   56336.934619   \n2007        1.277878 -122.331270  47.620532   57103.706419   71826.342418   \n2008        1.275769 -122.332086  47.621816   71393.098023   86380.258858   \n2009        1.287881 -122.330611  47.620455   84832.673257  100152.512357   \n2010        1.300241 -122.330431  47.618903   98344.263601  114045.426906   \n2011        1.283817 -122.330885  47.620494  109083.254877  125105.249382   \n2012        1.317869 -122.330528  47.620610  121339.737783  137888.023196   \n2013        1.311052 -122.330568  47.619417  124830.495698  142762.721093   \n2014        1.294739 -122.329808  47.620030  145161.408074  172071.603159   \n2015        1.288726 -122.329505  47.619100  158421.224548  197751.612928   \n2016        1.318552 -122.330075  47.617577  172431.565915  223480.115962   \n2017        1.314449 -122.330120  47.618087  184712.746896  245939.294675   \n2018        1.322296 -122.330251  47.616349  202316.980996  292989.641136   \n2019        1.325329 -122.330452  47.615155  203967.720888  321102.128559   \n2020        1.304232 -122.329010  47.616688  193530.836971  329501.952784   \n\n             COLDETKEY        INTKEY PERSONCOUNT  PEDCOUNT PEDCYLCOUNT  ...  \\\n                  mean          mean        mean      mean        mean  ...   \nINCDATE                                                                 ...   \n2004      24691.625959  35093.770434    2.547493  0.030763    0.017362  ...   \n2005      40390.871188  35157.794925    2.543831  0.029110    0.017069  ...   \n2006      56336.934619  33333.283159    2.487556  0.032657    0.021596  ...   \n2007      71826.359020  34294.128546    2.502629  0.032236    0.021306  ...   \n2008      86380.258858  34074.072935    2.483236  0.032138    0.023719  ...   \n2009     100152.652122  35918.008149    2.518578  0.035367    0.029743  ...   \n2010     114046.398409  36479.569853    2.599371  0.044504    0.031273  ...   \n2011     125105.767744  36827.734653    2.544555  0.034619    0.030772  ...   \n2012     137890.038416  39767.991034    2.534611  0.038966    0.031814  ...   \n2013     142776.970597  38918.847124    2.539662  0.036305    0.035927  ...   \n2014     172099.770121  38405.478519    2.498522  0.039101    0.034372  ...   \n2015     197880.688342  40173.592942    1.977607  0.037168    0.034629  ...   \n2016     223799.806501  40811.356925    2.436401  0.042542    0.032936  ...   \n2017     246483.728226  40326.004699    1.972041  0.042766    0.031914  ...   \n2018     294059.717343  41351.144357    2.494193  0.047029    0.035608  ...   \n2019     322589.730238  40790.948590    2.448258  0.051211    0.038355  ...   \n2020     331001.952784  42794.713961    2.319822  0.027617    0.014699  ...   \n\n        INATTENTIONIND UNDERINFL PEDROWNOTGRNT    SDOTCOLNUM  SPEEDING  \\\n                  mean      mean          mean          mean      mean   \nINCDATE                                                                  \n2004          0.146734  0.047872      0.021660  4.176582e+06  0.060261   \n2005          0.123123  0.045518      0.020179  5.189778e+06  0.052994   \n2006          0.097511  0.047735      0.024032  6.182515e+06  0.054385   \n2007          0.105008  0.048077      0.024004  7.183784e+06  0.057692   \n2008          0.099341  0.044290      0.028184  8.185052e+06  0.063763   \n2009          0.106954  0.050452      0.033407  9.180483e+06  0.058718   \n2010          0.105755  0.054497      0.040896  1.018696e+07  0.058105   \n2011          0.088195  0.056873      0.028025  1.118612e+07  0.043594   \n2012          0.108371  0.054460      0.035849  1.218646e+07  0.052718   \n2013          0.245438  0.042262      0.023163  1.303561e+07  0.045949   \n2014          0.272443  0.042142      0.019086           NaN  0.040706   \n2015          0.202001  0.032166      0.014236           NaN  0.027241   \n2016          0.233382  0.044858      0.017326           NaN  0.038339   \n2017          0.183758  0.040559      0.016095  1.224002e+07  0.032098   \n2018          0.215760  0.056531      0.020155           NaN  0.037240   \n2019          0.200807  0.055992      0.021037           NaN  0.036124   \n2020          0.000000  0.000000      0.016036           NaN  0.032071   \n\n         SEGLANEKEY  CROSSWALKKEY HITPARKEDCAR dayofweek weekend  \n               mean          mean         mean      mean    mean  \nINCDATE                                                           \n2004       0.000000      0.000000     0.000000  2.944543       1  \n2005       0.000000      0.000000     0.000000  2.994707       1  \n2006       0.000000      0.000000     0.000000  2.950948       1  \n2007     251.828376   9589.865385     0.000069  2.971085       1  \n2008     256.440556  10788.138141     0.000000  2.958053       1  \n2009     387.297341  11166.049855     0.000000  2.976990       1  \n2010     352.127591  14582.743431     0.000185  2.967894       1  \n2011     347.689532  11571.979668     0.000000  2.929298       1  \n2012     390.194187  13205.036399     0.000183  2.952691       1  \n2013     471.602628  12538.124610     0.000000  2.922757       1  \n2014     436.122540  12970.547420     0.003294  2.893590       1  \n2015     475.003001  13510.729434     0.158446  2.921124       1  \n2016     406.164851  16048.234840     0.104554  2.909426       1  \n2017     450.494160  16602.361354     0.096110  2.883749       1  \n2018     126.791535   9362.342451     0.119877  2.912468       1  \n2019     128.563217  11290.601254     0.136847  2.879941       1  \n2020     182.357684  11651.919822     0.138976  2.962138       1  \n\n[17 rows x 22 columns]",
                        "text/html": "<div>\n<style scoped>\n    .dataframe tbody tr th:only-of-type {\n        vertical-align: middle;\n    }\n\n    .dataframe tbody tr th {\n        vertical-align: top;\n    }\n\n    .dataframe thead tr th {\n        text-align: left;\n    }\n\n    .dataframe thead tr:last-of-type th {\n        text-align: right;\n    }\n</style>\n<table border=\"1\" class=\"dataframe\">\n  <thead>\n    <tr>\n      <th></th>\n      <th>SEVERITYCODE</th>\n      <th>X</th>\n      <th>Y</th>\n      <th>OBJECTID</th>\n      <th>INCKEY</th>\n      <th>COLDETKEY</th>\n      <th>INTKEY</th>\n      <th>PERSONCOUNT</th>\n      <th>PEDCOUNT</th>\n      <th>PEDCYLCOUNT</th>\n      <th>...</th>\n      <th>INATTENTIONIND</th>\n      <th>UNDERINFL</th>\n      <th>PEDROWNOTGRNT</th>\n      <th>SDOTCOLNUM</th>\n      <th>SPEEDING</th>\n      <th>SEGLANEKEY</th>\n      <th>CROSSWALKKEY</th>\n      <th>HITPARKEDCAR</th>\n      <th>dayofweek</th>\n      <th>weekend</th>\n    </tr>\n    <tr>\n      <th></th>\n      <th>mean</th>\n      <th>mean</th>\n      <th>mean</th>\n      <th>mean</th>\n      <th>mean</th>\n      <th>mean</th>\n      <th>mean</th>\n      <th>mean</th>\n      <th>mean</th>\n      <th>mean</th>\n      <th>...</th>\n      <th>mean</th>\n      <th>mean</th>\n      <th>mean</th>\n      <th>mean</th>\n      <th>mean</th>\n      <th>mean</th>\n      <th>mean</th>\n      <th>mean</th>\n      <th>mean</th>\n      <th>mean</th>\n    </tr>\n    <tr>\n      <th>INCDATE</th>\n      <th></th>\n      <th></th>\n      <th></th>\n      <th></th>\n      <th></th>\n      <th></th>\n      <th></th>\n      <th></th>\n      <th></th>\n      <th></th>\n      <th></th>\n      <th></th>\n      <th></th>\n      <th></th>\n      <th></th>\n      <th></th>\n      <th></th>\n      <th></th>\n      <th></th>\n      <th></th>\n      <th></th>\n    </tr>\n  </thead>\n  <tbody>\n    <tr>\n      <th>2004</th>\n      <td>1.307375</td>\n      <td>-122.330285</td>\n      <td>47.621797</td>\n      <td>10962.043152</td>\n      <td>24691.625959</td>\n      <td>24691.625959</td>\n      <td>35093.770434</td>\n      <td>2.547493</td>\n      <td>0.030763</td>\n      <td>0.017362</td>\n      <td>...</td>\n      <td>0.146734</td>\n      <td>0.047872</td>\n      <td>0.021660</td>\n      <td>4.176582e+06</td>\n      <td>0.060261</td>\n      <td>0.000000</td>\n      <td>0.000000</td>\n      <td>0.000000</td>\n      <td>2.944543</td>\n      <td>1</td>\n    </tr>\n    <tr>\n      <th>2005</th>\n      <td>1.294410</td>\n      <td>-122.330435</td>\n      <td>47.620266</td>\n      <td>26375.441416</td>\n      <td>40390.871188</td>\n      <td>40390.871188</td>\n      <td>35157.794925</td>\n      <td>2.543831</td>\n      <td>0.029110</td>\n      <td>0.017069</td>\n      <td>...</td>\n      <td>0.123123</td>\n      <td>0.045518</td>\n      <td>0.020179</td>\n      <td>5.189778e+06</td>\n      <td>0.052994</td>\n      <td>0.000000</td>\n      <td>0.000000</td>\n      <td>0.000000</td>\n      <td>2.994707</td>\n      <td>1</td>\n    </tr>\n    <tr>\n      <th>2006</th>\n      <td>1.286410</td>\n      <td>-122.330843</td>\n      <td>47.620436</td>\n      <td>41934.029234</td>\n      <td>56336.934619</td>\n      <td>56336.934619</td>\n      <td>33333.283159</td>\n      <td>2.487556</td>\n      <td>0.032657</td>\n      <td>0.021596</td>\n      <td>...</td>\n      <td>0.097511</td>\n      <td>0.047735</td>\n      <td>0.024032</td>\n      <td>6.182515e+06</td>\n      <td>0.054385</td>\n      <td>0.000000</td>\n      <td>0.000000</td>\n      <td>0.000000</td>\n      <td>2.950948</td>\n      <td>1</td>\n    </tr>\n    <tr>\n      <th>2007</th>\n      <td>1.277878</td>\n      <td>-122.331270</td>\n      <td>47.620532</td>\n      <td>57103.706419</td>\n      <td>71826.342418</td>\n      <td>71826.359020</td>\n      <td>34294.128546</td>\n      <td>2.502629</td>\n      <td>0.032236</td>\n      <td>0.021306</td>\n      <td>...</td>\n      <td>0.105008</td>\n      <td>0.048077</td>\n      <td>0.024004</td>\n      <td>7.183784e+06</td>\n      <td>0.057692</td>\n      <td>251.828376</td>\n      <td>9589.865385</td>\n      <td>0.000069</td>\n      <td>2.971085</td>\n      <td>1</td>\n    </tr>\n    <tr>\n      <th>2008</th>\n      <td>1.275769</td>\n      <td>-122.332086</td>\n      <td>47.621816</td>\n      <td>71393.098023</td>\n      <td>86380.258858</td>\n      <td>86380.258858</td>\n      <td>34074.072935</td>\n      <td>2.483236</td>\n      <td>0.032138</td>\n      <td>0.023719</td>\n      <td>...</td>\n      <td>0.099341</td>\n      <td>0.044290</td>\n      <td>0.028184</td>\n      <td>8.185052e+06</td>\n      <td>0.063763</td>\n      <td>256.440556</td>\n      <td>10788.138141</td>\n      <td>0.000000</td>\n      <td>2.958053</td>\n      <td>1</td>\n    </tr>\n    <tr>\n      <th>2009</th>\n      <td>1.287881</td>\n      <td>-122.330611</td>\n      <td>47.620455</td>\n      <td>84832.673257</td>\n      <td>100152.512357</td>\n      <td>100152.652122</td>\n      <td>35918.008149</td>\n      <td>2.518578</td>\n      <td>0.035367</td>\n      <td>0.029743</td>\n      <td>...</td>\n      <td>0.106954</td>\n      <td>0.050452</td>\n      <td>0.033407</td>\n      <td>9.180483e+06</td>\n      <td>0.058718</td>\n      <td>387.297341</td>\n      <td>11166.049855</td>\n      <td>0.000000</td>\n      <td>2.976990</td>\n      <td>1</td>\n    </tr>\n    <tr>\n      <th>2010</th>\n      <td>1.300241</td>\n      <td>-122.330431</td>\n      <td>47.618903</td>\n      <td>98344.263601</td>\n      <td>114045.426906</td>\n      <td>114046.398409</td>\n      <td>36479.569853</td>\n      <td>2.599371</td>\n      <td>0.044504</td>\n      <td>0.031273</td>\n      <td>...</td>\n      <td>0.105755</td>\n      <td>0.054497</td>\n      <td>0.040896</td>\n      <td>1.018696e+07</td>\n      <td>0.058105</td>\n      <td>352.127591</td>\n      <td>14582.743431</td>\n      <td>0.000185</td>\n      <td>2.967894</td>\n      <td>1</td>\n    </tr>\n    <tr>\n      <th>2011</th>\n      <td>1.283817</td>\n      <td>-122.330885</td>\n      <td>47.620494</td>\n      <td>109083.254877</td>\n      <td>125105.249382</td>\n      <td>125105.767744</td>\n      <td>36827.734653</td>\n      <td>2.544555</td>\n      <td>0.034619</td>\n      <td>0.030772</td>\n      <td>...</td>\n      <td>0.088195</td>\n      <td>0.056873</td>\n      <td>0.028025</td>\n      <td>1.118612e+07</td>\n      <td>0.043594</td>\n      <td>347.689532</td>\n      <td>11571.979668</td>\n      <td>0.000000</td>\n      <td>2.929298</td>\n      <td>1</td>\n    </tr>\n    <tr>\n      <th>2012</th>\n      <td>1.317869</td>\n      <td>-122.330528</td>\n      <td>47.620610</td>\n      <td>121339.737783</td>\n      <td>137888.023196</td>\n      <td>137890.038416</td>\n      <td>39767.991034</td>\n      <td>2.534611</td>\n      <td>0.038966</td>\n      <td>0.031814</td>\n      <td>...</td>\n      <td>0.108371</td>\n      <td>0.054460</td>\n      <td>0.035849</td>\n      <td>1.218646e+07</td>\n      <td>0.052718</td>\n      <td>390.194187</td>\n      <td>13205.036399</td>\n      <td>0.000183</td>\n      <td>2.952691</td>\n      <td>1</td>\n    </tr>\n    <tr>\n      <th>2013</th>\n      <td>1.311052</td>\n      <td>-122.330568</td>\n      <td>47.619417</td>\n      <td>124830.495698</td>\n      <td>142762.721093</td>\n      <td>142776.970597</td>\n      <td>38918.847124</td>\n      <td>2.539662</td>\n      <td>0.036305</td>\n      <td>0.035927</td>\n      <td>...</td>\n      <td>0.245438</td>\n      <td>0.042262</td>\n      <td>0.023163</td>\n      <td>1.303561e+07</td>\n      <td>0.045949</td>\n      <td>471.602628</td>\n      <td>12538.124610</td>\n      <td>0.000000</td>\n      <td>2.922757</td>\n      <td>1</td>\n    </tr>\n    <tr>\n      <th>2014</th>\n      <td>1.294739</td>\n      <td>-122.329808</td>\n      <td>47.620030</td>\n      <td>145161.408074</td>\n      <td>172071.603159</td>\n      <td>172099.770121</td>\n      <td>38405.478519</td>\n      <td>2.498522</td>\n      <td>0.039101</td>\n      <td>0.034372</td>\n      <td>...</td>\n      <td>0.272443</td>\n      <td>0.042142</td>\n      <td>0.019086</td>\n      <td>NaN</td>\n      <td>0.040706</td>\n      <td>436.122540</td>\n      <td>12970.547420</td>\n      <td>0.003294</td>\n      <td>2.893590</td>\n      <td>1</td>\n    </tr>\n    <tr>\n      <th>2015</th>\n      <td>1.288726</td>\n      <td>-122.329505</td>\n      <td>47.619100</td>\n      <td>158421.224548</td>\n      <td>197751.612928</td>\n      <td>197880.688342</td>\n      <td>40173.592942</td>\n      <td>1.977607</td>\n      <td>0.037168</td>\n      <td>0.034629</td>\n      <td>...</td>\n      <td>0.202001</td>\n      <td>0.032166</td>\n      <td>0.014236</td>\n      <td>NaN</td>\n      <td>0.027241</td>\n      <td>475.003001</td>\n      <td>13510.729434</td>\n      <td>0.158446</td>\n      <td>2.921124</td>\n      <td>1</td>\n    </tr>\n    <tr>\n      <th>2016</th>\n      <td>1.318552</td>\n      <td>-122.330075</td>\n      <td>47.617577</td>\n      <td>172431.565915</td>\n      <td>223480.115962</td>\n      <td>223799.806501</td>\n      <td>40811.356925</td>\n      <td>2.436401</td>\n      <td>0.042542</td>\n      <td>0.032936</td>\n      <td>...</td>\n      <td>0.233382</td>\n      <td>0.044858</td>\n      <td>0.017326</td>\n      <td>NaN</td>\n      <td>0.038339</td>\n      <td>406.164851</td>\n      <td>16048.234840</td>\n      <td>0.104554</td>\n      <td>2.909426</td>\n      <td>1</td>\n    </tr>\n    <tr>\n      <th>2017</th>\n      <td>1.314449</td>\n      <td>-122.330120</td>\n      <td>47.618087</td>\n      <td>184712.746896</td>\n      <td>245939.294675</td>\n      <td>246483.728226</td>\n      <td>40326.004699</td>\n      <td>1.972041</td>\n      <td>0.042766</td>\n      <td>0.031914</td>\n      <td>...</td>\n      <td>0.183758</td>\n      <td>0.040559</td>\n      <td>0.016095</td>\n      <td>1.224002e+07</td>\n      <td>0.032098</td>\n      <td>450.494160</td>\n      <td>16602.361354</td>\n      <td>0.096110</td>\n      <td>2.883749</td>\n      <td>1</td>\n    </tr>\n    <tr>\n      <th>2018</th>\n      <td>1.322296</td>\n      <td>-122.330251</td>\n      <td>47.616349</td>\n      <td>202316.980996</td>\n      <td>292989.641136</td>\n      <td>294059.717343</td>\n      <td>41351.144357</td>\n      <td>2.494193</td>\n      <td>0.047029</td>\n      <td>0.035608</td>\n      <td>...</td>\n      <td>0.215760</td>\n      <td>0.056531</td>\n      <td>0.020155</td>\n      <td>NaN</td>\n      <td>0.037240</td>\n      <td>126.791535</td>\n      <td>9362.342451</td>\n      <td>0.119877</td>\n      <td>2.912468</td>\n      <td>1</td>\n    </tr>\n    <tr>\n      <th>2019</th>\n      <td>1.325329</td>\n      <td>-122.330452</td>\n      <td>47.615155</td>\n      <td>203967.720888</td>\n      <td>321102.128559</td>\n      <td>322589.730238</td>\n      <td>40790.948590</td>\n      <td>2.448258</td>\n      <td>0.051211</td>\n      <td>0.038355</td>\n      <td>...</td>\n      <td>0.200807</td>\n      <td>0.055992</td>\n      <td>0.021037</td>\n      <td>NaN</td>\n      <td>0.036124</td>\n      <td>128.563217</td>\n      <td>11290.601254</td>\n      <td>0.136847</td>\n      <td>2.879941</td>\n      <td>1</td>\n    </tr>\n    <tr>\n      <th>2020</th>\n      <td>1.304232</td>\n      <td>-122.329010</td>\n      <td>47.616688</td>\n      <td>193530.836971</td>\n      <td>329501.952784</td>\n      <td>331001.952784</td>\n      <td>42794.713961</td>\n      <td>2.319822</td>\n      <td>0.027617</td>\n      <td>0.014699</td>\n      <td>...</td>\n      <td>0.000000</td>\n      <td>0.000000</td>\n      <td>0.016036</td>\n      <td>NaN</td>\n      <td>0.032071</td>\n      <td>182.357684</td>\n      <td>11651.919822</td>\n      <td>0.138976</td>\n      <td>2.962138</td>\n      <td>1</td>\n    </tr>\n  </tbody>\n</table>\n<p>17 rows \u00d7 22 columns</p>\n</div>"
                    },
                    "metadata": {}
                }
            ]
        },
        {
            "metadata": {},
            "cell_type": "markdown",
            "source": "Some fascinating insights here:\n    -Inattention spiked in 2013 and has never come back down. \n    -SDOT must have stopped giving classifiers in 2014, as most values after that date are null\n    -People started suddenly hitting a lot of parked cars in 2015. Why?"
        },
        {
            "metadata": {},
            "cell_type": "markdown",
            "source": "Moving on to Junction Type"
        },
        {
            "metadata": {
                "scrolled": true
            },
            "cell_type": "code",
            "source": "# Junction Type\ndf['JUNCTIONTYPE'].value_counts(dropna=False)",
            "execution_count": 30,
            "outputs": [
                {
                    "output_type": "execute_result",
                    "execution_count": 30,
                    "data": {
                        "text/plain": "Mid-Block (not related to intersection)              89800\nAt Intersection (intersection related)               62810\nMid-Block (but intersection related)                 22790\nDriveway Junction                                    10671\nNaN                                                   6329\nAt Intersection (but not related to intersection)     2098\nRamp Junction                                          166\nUnknown                                                  9\nName: JUNCTIONTYPE, dtype: int64"
                    },
                    "metadata": {}
                }
            ]
        },
        {
            "metadata": {},
            "cell_type": "code",
            "source": "df.groupby(['JUNCTIONTYPE'])['SEVERITYCODE'].value_counts(normalize=True)",
            "execution_count": 93,
            "outputs": [
                {
                    "output_type": "execute_result",
                    "execution_count": 93,
                    "data": {
                        "text/plain": "JUNCTIONTYPE                                       SEVERITYCODE\nAt Intersection (but not related to intersection)  1               0.703051\n                                                   2               0.296949\nAt Intersection (intersection related)             1               0.567362\n                                                   2               0.432638\nDriveway Junction                                  1               0.696936\n                                                   2               0.303064\nMid-Block (but intersection related)               1               0.679816\n                                                   2               0.320184\nMid-Block (not related to intersection)            1               0.783920\n                                                   2               0.216080\nRamp Junction                                      1               0.674699\n                                                   2               0.325301\nUnknown                                            1               0.777778\n                                                   2               0.222222\nName: SEVERITYCODE, dtype: float64"
                    },
                    "metadata": {}
                }
            ]
        },
        {
            "metadata": {},
            "cell_type": "markdown",
            "source": "Its not clear there's anything happening with Junction Type"
        },
        {
            "metadata": {},
            "cell_type": "markdown",
            "source": "SDOT Collision codes"
        },
        {
            "metadata": {},
            "cell_type": "code",
            "source": "# SDOT Collision Codes\ndf['SDOT_COLCODE'].value_counts(dropna=False)",
            "execution_count": 20,
            "outputs": [
                {
                    "output_type": "execute_result",
                    "execution_count": 20,
                    "data": {
                        "text/plain": "11    85209\n14    54299\n16     9928\n0      9787\n28     8856\n24     6518\n13     5852\n26     4741\n18     3104\n15     1604\n12     1440\n51     1312\n29      479\n21      181\n56      180\n27      166\n54      139\n23      124\n48      107\n31      104\n25      102\n34       93\n64       75\n69       69\n33       53\n55       50\n66       23\n22       17\n32       12\n53        9\n44        8\n61        7\n35        6\n58        5\n68        4\n36        4\n46        3\n52        2\n47        1\nName: SDOT_COLCODE, dtype: int64"
                    },
                    "metadata": {}
                }
            ]
        },
        {
            "metadata": {},
            "cell_type": "code",
            "source": "df.groupby(['SDOT_COLCODE'])['SEVERITYCODE'].value_counts(normalize=True)",
            "execution_count": 95,
            "outputs": [
                {
                    "output_type": "execute_result",
                    "execution_count": 95,
                    "data": {
                        "text/plain": "SDOT_COLCODE  SEVERITYCODE\n0             1               0.927659\n              2               0.072341\n11            1               0.714373\n              2               0.285627\n12            1               0.981250\n              2               0.018750\n13            1               0.965995\n              2               0.034005\n14            1               0.673143\n              2               0.326857\n15            1               0.953242\n              2               0.046758\n16            1               0.930298\n              2               0.069702\n18            2               0.880799\n              1               0.119201\n21            2               0.773481\n              1               0.226519\n22            2               0.941176\n              1               0.058824\n23            2               0.750000\n              1               0.250000\n24            2               0.897975\n              1               0.102025\n25            1               0.803922\n              2               0.196078\n26            1               0.752584\n              2               0.247416\n27            1               0.783133\n              2               0.216867\n                                ...   \n35            2               0.166667\n36            1               0.750000\n              2               0.250000\n44            2               1.000000\n46            1               1.000000\n47            1               1.000000\n48            1               0.897196\n              2               0.102804\n51            2               0.884146\n              1               0.115854\n52            1               0.500000\n              2               0.500000\n53            2               0.777778\n              1               0.222222\n54            2               0.769784\n              1               0.230216\n55            2               0.800000\n              1               0.200000\n56            2               0.894444\n              1               0.105556\n58            2               1.000000\n61            2               1.000000\n64            2               0.960000\n              1               0.040000\n66            2               0.956522\n              1               0.043478\n68            2               0.750000\n              1               0.250000\n69            2               0.985507\n              1               0.014493\nName: SEVERITYCODE, Length: 73, dtype: float64"
                    },
                    "metadata": {}
                }
            ]
        },
        {
            "metadata": {},
            "cell_type": "markdown",
            "source": "Lots of variety here, however we're also dealing with small sample sizes and an overload of categories. There is a potential unbalanced model concern with this variable"
        },
        {
            "metadata": {},
            "cell_type": "markdown",
            "source": "Inattention"
        },
        {
            "metadata": {},
            "cell_type": "code",
            "source": "# Inattention\ndf['INATTENTIONIND'].value_counts(dropna=False)\n\n# Recode Nan/Y vars to 0/1\ndf['INATTENTIONIND'].replace(to_replace='Y', value=1, inplace=True)\ndf['INATTENTIONIND'] = df['INATTENTIONIND'].fillna(0)\n\ndf['INATTENTIONIND'].value_counts(dropna=False)",
            "execution_count": 50,
            "outputs": [
                {
                    "output_type": "execute_result",
                    "execution_count": 50,
                    "data": {
                        "text/plain": "0.0    164868\n1.0     29805\nName: INATTENTIONIND, dtype: int64"
                    },
                    "metadata": {}
                }
            ]
        },
        {
            "metadata": {},
            "cell_type": "code",
            "source": "df.groupby(['INATTENTIONIND'])['SEVERITYCODE'].value_counts(normalize=True)",
            "execution_count": 96,
            "outputs": [
                {
                    "output_type": "execute_result",
                    "execution_count": 96,
                    "data": {
                        "text/plain": "INATTENTIONIND  SEVERITYCODE\n0.0             1               0.710126\n                2               0.289874\n1.0             1               0.651166\n                2               0.348834\nName: SEVERITYCODE, dtype: float64"
                    },
                    "metadata": {}
                }
            ]
        },
        {
            "metadata": {},
            "cell_type": "markdown",
            "source": "Inattentive drivers are only marginally more likely to cause bodily harm, though it does appear to be statistically significant."
        },
        {
            "metadata": {},
            "cell_type": "markdown",
            "source": "What about drunk driving?"
        },
        {
            "metadata": {
                "scrolled": true
            },
            "cell_type": "code",
            "source": "# Under Influence\ndf['UNDERINFL'].value_counts(dropna=False)\n\n# Recode N/Y vars to 0/1\ndf['UNDERINFL'].replace(to_replace='N', value=0, inplace=True)\ndf['UNDERINFL'].replace(to_replace='0', value=0, inplace=True)\ndf['UNDERINFL'].replace(to_replace='Y', value=1, inplace=True)\ndf['UNDERINFL'].replace(to_replace='1', value=1, inplace=True)\ndf['UNDERINFL'] = df['UNDERINFL'].fillna(0)\n\ndf['UNDERINFL'].value_counts(dropna=False)",
            "execution_count": 52,
            "outputs": [
                {
                    "output_type": "execute_result",
                    "execution_count": 52,
                    "data": {
                        "text/plain": "0.0    185552\n1.0      9121\nName: UNDERINFL, dtype: int64"
                    },
                    "metadata": {}
                }
            ]
        },
        {
            "metadata": {
                "scrolled": true
            },
            "cell_type": "code",
            "source": "df.groupby(['UNDERINFL'])['SEVERITYCODE'].value_counts(normalize=True)",
            "execution_count": 97,
            "outputs": [
                {
                    "output_type": "execute_result",
                    "execution_count": 97,
                    "data": {
                        "text/plain": "UNDERINFL  SEVERITYCODE\n0.0        1               0.705603\n           2               0.294397\n1.0        1               0.609473\n           2               0.390527\nName: SEVERITYCODE, dtype: float64"
                    },
                    "metadata": {}
                }
            ]
        },
        {
            "metadata": {},
            "cell_type": "markdown",
            "source": "Yes, drunk drivers appear to be more likely to cause harm."
        },
        {
            "metadata": {},
            "cell_type": "markdown",
            "source": "Does the weather matter?"
        },
        {
            "metadata": {
                "scrolled": true
            },
            "cell_type": "code",
            "source": "# Weather\ndf['WEATHER'].value_counts(dropna=False)",
            "execution_count": 32,
            "outputs": [
                {
                    "output_type": "execute_result",
                    "execution_count": 32,
                    "data": {
                        "text/plain": "Clear                       111135\nRaining                      33145\nOvercast                     27714\nUnknown                      15091\nNaN                           5081\nSnowing                        907\nOther                          832\nFog/Smog/Smoke                 569\nSleet/Hail/Freezing Rain       113\nBlowing Sand/Dirt               56\nSevere Crosswind                25\nPartly Cloudy                    5\nName: WEATHER, dtype: int64"
                    },
                    "metadata": {}
                }
            ]
        },
        {
            "metadata": {},
            "cell_type": "code",
            "source": "df.groupby(['WEATHER'])['SEVERITYCODE'].value_counts(normalize=True)",
            "execution_count": 98,
            "outputs": [
                {
                    "output_type": "execute_result",
                    "execution_count": 98,
                    "data": {
                        "text/plain": "WEATHER                   SEVERITYCODE\nBlowing Sand/Dirt         1               0.732143\n                          2               0.267857\nClear                     1               0.677509\n                          2               0.322491\nFog/Smog/Smoke            1               0.671353\n                          2               0.328647\nOther                     1               0.860577\n                          2               0.139423\nOvercast                  1               0.684456\n                          2               0.315544\nPartly Cloudy             2               0.600000\n                          1               0.400000\nRaining                   1               0.662815\n                          2               0.337185\nSevere Crosswind          1               0.720000\n                          2               0.280000\nSleet/Hail/Freezing Rain  1               0.752212\n                          2               0.247788\nSnowing                   1               0.811466\n                          2               0.188534\nUnknown                   1               0.945928\n                          2               0.054072\nName: SEVERITYCODE, dtype: float64"
                    },
                    "metadata": {}
                }
            ]
        },
        {
            "metadata": {},
            "cell_type": "markdown",
            "source": "Weather doesn't actually appear to make that much of a difference. We'll leave this one out of the model."
        },
        {
            "metadata": {},
            "cell_type": "markdown",
            "source": "What about the road conditions? After all, that is more directly relevent to driving"
        },
        {
            "metadata": {
                "scrolled": true
            },
            "cell_type": "code",
            "source": "# Road Conditions\ndf['ROADCOND'].value_counts(dropna=False)",
            "execution_count": 33,
            "outputs": [
                {
                    "output_type": "execute_result",
                    "execution_count": 33,
                    "data": {
                        "text/plain": "Dry               124510\nWet                47474\nUnknown            15078\nNaN                 5012\nIce                 1209\nSnow/Slush          1004\nOther                132\nStanding Water       115\nSand/Mud/Dirt         75\nOil                   64\nName: ROADCOND, dtype: int64"
                    },
                    "metadata": {}
                }
            ]
        },
        {
            "metadata": {},
            "cell_type": "code",
            "source": "df.groupby(['ROADCOND'])['SEVERITYCODE'].value_counts(normalize=True)",
            "execution_count": 99,
            "outputs": [
                {
                    "output_type": "execute_result",
                    "execution_count": 99,
                    "data": {
                        "text/plain": "ROADCOND        SEVERITYCODE\nDry             1               0.678227\n                2               0.321773\nIce             1               0.774194\n                2               0.225806\nOil             1               0.625000\n                2               0.375000\nOther           1               0.674242\n                2               0.325758\nSand/Mud/Dirt   1               0.693333\n                2               0.306667\nSnow/Slush      1               0.833665\n                2               0.166335\nStanding Water  1               0.739130\n                2               0.260870\nUnknown         1               0.950325\n                2               0.049675\nWet             1               0.668134\n                2               0.331866\nName: SEVERITYCODE, dtype: float64"
                    },
                    "metadata": {}
                }
            ]
        },
        {
            "metadata": {},
            "cell_type": "markdown",
            "source": "Some strange results here. For example \"unknown\" road conditions only have a 5% severity rate. I'm not sure what that could mean."
        },
        {
            "metadata": {},
            "cell_type": "markdown",
            "source": "Let's move on to light conditions"
        },
        {
            "metadata": {
                "scrolled": true
            },
            "cell_type": "code",
            "source": "# Light Conditions\ndf['LIGHTCOND'].value_counts(dropna=False)",
            "execution_count": 34,
            "outputs": [
                {
                    "output_type": "execute_result",
                    "execution_count": 34,
                    "data": {
                        "text/plain": "Daylight                    116137\nDark - Street Lights On      48507\nUnknown                      13473\nDusk                          5902\nNaN                           5170\nDawn                          2502\nDark - No Street Lights       1537\nDark - Street Lights Off      1199\nOther                          235\nDark - Unknown Lighting         11\nName: LIGHTCOND, dtype: int64"
                    },
                    "metadata": {}
                }
            ]
        },
        {
            "metadata": {},
            "cell_type": "code",
            "source": "df.groupby(['LIGHTCOND'])['SEVERITYCODE'].value_counts(normalize=True)",
            "execution_count": 100,
            "outputs": [
                {
                    "output_type": "execute_result",
                    "execution_count": 100,
                    "data": {
                        "text/plain": "LIGHTCOND                 SEVERITYCODE\nDark - No Street Lights   1               0.782694\n                          2               0.217306\nDark - Street Lights Off  1               0.736447\n                          2               0.263553\nDark - Street Lights On   1               0.701589\n                          2               0.298411\nDark - Unknown Lighting   1               0.636364\n                          2               0.363636\nDawn                      1               0.670663\n                          2               0.329337\nDaylight                  1               0.668116\n                          2               0.331884\nDusk                      1               0.670620\n                          2               0.329380\nOther                     1               0.778723\n                          2               0.221277\nUnknown                   1               0.955095\n                          2               0.044905\nName: SEVERITYCODE, dtype: float64"
                    },
                    "metadata": {}
                }
            ]
        },
        {
            "metadata": {},
            "cell_type": "markdown",
            "source": "Again, it's not particularly clear."
        },
        {
            "metadata": {},
            "cell_type": "markdown",
            "source": "Was right of way not granted?"
        },
        {
            "metadata": {},
            "cell_type": "code",
            "source": "# Right of way not granted?\ndf['PEDROWNOTGRNT'].value_counts(dropna=False)\n\n# Recode N/Y vars to 0/1\ndf['PEDROWNOTGRNT'].replace(to_replace='Y', value=1, inplace=True)\ndf['PEDROWNOTGRNT'] = df['PEDROWNOTGRNT'].fillna(0)\n\ndf['PEDROWNOTGRNT'].value_counts(dropna=False)",
            "execution_count": 54,
            "outputs": [
                {
                    "output_type": "execute_result",
                    "execution_count": 54,
                    "data": {
                        "text/plain": "0.0    190006\n1.0      4667\nName: PEDROWNOTGRNT, dtype: int64"
                    },
                    "metadata": {}
                }
            ]
        },
        {
            "metadata": {},
            "cell_type": "code",
            "source": "df.groupby(['PEDROWNOTGRNT'])['SEVERITYCODE'].value_counts(normalize=True)",
            "execution_count": 101,
            "outputs": [
                {
                    "output_type": "execute_result",
                    "execution_count": 101,
                    "data": {
                        "text/plain": "PEDROWNOTGRNT  SEVERITYCODE\n0.0            1               0.715898\n               2               0.284102\n1.0            2               0.901436\n               1               0.098564\nName: SEVERITYCODE, dtype: float64"
                    },
                    "metadata": {}
                }
            ]
        },
        {
            "metadata": {},
            "cell_type": "markdown",
            "source": "Winner winner chicken dinner. in 90% of cases where the right of way was not granted, there was an injury. This is likely tied into the type of collision."
        },
        {
            "metadata": {},
            "cell_type": "code",
            "source": "Does speeding matter?",
            "execution_count": null,
            "outputs": []
        },
        {
            "metadata": {
                "scrolled": true
            },
            "cell_type": "code",
            "source": "# Speeding\ndf['SPEEDING'].value_counts(dropna=False)\n\n# Recode N/Y vars to 0/1\ndf['SPEEDING'].replace(to_replace='Y', value=1, inplace=True)\ndf['SPEEDING'] = df['SPEEDING'].fillna(0)\n\ndf['SPEEDING'].value_counts(dropna=False)",
            "execution_count": 55,
            "outputs": [
                {
                    "output_type": "execute_result",
                    "execution_count": 55,
                    "data": {
                        "text/plain": "0.0    185340\n1.0      9333\nName: SPEEDING, dtype: int64"
                    },
                    "metadata": {}
                }
            ]
        },
        {
            "metadata": {},
            "cell_type": "code",
            "source": "df.groupby(['SPEEDING'])['SEVERITYCODE'].value_counts(normalize=True)",
            "execution_count": 102,
            "outputs": [
                {
                    "output_type": "execute_result",
                    "execution_count": 102,
                    "data": {
                        "text/plain": "SPEEDING  SEVERITYCODE\n0.0       1               0.705099\n          2               0.294901\n1.0       1               0.621665\n          2               0.378335\nName: SEVERITYCODE, dtype: float64"
                    },
                    "metadata": {}
                }
            ]
        },
        {
            "metadata": {},
            "cell_type": "markdown",
            "source": "It appears it matters, at least a little - speeders are 8 percentage points more likely to cause injuries"
        },
        {
            "metadata": {},
            "cell_type": "markdown",
            "source": "Does the State Collision Code matter?"
        },
        {
            "metadata": {},
            "cell_type": "code",
            "source": "# State Collision Code\ndf['ST_COLDESC'].value_counts(dropna=False)",
            "execution_count": 37,
            "outputs": [
                {
                    "output_type": "execute_result",
                    "execution_count": 37,
                    "data": {
                        "text/plain": "One parked--one moving                                                                   44421\nEntering at angle                                                                        34674\nFrom same direction - both going straight - one stopped - rear-end                       25771\nFixed object                                                                             13554\nFrom same direction - both going straight - both moving - sideswipe                      12777\nFrom opposite direction - one left turn - one straight                                   10324\nFrom same direction - both going straight - both moving - rear-end                        7629\nNaN                                                                                       4904\nVehicle - Pedalcyclist                                                                    4701\nFrom same direction - all others                                                          4537\nFrom same direction - one left turn - one straight                                        3093\nFrom same direction - one right turn - one straight                                       2956\nVehicle going straight hits pedestrian                                                    2882\nOne car leaving parked position                                                           2846\nFrom same direction - both going straight - one stopped - sideswipe                       2435\nOne car leaving driveway access                                                           2274\nVehicle turning left hits pedestrian                                                      2178\nOne car entering driveway access                                                          1617\nFrom opposite direction - all others                                                      1302\nVehicle turning right hits pedestrian                                                     1201\nSame direction -- both turning right -- both moving -- sideswipe                          1184\nFrom opposite direction - both going straight - sideswipe                                 1039\nSame direction -- both turning left -- both moving -- sideswipe                            835\nVehicle overturned                                                                         815\nOne car entering parked position                                                           720\nFrom opposite direction - both moving - head-on                                            590\nVehicle Strikes Pedalcyclist                                                               416\nOther object                                                                               371\nSame direction -- both turning right -- one stopped -- rear end                            343\nFrom opposite direction - one left turn - one right turn                                   286\n                                                                                         ...  \nSame direction -- both turning right -- both moving -- rear end                            167\nFrom opposite direction - one stopped - head-on                                            132\nVehicle hits Pedestrian - All Other Actions                                                111\nAll other non-collision                                                                    108\nRailway Vehicle Strikes Vehicle                                                            103\nSame direction -- both turning left -- one stopped -- rear end                              94\nSame direction -- both turning left -- both moving -- rear end                              86\nSame direction -- both turning right -- one stopped -- sideswipe                            73\nVehicle Strikes Railway Vehicle                                                             57\nVehicle Hits City Road or Construction Machinery                                            50\nNot stated                                                                                  47\nSame direction -- both turning left -- one stopped -- sideswipe                             35\nBreakage of any part of the vehicle resulting in injury or in further property damage       34\nDomestic animal other (cat, dog, etc)                                                       32\nPerson fell, jumped or was pushed from vehicle                                              26\nPedalcyclist All Other Involvements ONE UNIT - PEDALCYCLIST ONLY or PEDALCYCLIST STR        23\nPedalcyclist Strikes Pedalcyclist or Pedestrian                                             18\nVehicle Hits Other Road or Construction Machinery                                           11\nRailway Vehicle Strikes Pedestrian                                                          11\nVehicle Struck by City Road or Construction Machinery                                       11\nVehicle Struck by Other Road or Construction Machinery                                       9\nStrikes or Was Struck by Object from the Load of Another Vehicle                             9\nAll Other Multi Vehicle                                                                      8\nFire started in vehicle                                                                      7\nStrikes or Was Struck by a Part of Another Vehicle (Not from Load)                           5\nVehicle Strikes All Other Non-Domestic Animal                                                2\nRailway Vehicle Strikes Pedalcyclist                                                         2\nVehicle Strikes Deer                                                                         1\nVehicle Hits State Road or Construction Machinery                                            1\nNon-domestic animal (deer, bear, elk, etc)                                                   1\nName: ST_COLDESC, Length: 63, dtype: int64"
                    },
                    "metadata": {}
                }
            ]
        },
        {
            "metadata": {},
            "cell_type": "code",
            "source": "df.groupby(['ST_COLDESC'])['SEVERITYCODE'].value_counts(normalize=True)",
            "execution_count": 104,
            "outputs": [
                {
                    "output_type": "execute_result",
                    "execution_count": 104,
                    "data": {
                        "text/plain": "ST_COLDESC                                                                             SEVERITYCODE\nAll Other Multi Vehicle                                                                1               0.625000\n                                                                                       2               0.375000\nAll other non-collision                                                                1               0.703704\n                                                                                       2               0.296296\nBreakage of any part of the vehicle resulting in injury or in further property damage  1               0.735294\n                                                                                       2               0.264706\nDomestic animal other (cat, dog, etc)                                                  1               0.937500\n                                                                                       2               0.062500\nEntering at angle                                                                      1               0.607083\n                                                                                       2               0.392917\nFire started in vehicle                                                                1               0.857143\n                                                                                       2               0.142857\nFixed object                                                                           1               0.757193\n                                                                                       2               0.242807\nFrom opposite direction - all others                                                   1               0.655914\n                                                                                       2               0.344086\nFrom opposite direction - both going straight - one stopped - sideswipe                1               0.774892\n                                                                                       2               0.225108\nFrom opposite direction - both going straight - sideswipe                              1               0.728585\n                                                                                       2               0.271415\nFrom opposite direction - both moving - head-on                                        2               0.632203\n                                                                                       1               0.367797\nFrom opposite direction - one left turn - one right turn                               1               0.828671\n                                                                                       2               0.171329\nFrom opposite direction - one left turn - one straight                                 1               0.551434\n                                                                                       2               0.448566\nFrom opposite direction - one stopped - head-on                                        1               0.613636\n                                                                                       2               0.386364\nFrom same direction - all others                                                       1               0.814856\n                                                                                       2               0.185144\n                                                                                                         ...   \nStrikes or Was Struck by Object from the Load of Another Vehicle                       2               0.222222\nStrikes or Was Struck by a Part of Another Vehicle (Not from Load)                     1               1.000000\nVehicle - Pedalcyclist                                                                 2               0.876835\n                                                                                       1               0.123165\nVehicle Hits City Road or Construction Machinery                                       1               0.820000\n                                                                                       2               0.180000\nVehicle Hits Other Road or Construction Machinery                                      1               0.636364\n                                                                                       2               0.363636\nVehicle Hits State Road or Construction Machinery                                      1               1.000000\nVehicle Strikes All Other Non-Domestic Animal                                          2               1.000000\nVehicle Strikes Deer                                                                   1               1.000000\nVehicle Strikes Pedalcyclist                                                           2               0.855769\n                                                                                       1               0.144231\nVehicle Strikes Railway Vehicle                                                        1               0.771930\n                                                                                       2               0.228070\nVehicle Struck by City Road or Construction Machinery                                  1               1.000000\nVehicle Struck by Other Road or Construction Machinery                                 1               0.777778\n                                                                                       2               0.222222\nVehicle backing hits pedestrian                                                        2               0.902542\n                                                                                       1               0.097458\nVehicle going straight hits pedestrian                                                 2               0.890701\n                                                                                       1               0.109299\nVehicle hits Pedestrian - All Other Actions                                            2               0.864865\n                                                                                       1               0.135135\nVehicle overturned                                                                     2               0.760736\n                                                                                       1               0.239264\nVehicle turning left hits pedestrian                                                   2               0.918733\n                                                                                       1               0.081267\nVehicle turning right hits pedestrian                                                  2               0.881765\n                                                                                       1               0.118235\nName: SEVERITYCODE, Length: 117, dtype: float64"
                    },
                    "metadata": {}
                }
            ]
        },
        {
            "metadata": {},
            "cell_type": "markdown",
            "source": "Probably somewhat, but we're dealing with the same small sample size / too many categories issues that we dealt with with the SDOT data"
        },
        {
            "metadata": {},
            "cell_type": "markdown",
            "source": "Last but not least : Did the driver hit a parked car?"
        },
        {
            "metadata": {},
            "cell_type": "code",
            "source": "# Hit Parked Car\ndf['HITPARKEDCAR'].value_counts(dropna=False)\n\n# Recode N/Y vars to 0/1\ndf['HITPARKEDCAR'].replace(to_replace='Y', value=1, inplace=True)\ndf['HITPARKEDCAR'].replace(to_replace='N', value=0, inplace=True)\ndf['HITPARKEDCAR'] = df['HITPARKEDCAR'].fillna(0)\n\ndf['HITPARKEDCAR'].value_counts(dropna=False)",
            "execution_count": 56,
            "outputs": [
                {
                    "output_type": "execute_result",
                    "execution_count": 56,
                    "data": {
                        "text/plain": "0    187457\n1      7216\nName: HITPARKEDCAR, dtype: int64"
                    },
                    "metadata": {}
                }
            ]
        },
        {
            "metadata": {},
            "cell_type": "code",
            "source": "df.groupby(['HITPARKEDCAR'])['SEVERITYCODE'].value_counts(normalize=True)",
            "execution_count": 105,
            "outputs": [
                {
                    "output_type": "execute_result",
                    "execution_count": 105,
                    "data": {
                        "text/plain": "HITPARKEDCAR  SEVERITYCODE\n0             1               0.691983\n              2               0.308017\n1             1               0.937916\n              2               0.062084\nName: SEVERITYCODE, dtype: float64"
                    },
                    "metadata": {}
                }
            ]
        },
        {
            "metadata": {},
            "cell_type": "markdown",
            "source": "Clearly important. If you hit a parked car, you probably didn't do too much bodily harm. This will definitely go in the model."
        },
        {
            "metadata": {},
            "cell_type": "markdown",
            "source": "Let's take another look at the raw data"
        },
        {
            "metadata": {},
            "cell_type": "code",
            "source": "df.head(10)",
            "execution_count": 58,
            "outputs": [
                {
                    "output_type": "execute_result",
                    "execution_count": 58,
                    "data": {
                        "text/plain": "   SEVERITYCODE           X          Y  OBJECTID  INCKEY  COLDETKEY REPORTNO  \\\n0             2 -122.323148  47.703140         1    1307       1307  3502005   \n1             1 -122.347294  47.647172         2   52200      52200  2607959   \n2             1 -122.334540  47.607871         3   26700      26700  1482393   \n3             1 -122.334803  47.604803         4    1144       1144  3503937   \n4             2 -122.306426  47.545739         5   17700      17700  1807429   \n5             1 -122.387598  47.690575         6  320840     322340  E919477   \n6             1 -122.338485  47.618534         7   83300      83300  3282542   \n7             2 -122.320780  47.614076         9  330897     332397  EA30304   \n8             1 -122.335930  47.611904        10   63400      63400  2071243   \n9             2 -122.384700  47.528475        12   58600      58600  2072105   \n\n    STATUS      ADDRTYPE   INTKEY  ... ROADCOND                LIGHTCOND  \\\n0  Matched  Intersection  37475.0  ...      Wet                 Daylight   \n1  Matched         Block      NaN  ...      Wet  Dark - Street Lights On   \n2  Matched         Block      NaN  ...      Dry                 Daylight   \n3  Matched         Block      NaN  ...      Dry                 Daylight   \n4  Matched  Intersection  34387.0  ...      Wet                 Daylight   \n5  Matched  Intersection  36974.0  ...      Dry                 Daylight   \n6  Matched  Intersection  29510.0  ...      Wet                 Daylight   \n7  Matched  Intersection  29745.0  ...      Dry                 Daylight   \n8  Matched         Block      NaN  ...      Dry                 Daylight   \n9  Matched  Intersection  34679.0  ...      Dry                 Daylight   \n\n  PEDROWNOTGRNT SDOTCOLNUM SPEEDING  ST_COLCODE  \\\n0           0.0        NaN      0.0          10   \n1           0.0  6354039.0      0.0          11   \n2           0.0  4323031.0      0.0          32   \n3           0.0        NaN      0.0          23   \n4           0.0  4028032.0      0.0          10   \n5           0.0        NaN      0.0          10   \n6           0.0  8344002.0      0.0          10   \n7           0.0        NaN      0.0           5   \n8           0.0  6166014.0      0.0          32   \n9           0.0  6079001.0      0.0          10   \n\n                                          ST_COLDESC  SEGLANEKEY  \\\n0                                  Entering at angle           0   \n1  From same direction - both going straight - bo...           0   \n2                             One parked--one moving           0   \n3                   From same direction - all others           0   \n4                                  Entering at angle           0   \n5                                  Entering at angle           0   \n6                                  Entering at angle           0   \n7                       Vehicle Strikes Pedalcyclist        6855   \n8                             One parked--one moving           0   \n9                                  Entering at angle           0   \n\n   CROSSWALKKEY HITPARKEDCAR  \n0             0            0  \n1             0            0  \n2             0            0  \n3             0            0  \n4             0            0  \n5             0            0  \n6             0            0  \n7             0            0  \n8             0            0  \n9             0            0  \n\n[10 rows x 37 columns]",
                        "text/html": "<div>\n<style scoped>\n    .dataframe tbody tr th:only-of-type {\n        vertical-align: middle;\n    }\n\n    .dataframe tbody tr th {\n        vertical-align: top;\n    }\n\n    .dataframe thead th {\n        text-align: right;\n    }\n</style>\n<table border=\"1\" class=\"dataframe\">\n  <thead>\n    <tr style=\"text-align: right;\">\n      <th></th>\n      <th>SEVERITYCODE</th>\n      <th>X</th>\n      <th>Y</th>\n      <th>OBJECTID</th>\n      <th>INCKEY</th>\n      <th>COLDETKEY</th>\n      <th>REPORTNO</th>\n      <th>STATUS</th>\n      <th>ADDRTYPE</th>\n      <th>INTKEY</th>\n      <th>...</th>\n      <th>ROADCOND</th>\n      <th>LIGHTCOND</th>\n      <th>PEDROWNOTGRNT</th>\n      <th>SDOTCOLNUM</th>\n      <th>SPEEDING</th>\n      <th>ST_COLCODE</th>\n      <th>ST_COLDESC</th>\n      <th>SEGLANEKEY</th>\n      <th>CROSSWALKKEY</th>\n      <th>HITPARKEDCAR</th>\n    </tr>\n  </thead>\n  <tbody>\n    <tr>\n      <th>0</th>\n      <td>2</td>\n      <td>-122.323148</td>\n      <td>47.703140</td>\n      <td>1</td>\n      <td>1307</td>\n      <td>1307</td>\n      <td>3502005</td>\n      <td>Matched</td>\n      <td>Intersection</td>\n      <td>37475.0</td>\n      <td>...</td>\n      <td>Wet</td>\n      <td>Daylight</td>\n      <td>0.0</td>\n      <td>NaN</td>\n      <td>0.0</td>\n      <td>10</td>\n      <td>Entering at angle</td>\n      <td>0</td>\n      <td>0</td>\n      <td>0</td>\n    </tr>\n    <tr>\n      <th>1</th>\n      <td>1</td>\n      <td>-122.347294</td>\n      <td>47.647172</td>\n      <td>2</td>\n      <td>52200</td>\n      <td>52200</td>\n      <td>2607959</td>\n      <td>Matched</td>\n      <td>Block</td>\n      <td>NaN</td>\n      <td>...</td>\n      <td>Wet</td>\n      <td>Dark - Street Lights On</td>\n      <td>0.0</td>\n      <td>6354039.0</td>\n      <td>0.0</td>\n      <td>11</td>\n      <td>From same direction - both going straight - bo...</td>\n      <td>0</td>\n      <td>0</td>\n      <td>0</td>\n    </tr>\n    <tr>\n      <th>2</th>\n      <td>1</td>\n      <td>-122.334540</td>\n      <td>47.607871</td>\n      <td>3</td>\n      <td>26700</td>\n      <td>26700</td>\n      <td>1482393</td>\n      <td>Matched</td>\n      <td>Block</td>\n      <td>NaN</td>\n      <td>...</td>\n      <td>Dry</td>\n      <td>Daylight</td>\n      <td>0.0</td>\n      <td>4323031.0</td>\n      <td>0.0</td>\n      <td>32</td>\n      <td>One parked--one moving</td>\n      <td>0</td>\n      <td>0</td>\n      <td>0</td>\n    </tr>\n    <tr>\n      <th>3</th>\n      <td>1</td>\n      <td>-122.334803</td>\n      <td>47.604803</td>\n      <td>4</td>\n      <td>1144</td>\n      <td>1144</td>\n      <td>3503937</td>\n      <td>Matched</td>\n      <td>Block</td>\n      <td>NaN</td>\n      <td>...</td>\n      <td>Dry</td>\n      <td>Daylight</td>\n      <td>0.0</td>\n      <td>NaN</td>\n      <td>0.0</td>\n      <td>23</td>\n      <td>From same direction - all others</td>\n      <td>0</td>\n      <td>0</td>\n      <td>0</td>\n    </tr>\n    <tr>\n      <th>4</th>\n      <td>2</td>\n      <td>-122.306426</td>\n      <td>47.545739</td>\n      <td>5</td>\n      <td>17700</td>\n      <td>17700</td>\n      <td>1807429</td>\n      <td>Matched</td>\n      <td>Intersection</td>\n      <td>34387.0</td>\n      <td>...</td>\n      <td>Wet</td>\n      <td>Daylight</td>\n      <td>0.0</td>\n      <td>4028032.0</td>\n      <td>0.0</td>\n      <td>10</td>\n      <td>Entering at angle</td>\n      <td>0</td>\n      <td>0</td>\n      <td>0</td>\n    </tr>\n    <tr>\n      <th>5</th>\n      <td>1</td>\n      <td>-122.387598</td>\n      <td>47.690575</td>\n      <td>6</td>\n      <td>320840</td>\n      <td>322340</td>\n      <td>E919477</td>\n      <td>Matched</td>\n      <td>Intersection</td>\n      <td>36974.0</td>\n      <td>...</td>\n      <td>Dry</td>\n      <td>Daylight</td>\n      <td>0.0</td>\n      <td>NaN</td>\n      <td>0.0</td>\n      <td>10</td>\n      <td>Entering at angle</td>\n      <td>0</td>\n      <td>0</td>\n      <td>0</td>\n    </tr>\n    <tr>\n      <th>6</th>\n      <td>1</td>\n      <td>-122.338485</td>\n      <td>47.618534</td>\n      <td>7</td>\n      <td>83300</td>\n      <td>83300</td>\n      <td>3282542</td>\n      <td>Matched</td>\n      <td>Intersection</td>\n      <td>29510.0</td>\n      <td>...</td>\n      <td>Wet</td>\n      <td>Daylight</td>\n      <td>0.0</td>\n      <td>8344002.0</td>\n      <td>0.0</td>\n      <td>10</td>\n      <td>Entering at angle</td>\n      <td>0</td>\n      <td>0</td>\n      <td>0</td>\n    </tr>\n    <tr>\n      <th>7</th>\n      <td>2</td>\n      <td>-122.320780</td>\n      <td>47.614076</td>\n      <td>9</td>\n      <td>330897</td>\n      <td>332397</td>\n      <td>EA30304</td>\n      <td>Matched</td>\n      <td>Intersection</td>\n      <td>29745.0</td>\n      <td>...</td>\n      <td>Dry</td>\n      <td>Daylight</td>\n      <td>0.0</td>\n      <td>NaN</td>\n      <td>0.0</td>\n      <td>5</td>\n      <td>Vehicle Strikes Pedalcyclist</td>\n      <td>6855</td>\n      <td>0</td>\n      <td>0</td>\n    </tr>\n    <tr>\n      <th>8</th>\n      <td>1</td>\n      <td>-122.335930</td>\n      <td>47.611904</td>\n      <td>10</td>\n      <td>63400</td>\n      <td>63400</td>\n      <td>2071243</td>\n      <td>Matched</td>\n      <td>Block</td>\n      <td>NaN</td>\n      <td>...</td>\n      <td>Dry</td>\n      <td>Daylight</td>\n      <td>0.0</td>\n      <td>6166014.0</td>\n      <td>0.0</td>\n      <td>32</td>\n      <td>One parked--one moving</td>\n      <td>0</td>\n      <td>0</td>\n      <td>0</td>\n    </tr>\n    <tr>\n      <th>9</th>\n      <td>2</td>\n      <td>-122.384700</td>\n      <td>47.528475</td>\n      <td>12</td>\n      <td>58600</td>\n      <td>58600</td>\n      <td>2072105</td>\n      <td>Matched</td>\n      <td>Intersection</td>\n      <td>34679.0</td>\n      <td>...</td>\n      <td>Dry</td>\n      <td>Daylight</td>\n      <td>0.0</td>\n      <td>6079001.0</td>\n      <td>0.0</td>\n      <td>10</td>\n      <td>Entering at angle</td>\n      <td>0</td>\n      <td>0</td>\n      <td>0</td>\n    </tr>\n  </tbody>\n</table>\n<p>10 rows \u00d7 37 columns</p>\n</div>"
                    },
                    "metadata": {}
                }
            ]
        },
        {
            "metadata": {},
            "cell_type": "markdown",
            "source": "### Data Preparation:\nThe data preparation includes all the required activities to construct the final dataset which will be fed into the modeling tools. Data preparation can be performed multiple times and it includes balancing the labeled data, transformation, filling missing data, and cleaning the dataset."
        },
        {
            "metadata": {},
            "cell_type": "markdown",
            "source": "Based on the above analysis, the following variables seem important:<br><br>\nCategorical<br>\nADDRTYPE<br>\nCOLLISIONTYPE<br>\nPERSONCOUNT_grouped<br>\nVEHCOUNT_grouped (not really a trend here)<br>\nROADCOND<br><br>\nBinary<br>\nINATTENTIONIND<br>\nUNDERINFL<br>\nPEDROWNOTGRNT<br>\nSPEEDING<br>\nHITPARKEDCAR<br><br>\nNumerical<br>\nPEDCOUNT<br>\nPEDCYLCOUNT<br>"
        },
        {
            "metadata": {},
            "cell_type": "code",
            "source": "",
            "execution_count": null,
            "outputs": []
        },
        {
            "metadata": {},
            "cell_type": "code",
            "source": "",
            "execution_count": null,
            "outputs": []
        },
        {
            "metadata": {},
            "cell_type": "markdown",
            "source": "### Modeling:\nIn this phase, various algorithms and methods can be selected and applied to build the model including supervised machine learning techniques. You can select SVM, XGBoost, decision tree, or any other techniques. You can select a single or multiple machine learning models for the same data mining problem. At this phase, stepping back to the data preparation phase is often required."
        },
        {
            "metadata": {},
            "cell_type": "code",
            "source": "",
            "execution_count": null,
            "outputs": []
        },
        {
            "metadata": {},
            "cell_type": "code",
            "source": "",
            "execution_count": null,
            "outputs": []
        },
        {
            "metadata": {},
            "cell_type": "code",
            "source": "",
            "execution_count": null,
            "outputs": []
        },
        {
            "metadata": {},
            "cell_type": "markdown",
            "source": "### Evaluation:\nBefore proceeding to the deployment stage, the model needs to be evaluated thoroughly to ensure that the business or the applications' objectives are achieved. Certain metrics can be used for the model evaluation such as accuracy, recall, F1-score, precision, and others."
        },
        {
            "metadata": {},
            "cell_type": "code",
            "source": "",
            "execution_count": null,
            "outputs": []
        },
        {
            "metadata": {},
            "cell_type": "code",
            "source": "",
            "execution_count": null,
            "outputs": []
        },
        {
            "metadata": {},
            "cell_type": "code",
            "source": "",
            "execution_count": null,
            "outputs": []
        },
        {
            "metadata": {},
            "cell_type": "markdown",
            "source": "### Deployment:\nThe deployment phase requirements vary from project to project. It can be as simple as creating a report, developing interactive visualization, or making the machine learning model available in the production environment. In this environment, the customers or end-users can utilize the model in different ways such as API, website, or so on."
        },
        {
            "metadata": {},
            "cell_type": "code",
            "source": "",
            "execution_count": null,
            "outputs": []
        },
        {
            "metadata": {},
            "cell_type": "code",
            "source": "",
            "execution_count": null,
            "outputs": []
        },
        {
            "metadata": {},
            "cell_type": "code",
            "source": "",
            "execution_count": null,
            "outputs": []
        },
        {
            "metadata": {},
            "cell_type": "code",
            "source": "",
            "execution_count": null,
            "outputs": []
        },
        {
            "metadata": {},
            "cell_type": "code",
            "source": "",
            "execution_count": null,
            "outputs": []
        },
        {
            "metadata": {},
            "cell_type": "code",
            "source": "",
            "execution_count": null,
            "outputs": []
        },
        {
            "metadata": {},
            "cell_type": "code",
            "source": "",
            "execution_count": null,
            "outputs": []
        },
        {
            "metadata": {},
            "cell_type": "code",
            "source": "",
            "execution_count": null,
            "outputs": []
        },
        {
            "metadata": {},
            "cell_type": "code",
            "source": "",
            "execution_count": null,
            "outputs": []
        },
        {
            "metadata": {},
            "cell_type": "code",
            "source": "",
            "execution_count": null,
            "outputs": []
        },
        {
            "metadata": {},
            "cell_type": "code",
            "source": "\n\n\nimport matplotlib.ticker as ticker\nfrom matplotlib.ticker import NullFormatter\nimport matplotlib.image as mpimg\nimport scipy.optimize as opt\nfrom sklearn import tree\nfrom sklearn import svm\nfrom sklearn.metrics import classification_report, confusion_matrix, jaccard_similarity_score, f1_score\nfrom sklearn.linear_model import LogisticRegression\nfrom sklearn.externals.six import StringIO\nfrom sklearn import metrics\nfrom sklearn import preprocessing\nfrom sklearn.model_selection import train_test_split\nfrom sklearn.tree import DecisionTreeClassifier\n#import pydotplus\n\n!conda install -c conda-forge pydotplus -y\n!conda install -c conda-forge python-graphviz -y\n!conda install -c anaconda seaborn -y\n\n%matplotlib inline ",
            "execution_count": null,
            "outputs": []
        }
    ],
    "metadata": {
        "kernelspec": {
            "name": "python3",
            "display_name": "Python 3.6",
            "language": "python"
        },
        "language_info": {
            "name": "python",
            "version": "3.6.9",
            "mimetype": "text/x-python",
            "codemirror_mode": {
                "name": "ipython",
                "version": 3
            },
            "pygments_lexer": "ipython3",
            "nbconvert_exporter": "python",
            "file_extension": ".py"
        }
    },
    "nbformat": 4,
    "nbformat_minor": 1
}