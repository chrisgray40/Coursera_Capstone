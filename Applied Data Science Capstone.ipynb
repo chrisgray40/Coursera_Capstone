{
    "cells": [
        {
            "metadata": {
                "collapsed": true
            },
            "cell_type": "markdown",
            "source": "## IBM Data Science Professional"
        },
        {
            "metadata": {},
            "cell_type": "markdown",
            "source": "Applied Data Science Capstone, Chris Gray, September 2020"
        },
        {
            "metadata": {},
            "cell_type": "markdown",
            "source": "First, let's import the necessary libraries..."
        },
        {
            "metadata": {},
            "cell_type": "code",
            "source": "import itertools\nimport numpy as np\nimport pylab as pl\nimport pandas as pd",
            "execution_count": 1,
            "outputs": []
        },
        {
            "metadata": {},
            "cell_type": "markdown",
            "source": "### Data understanding:\nIn this phase, you need to collect or extract the dataset from various sources such as csv file or SQL database. Then, you need to determine the attributes (columns) that you will use to train your machine learning model. Also, you will assess the condition of chosen attributes by looking for trends, certain patterns, skewed information, correlations, and so on."
        },
        {
            "metadata": {},
            "cell_type": "code",
            "source": "!wget -O Data-Collisions.csv https://raw.githubusercontent.com/chrisgray40/Coursera_Capstone/master/Data-Collisions.csv\ndf = pd.read_csv('Data-Collisions.csv', error_bad_lines=False)",
            "execution_count": 2,
            "outputs": [
                {
                    "output_type": "stream",
                    "text": "--2020-09-11 18:43:15--  https://raw.githubusercontent.com/chrisgray40/Coursera_Capstone/master/Data-Collisions.csv\nResolving raw.githubusercontent.com (raw.githubusercontent.com)... 151.101.48.133\nConnecting to raw.githubusercontent.com (raw.githubusercontent.com)|151.101.48.133|:443... connected.\nHTTP request sent, awaiting response... 200 OK\nLength: 72431093 (69M) [text/plain]\nSaving to: \u2018Data-Collisions.csv\u2019\n\n100%[======================================>] 72,431,093   169MB/s   in 0.4s   \n\n2020-09-11 18:43:16 (169 MB/s) - \u2018Data-Collisions.csv\u2019 saved [72431093/72431093]\n\n",
                    "name": "stdout"
                },
                {
                    "output_type": "stream",
                    "text": "/opt/conda/envs/Python36/lib/python3.6/site-packages/IPython/core/interactiveshell.py:3020: DtypeWarning: Columns (32) have mixed types. Specify dtype option on import or set low_memory=False.\n  interactivity=interactivity, compiler=compiler, result=result)\n",
                    "name": "stderr"
                }
            ]
        },
        {
            "metadata": {},
            "cell_type": "code",
            "source": "df.head()\ndf.shape",
            "execution_count": 3,
            "outputs": [
                {
                    "output_type": "execute_result",
                    "execution_count": 3,
                    "data": {
                        "text/plain": "(194673, 37)"
                    },
                    "metadata": {}
                }
            ]
        },
        {
            "metadata": {},
            "cell_type": "markdown",
            "source": "Let's start by looking at Address type. Does this have any impact on our Severity Score?"
        },
        {
            "metadata": {
                "scrolled": true
            },
            "cell_type": "code",
            "source": "# Address Type\ndf['ADDRTYPE'].value_counts(dropna=False)\n",
            "execution_count": 4,
            "outputs": [
                {
                    "output_type": "execute_result",
                    "execution_count": 4,
                    "data": {
                        "text/plain": "Block           126926\nIntersection     65070\nNaN               1926\nAlley              751\nName: ADDRTYPE, dtype: int64"
                    },
                    "metadata": {}
                }
            ]
        },
        {
            "metadata": {},
            "cell_type": "code",
            "source": "df.groupby(['ADDRTYPE'])['SEVERITYCODE'].value_counts(normalize=True)",
            "execution_count": 5,
            "outputs": [
                {
                    "output_type": "execute_result",
                    "execution_count": 5,
                    "data": {
                        "text/plain": "ADDRTYPE      SEVERITYCODE\nAlley         1               0.890812\n              2               0.109188\nBlock         1               0.762885\n              2               0.237115\nIntersection  1               0.572476\n              2               0.427524\nName: SEVERITYCODE, dtype: float64"
                    },
                    "metadata": {}
                }
            ]
        },
        {
            "metadata": {},
            "cell_type": "markdown",
            "source": "Yes, it does! Intersections are much more dangerous than alleys. This could easily be a function of speed."
        },
        {
            "metadata": {},
            "cell_type": "markdown",
            "source": "Let's move on to Collision Type"
        },
        {
            "metadata": {},
            "cell_type": "code",
            "source": "# Collision Type\ndf['COLLISIONTYPE'].value_counts(dropna=False)",
            "execution_count": 6,
            "outputs": [
                {
                    "output_type": "execute_result",
                    "execution_count": 6,
                    "data": {
                        "text/plain": "Parked Car    47987\nAngles        34674\nRear Ended    34090\nOther         23703\nSideswipe     18609\nLeft Turn     13703\nPedestrian     6608\nCycles         5415\nNaN            4904\nRight Turn     2956\nHead On        2024\nName: COLLISIONTYPE, dtype: int64"
                    },
                    "metadata": {}
                }
            ]
        },
        {
            "metadata": {},
            "cell_type": "code",
            "source": "df.groupby(['COLLISIONTYPE'])['SEVERITYCODE'].value_counts(normalize=True)",
            "execution_count": 7,
            "outputs": [
                {
                    "output_type": "execute_result",
                    "execution_count": 7,
                    "data": {
                        "text/plain": "COLLISIONTYPE  SEVERITYCODE\nAngles         1               0.607083\n               2               0.392917\nCycles         2               0.876085\n               1               0.123915\nHead On        1               0.569170\n               2               0.430830\nLeft Turn      1               0.605123\n               2               0.394877\nOther          1               0.742142\n               2               0.257858\nParked Car     1               0.944527\n               2               0.055473\nPedestrian     2               0.898305\n               1               0.101695\nRear Ended     1               0.569639\n               2               0.430361\nRight Turn     1               0.793978\n               2               0.206022\nSideswipe      1               0.865334\n               2               0.134666\nName: SEVERITYCODE, dtype: float64"
                    },
                    "metadata": {}
                }
            ]
        },
        {
            "metadata": {},
            "cell_type": "markdown",
            "source": "Definite trends with Collision type. It appears that collisions at angles, head on, left turn, and rear end lead to the most severe crashes.\nCycles, sideswipes, etc are less dangerous"
        },
        {
            "metadata": {
                "scrolled": true
            },
            "cell_type": "code",
            "source": "# Person Count\ndf['PERSONCOUNT'].value_counts(dropna=False)",
            "execution_count": 8,
            "outputs": [
                {
                    "output_type": "execute_result",
                    "execution_count": 8,
                    "data": {
                        "text/plain": "2     114231\n3      35553\n4      14660\n1      13154\n5       6584\n0       5544\n6       2702\n7       1131\n8        533\n9        216\n10       128\n11        56\n12        33\n13        21\n14        19\n15        11\n17        11\n16         8\n44         6\n18         6\n20         6\n25         6\n19         5\n26         4\n22         4\n27         3\n28         3\n29         3\n47         3\n32         3\n34         3\n37         3\n23         2\n21         2\n24         2\n30         2\n36         2\n57         1\n31         1\n35         1\n39         1\n41         1\n43         1\n48         1\n53         1\n54         1\n81         1\nName: PERSONCOUNT, dtype: int64"
                    },
                    "metadata": {}
                }
            ]
        },
        {
            "metadata": {},
            "cell_type": "markdown",
            "source": "Pretty big spread of persons here. Let's group into 1, 2, 3, 4, and 5+ "
        },
        {
            "metadata": {},
            "cell_type": "code",
            "source": "df['PERSONCOUNT'].where(df['PERSONCOUNT'] < 5,5,inplace=True)\ndf['PERSONCOUNT'].value_counts(dropna=False)",
            "execution_count": 9,
            "outputs": [
                {
                    "output_type": "execute_result",
                    "execution_count": 9,
                    "data": {
                        "text/plain": "2    114231\n3     35553\n4     14660\n1     13154\n5     11531\n0      5544\nName: PERSONCOUNT, dtype: int64"
                    },
                    "metadata": {}
                }
            ]
        },
        {
            "metadata": {},
            "cell_type": "code",
            "source": "df.groupby(['PERSONCOUNT'])['SEVERITYCODE'].value_counts(normalize=True)",
            "execution_count": 10,
            "outputs": [
                {
                    "output_type": "execute_result",
                    "execution_count": 10,
                    "data": {
                        "text/plain": "PERSONCOUNT  SEVERITYCODE\n0            1               0.682179\n             2               0.317821\n1            1               0.749430\n             2               0.250570\n2            1               0.756537\n             2               0.243463\n3            1               0.621382\n             2               0.378618\n4            1               0.570600\n             2               0.429400\n5            1               0.517561\n             2               0.482439\nName: SEVERITYCODE, dtype: float64"
                    },
                    "metadata": {}
                }
            ]
        },
        {
            "metadata": {},
            "cell_type": "markdown",
            "source": "Clear trend here that the more people involved, the higher the severity. "
        },
        {
            "metadata": {},
            "cell_type": "markdown",
            "source": "Moving on, looking at Number of Pedestrians:"
        },
        {
            "metadata": {
                "scrolled": true
            },
            "cell_type": "code",
            "source": "# Ped Count\ndf['PEDCOUNT'].value_counts(dropna=False)",
            "execution_count": 11,
            "outputs": [
                {
                    "output_type": "execute_result",
                    "execution_count": 11,
                    "data": {
                        "text/plain": "0    187734\n1      6685\n2       226\n3        22\n4         4\n6         1\n5         1\nName: PEDCOUNT, dtype: int64"
                    },
                    "metadata": {}
                }
            ]
        },
        {
            "metadata": {
                "scrolled": true
            },
            "cell_type": "code",
            "source": "df.groupby(['PEDCOUNT'])['SEVERITYCODE'].value_counts(normalize=True)",
            "execution_count": 12,
            "outputs": [
                {
                    "output_type": "execute_result",
                    "execution_count": 12,
                    "data": {
                        "text/plain": "PEDCOUNT  SEVERITYCODE\n0         1               0.723295\n          2               0.276705\n1         2               0.898579\n          1               0.101421\n2         2               0.915929\n          1               0.084071\n3         2               0.954545\n          1               0.045455\n4         2               1.000000\n5         2               1.000000\n6         2               1.000000\nName: SEVERITYCODE, dtype: float64"
                    },
                    "metadata": {}
                }
            ]
        },
        {
            "metadata": {},
            "cell_type": "markdown",
            "source": "Wow. Involving a single pedestrian makes the severity rate absolutely skyrocket. Let's create an indicator for \"0 pedestrians\" in addition to the continuous field."
        },
        {
            "metadata": {},
            "cell_type": "code",
            "source": "df['PEDCOUNT_0'] = 0\ndf.loc[df['PEDCOUNT'] >= 1, ['PEDCOUNT_0']] = 1\ndf.groupby(['PEDCOUNT'])['PEDCOUNT_0'].value_counts(normalize=True)",
            "execution_count": 13,
            "outputs": [
                {
                    "output_type": "execute_result",
                    "execution_count": 13,
                    "data": {
                        "text/plain": "PEDCOUNT  PEDCOUNT_0\n0         0             1.0\n1         1             1.0\n2         1             1.0\n3         1             1.0\n4         1             1.0\n5         1             1.0\n6         1             1.0\nName: PEDCOUNT_0, dtype: float64"
                    },
                    "metadata": {}
                }
            ]
        },
        {
            "metadata": {},
            "cell_type": "markdown",
            "source": "Let's look at number of Cyclists..."
        },
        {
            "metadata": {
                "scrolled": true
            },
            "cell_type": "code",
            "source": "# Cycle Count\ndf['PEDCYLCOUNT'].value_counts(dropna=False)",
            "execution_count": 14,
            "outputs": [
                {
                    "output_type": "execute_result",
                    "execution_count": 14,
                    "data": {
                        "text/plain": "0    189189\n1      5441\n2        43\nName: PEDCYLCOUNT, dtype: int64"
                    },
                    "metadata": {}
                }
            ]
        },
        {
            "metadata": {
                "scrolled": true
            },
            "cell_type": "code",
            "source": "df.groupby(['PEDCYLCOUNT'])['SEVERITYCODE'].value_counts(normalize=True)",
            "execution_count": 15,
            "outputs": [
                {
                    "output_type": "execute_result",
                    "execution_count": 15,
                    "data": {
                        "text/plain": "PEDCYLCOUNT  SEVERITYCODE\n0            1               0.717832\n             2               0.282168\n1            2               0.875207\n             1               0.124793\n2            2               1.000000\nName: SEVERITYCODE, dtype: float64"
                    },
                    "metadata": {}
                }
            ]
        },
        {
            "metadata": {},
            "cell_type": "markdown",
            "source": "And the same is true with Cyclists. Funnily enough, when a car hits a person or a bike, it doesn't end well. Since there are so few with 2 cyclists, let's lump them into the \"1\" category"
        },
        {
            "metadata": {},
            "cell_type": "code",
            "source": "df['PEDCYLCOUNT'].replace(to_replace=2, value=1, inplace=True)\ndf.groupby(['PEDCYLCOUNT'])['SEVERITYCODE'].value_counts(normalize=True)",
            "execution_count": 16,
            "outputs": [
                {
                    "output_type": "execute_result",
                    "execution_count": 16,
                    "data": {
                        "text/plain": "PEDCYLCOUNT  SEVERITYCODE\n0            1               0.717832\n             2               0.282168\n1            2               0.876185\n             1               0.123815\nName: SEVERITYCODE, dtype: float64"
                    },
                    "metadata": {}
                }
            ]
        },
        {
            "metadata": {},
            "cell_type": "markdown",
            "source": "Moving on to Vehicle Count"
        },
        {
            "metadata": {
                "scrolled": true
            },
            "cell_type": "code",
            "source": "# Vehicle Count\ndf['VEHCOUNT'].value_counts(dropna=False)\n",
            "execution_count": 17,
            "outputs": [
                {
                    "output_type": "execute_result",
                    "execution_count": 17,
                    "data": {
                        "text/plain": "2     147650\n1      25748\n3      13010\n0       5085\n4       2426\n5        529\n6        146\n7         46\n8         15\n9          9\n11         6\n10         2\n12         1\nName: VEHCOUNT, dtype: int64"
                    },
                    "metadata": {}
                }
            ]
        },
        {
            "metadata": {},
            "cell_type": "markdown",
            "source": "Small sample sizes here above 5 cars, so let's bin them like we did earlier"
        },
        {
            "metadata": {},
            "cell_type": "code",
            "source": "df['VEHCOUNT'].where(df['VEHCOUNT'] < 5,5,inplace=True)\ndf['VEHCOUNT'].value_counts(dropna=False)",
            "execution_count": 18,
            "outputs": [
                {
                    "output_type": "execute_result",
                    "execution_count": 18,
                    "data": {
                        "text/plain": "2    147650\n1     25748\n3     13010\n0      5085\n4      2426\n5       754\nName: VEHCOUNT, dtype: int64"
                    },
                    "metadata": {}
                }
            ]
        },
        {
            "metadata": {},
            "cell_type": "code",
            "source": "df.groupby(['VEHCOUNT'])['SEVERITYCODE'].value_counts(normalize=True)",
            "execution_count": 19,
            "outputs": [
                {
                    "output_type": "execute_result",
                    "execution_count": 19,
                    "data": {
                        "text/plain": "VEHCOUNT  SEVERITYCODE\n0         1               0.758702\n          2               0.241298\n1         2               0.547810\n          1               0.452190\n2         1               0.756526\n          2               0.243474\n3         1               0.579554\n          2               0.420446\n4         1               0.555647\n          2               0.444353\n5         1               0.523873\n          2               0.476127\nName: SEVERITYCODE, dtype: float64"
                    },
                    "metadata": {}
                }
            ]
        },
        {
            "metadata": {},
            "cell_type": "markdown",
            "source": "It's not clear if there is a trend here."
        },
        {
            "metadata": {},
            "cell_type": "markdown",
            "source": "Let's work with the Date variable a bit"
        },
        {
            "metadata": {},
            "cell_type": "code",
            "source": "import seaborn as sns\nimport matplotlib.pyplot as plt\n\n# Incident Date\ndf['INCDATE'] = pd.to_datetime(df['INCDATE'])\ndf.head()\n\ndf['dayofweek'] = df['INCDATE'].dt.dayofweek\nbins = np.linspace(df.dayofweek.min(), df.dayofweek.max(), 10)\ng = sns.FacetGrid(df, col=\"SEVERITYCODE\", hue=\"SEVERITYCODE\", palette=\"Set1\", col_wrap=2)\ng.map(plt.hist, 'dayofweek', bins=bins, ec=\"k\")\ng.axes[-1].legend()\nplt.show()\n\n\n",
            "execution_count": 20,
            "outputs": [
                {
                    "output_type": "display_data",
                    "data": {
                        "text/plain": "<Figure size 432x216 with 2 Axes>",
                        "image/png": "[encoded data removed]"
                    },
                    "metadata": {
                        "needs_background": "light"
                    }
                }
            ]
        },
        {
            "metadata": {},
            "cell_type": "code",
            "source": "df.groupby([df['INCDATE'].dt.year]).agg({'mean'})",
            "execution_count": 21,
            "outputs": [
                {
                    "output_type": "execute_result",
                    "execution_count": 21,
                    "data": {
                        "text/plain": "        SEVERITYCODE           X          Y       OBJECTID         INCKEY  \\\n                mean        mean       mean           mean           mean   \nINCDATE                                                                     \n2004        1.307375 -122.330285  47.621797   10962.043152   24691.625959   \n2005        1.294410 -122.330435  47.620266   26375.441416   40390.871188   \n2006        1.286410 -122.330843  47.620436   41934.029234   56336.934619   \n2007        1.277878 -122.331270  47.620532   57103.706419   71826.342418   \n2008        1.275769 -122.332086  47.621816   71393.098023   86380.258858   \n2009        1.287881 -122.330611  47.620455   84832.673257  100152.512357   \n2010        1.300241 -122.330431  47.618903   98344.263601  114045.426906   \n2011        1.283817 -122.330885  47.620494  109083.254877  125105.249382   \n2012        1.317869 -122.330528  47.620610  121339.737783  137888.023196   \n2013        1.311052 -122.330568  47.619417  124830.495698  142762.721093   \n2014        1.294739 -122.329808  47.620030  145161.408074  172071.603159   \n2015        1.288726 -122.329505  47.619100  158421.224548  197751.612928   \n2016        1.318552 -122.330075  47.617577  172431.565915  223480.115962   \n2017        1.314449 -122.330120  47.618087  184712.746896  245939.294675   \n2018        1.322296 -122.330251  47.616349  202316.980996  292989.641136   \n2019        1.325329 -122.330452  47.615155  203967.720888  321102.128559   \n2020        1.304232 -122.329010  47.616688  193530.836971  329501.952784   \n\n             COLDETKEY        INTKEY PERSONCOUNT  PEDCOUNT PEDCYLCOUNT  \\\n                  mean          mean        mean      mean        mean   \nINCDATE                                                                  \n2004      24691.625959  35093.770434    2.475769  0.030763    0.017362   \n2005      40390.871188  35157.794925    2.479656  0.029110    0.016937   \n2006      56336.934619  33333.283159    2.437187  0.032657    0.021398   \n2007      71826.359020  34294.128546    2.440232  0.032236    0.021029   \n2008      86380.258858  34074.072935    2.427306  0.032138    0.023646   \n2009     100152.652122  35918.008149    2.464633  0.035367    0.029061   \n2010     114046.398409  36479.569853    2.521373  0.044504    0.031088   \n2011     125105.767744  36827.734653    2.481821  0.034619    0.030589   \n2012     137890.038416  39767.991034    2.464381  0.038966    0.031723   \n2013     142776.970597  38918.847124    2.479815  0.036305    0.035360   \n2014     172099.770121  38405.478519    2.434761  0.039101    0.033950   \n2015     197880.688342  40173.592942    1.937591  0.037168    0.034244   \n2016     223799.806501  40811.356925    2.377562  0.042542    0.032936   \n2017     246483.728226  40326.004699    1.917134  0.042766    0.031822   \n2018     294059.717343  41351.144357    2.446876  0.047029    0.035320   \n2019     322589.730238  40790.948590    2.407671  0.051211    0.038355   \n2020     331001.952784  42794.713961    2.297996  0.027617    0.014699   \n\n         VEHCOUNT SDOT_COLCODE    SDOTCOLNUM  SEGLANEKEY  CROSSWALKKEY  \\\n             mean         mean          mean        mean          mean   \nINCDATE                                                                  \n2004     1.980531    14.501643  4.176582e+06    0.000000      0.000000   \n2005     1.989018    14.168905  5.189778e+06    0.000000      0.000000   \n2006     1.978667    14.443245  6.182515e+06    0.000000      0.000000   \n2007     1.979317    14.250623  7.183784e+06  251.828376   9589.865385   \n2008     1.979649    13.997804  8.185052e+06  256.440556  10788.138141   \n2009     1.968382    14.132606  9.180483e+06  387.297341  11166.049855   \n2010     1.953460    14.288953  1.018696e+07  352.127591  14582.743431   \n2011     1.959154    13.228409  1.118612e+07  347.689532  11571.979668   \n2012     1.837352    13.523334  1.218646e+07  390.194187  13205.036399   \n2013     1.857521    13.752955  1.303561e+07  471.602628  12538.124610   \n2014     1.927033    13.282662           NaN  436.122540  12970.547420   \n2015     1.935437    12.657484           NaN  475.003001  13510.729434   \n2016     1.840295    13.230037           NaN  406.164851  16048.234840   \n2017     1.896073    13.780925  1.224002e+07  450.494160  16602.361354   \n2018     1.864478    13.947596           NaN  126.791535   9362.342451   \n2019     1.813961    14.437527           NaN  128.563217  11290.601254   \n2020     1.092650    14.317595           NaN  182.357684  11651.919822   \n\n        PEDCOUNT_0 dayofweek  \n              mean      mean  \nINCDATE                       \n2004      0.029583  2.944543  \n2005      0.028316  2.994707  \n2006      0.031406  2.950948  \n2007      0.030645  2.971085  \n2008      0.030600  2.958053  \n2009      0.034004  2.976990  \n2010      0.042006  2.967894  \n2011      0.032604  2.929298  \n2012      0.037774  2.952691  \n2013      0.034792  2.922757  \n2014      0.037159  2.893590  \n2015      0.035860  2.921124  \n2016      0.040913  2.909426  \n2017      0.041755  2.883749  \n2018      0.045782  2.912468  \n2019      0.048874  2.879941  \n2020      0.026281  2.962138  ",
                        "text/html": "<div>\n<style scoped>\n    .dataframe tbody tr th:only-of-type {\n        vertical-align: middle;\n    }\n\n    .dataframe tbody tr th {\n        vertical-align: top;\n    }\n\n    .dataframe thead tr th {\n        text-align: left;\n    }\n\n    .dataframe thead tr:last-of-type th {\n        text-align: right;\n    }\n</style>\n<table border=\"1\" class=\"dataframe\">\n  <thead>\n    <tr>\n      <th></th>\n      <th>SEVERITYCODE</th>\n      <th>X</th>\n      <th>Y</th>\n      <th>OBJECTID</th>\n      <th>INCKEY</th>\n      <th>COLDETKEY</th>\n      <th>INTKEY</th>\n      <th>PERSONCOUNT</th>\n      <th>PEDCOUNT</th>\n      <th>PEDCYLCOUNT</th>\n      <th>VEHCOUNT</th>\n      <th>SDOT_COLCODE</th>\n      <th>SDOTCOLNUM</th>\n      <th>SEGLANEKEY</th>\n      <th>CROSSWALKKEY</th>\n      <th>PEDCOUNT_0</th>\n      <th>dayofweek</th>\n    </tr>\n    <tr>\n      <th></th>\n      <th>mean</th>\n      <th>mean</th>\n      <th>mean</th>\n      <th>mean</th>\n      <th>mean</th>\n      <th>mean</th>\n      <th>mean</th>\n      <th>mean</th>\n      <th>mean</th>\n      <th>mean</th>\n      <th>mean</th>\n      <th>mean</th>\n      <th>mean</th>\n      <th>mean</th>\n      <th>mean</th>\n      <th>mean</th>\n      <th>mean</th>\n    </tr>\n    <tr>\n      <th>INCDATE</th>\n      <th></th>\n      <th></th>\n      <th></th>\n      <th></th>\n      <th></th>\n      <th></th>\n      <th></th>\n      <th></th>\n      <th></th>\n      <th></th>\n      <th></th>\n      <th></th>\n      <th></th>\n      <th></th>\n      <th></th>\n      <th></th>\n      <th></th>\n    </tr>\n  </thead>\n  <tbody>\n    <tr>\n      <th>2004</th>\n      <td>1.307375</td>\n      <td>-122.330285</td>\n      <td>47.621797</td>\n      <td>10962.043152</td>\n      <td>24691.625959</td>\n      <td>24691.625959</td>\n      <td>35093.770434</td>\n      <td>2.475769</td>\n      <td>0.030763</td>\n      <td>0.017362</td>\n      <td>1.980531</td>\n      <td>14.501643</td>\n      <td>4.176582e+06</td>\n      <td>0.000000</td>\n      <td>0.000000</td>\n      <td>0.029583</td>\n      <td>2.944543</td>\n    </tr>\n    <tr>\n      <th>2005</th>\n      <td>1.294410</td>\n      <td>-122.330435</td>\n      <td>47.620266</td>\n      <td>26375.441416</td>\n      <td>40390.871188</td>\n      <td>40390.871188</td>\n      <td>35157.794925</td>\n      <td>2.479656</td>\n      <td>0.029110</td>\n      <td>0.016937</td>\n      <td>1.989018</td>\n      <td>14.168905</td>\n      <td>5.189778e+06</td>\n      <td>0.000000</td>\n      <td>0.000000</td>\n      <td>0.028316</td>\n      <td>2.994707</td>\n    </tr>\n    <tr>\n      <th>2006</th>\n      <td>1.286410</td>\n      <td>-122.330843</td>\n      <td>47.620436</td>\n      <td>41934.029234</td>\n      <td>56336.934619</td>\n      <td>56336.934619</td>\n      <td>33333.283159</td>\n      <td>2.437187</td>\n      <td>0.032657</td>\n      <td>0.021398</td>\n      <td>1.978667</td>\n      <td>14.443245</td>\n      <td>6.182515e+06</td>\n      <td>0.000000</td>\n      <td>0.000000</td>\n      <td>0.031406</td>\n      <td>2.950948</td>\n    </tr>\n    <tr>\n      <th>2007</th>\n      <td>1.277878</td>\n      <td>-122.331270</td>\n      <td>47.620532</td>\n      <td>57103.706419</td>\n      <td>71826.342418</td>\n      <td>71826.359020</td>\n      <td>34294.128546</td>\n      <td>2.440232</td>\n      <td>0.032236</td>\n      <td>0.021029</td>\n      <td>1.979317</td>\n      <td>14.250623</td>\n      <td>7.183784e+06</td>\n      <td>251.828376</td>\n      <td>9589.865385</td>\n      <td>0.030645</td>\n      <td>2.971085</td>\n    </tr>\n    <tr>\n      <th>2008</th>\n      <td>1.275769</td>\n      <td>-122.332086</td>\n      <td>47.621816</td>\n      <td>71393.098023</td>\n      <td>86380.258858</td>\n      <td>86380.258858</td>\n      <td>34074.072935</td>\n      <td>2.427306</td>\n      <td>0.032138</td>\n      <td>0.023646</td>\n      <td>1.979649</td>\n      <td>13.997804</td>\n      <td>8.185052e+06</td>\n      <td>256.440556</td>\n      <td>10788.138141</td>\n      <td>0.030600</td>\n      <td>2.958053</td>\n    </tr>\n    <tr>\n      <th>2009</th>\n      <td>1.287881</td>\n      <td>-122.330611</td>\n      <td>47.620455</td>\n      <td>84832.673257</td>\n      <td>100152.512357</td>\n      <td>100152.652122</td>\n      <td>35918.008149</td>\n      <td>2.464633</td>\n      <td>0.035367</td>\n      <td>0.029061</td>\n      <td>1.968382</td>\n      <td>14.132606</td>\n      <td>9.180483e+06</td>\n      <td>387.297341</td>\n      <td>11166.049855</td>\n      <td>0.034004</td>\n      <td>2.976990</td>\n    </tr>\n    <tr>\n      <th>2010</th>\n      <td>1.300241</td>\n      <td>-122.330431</td>\n      <td>47.618903</td>\n      <td>98344.263601</td>\n      <td>114045.426906</td>\n      <td>114046.398409</td>\n      <td>36479.569853</td>\n      <td>2.521373</td>\n      <td>0.044504</td>\n      <td>0.031088</td>\n      <td>1.953460</td>\n      <td>14.288953</td>\n      <td>1.018696e+07</td>\n      <td>352.127591</td>\n      <td>14582.743431</td>\n      <td>0.042006</td>\n      <td>2.967894</td>\n    </tr>\n    <tr>\n      <th>2011</th>\n      <td>1.283817</td>\n      <td>-122.330885</td>\n      <td>47.620494</td>\n      <td>109083.254877</td>\n      <td>125105.249382</td>\n      <td>125105.767744</td>\n      <td>36827.734653</td>\n      <td>2.481821</td>\n      <td>0.034619</td>\n      <td>0.030589</td>\n      <td>1.959154</td>\n      <td>13.228409</td>\n      <td>1.118612e+07</td>\n      <td>347.689532</td>\n      <td>11571.979668</td>\n      <td>0.032604</td>\n      <td>2.929298</td>\n    </tr>\n    <tr>\n      <th>2012</th>\n      <td>1.317869</td>\n      <td>-122.330528</td>\n      <td>47.620610</td>\n      <td>121339.737783</td>\n      <td>137888.023196</td>\n      <td>137890.038416</td>\n      <td>39767.991034</td>\n      <td>2.464381</td>\n      <td>0.038966</td>\n      <td>0.031723</td>\n      <td>1.837352</td>\n      <td>13.523334</td>\n      <td>1.218646e+07</td>\n      <td>390.194187</td>\n      <td>13205.036399</td>\n      <td>0.037774</td>\n      <td>2.952691</td>\n    </tr>\n    <tr>\n      <th>2013</th>\n      <td>1.311052</td>\n      <td>-122.330568</td>\n      <td>47.619417</td>\n      <td>124830.495698</td>\n      <td>142762.721093</td>\n      <td>142776.970597</td>\n      <td>38918.847124</td>\n      <td>2.479815</td>\n      <td>0.036305</td>\n      <td>0.035360</td>\n      <td>1.857521</td>\n      <td>13.752955</td>\n      <td>1.303561e+07</td>\n      <td>471.602628</td>\n      <td>12538.124610</td>\n      <td>0.034792</td>\n      <td>2.922757</td>\n    </tr>\n    <tr>\n      <th>2014</th>\n      <td>1.294739</td>\n      <td>-122.329808</td>\n      <td>47.620030</td>\n      <td>145161.408074</td>\n      <td>172071.603159</td>\n      <td>172099.770121</td>\n      <td>38405.478519</td>\n      <td>2.434761</td>\n      <td>0.039101</td>\n      <td>0.033950</td>\n      <td>1.927033</td>\n      <td>13.282662</td>\n      <td>NaN</td>\n      <td>436.122540</td>\n      <td>12970.547420</td>\n      <td>0.037159</td>\n      <td>2.893590</td>\n    </tr>\n    <tr>\n      <th>2015</th>\n      <td>1.288726</td>\n      <td>-122.329505</td>\n      <td>47.619100</td>\n      <td>158421.224548</td>\n      <td>197751.612928</td>\n      <td>197880.688342</td>\n      <td>40173.592942</td>\n      <td>1.937591</td>\n      <td>0.037168</td>\n      <td>0.034244</td>\n      <td>1.935437</td>\n      <td>12.657484</td>\n      <td>NaN</td>\n      <td>475.003001</td>\n      <td>13510.729434</td>\n      <td>0.035860</td>\n      <td>2.921124</td>\n    </tr>\n    <tr>\n      <th>2016</th>\n      <td>1.318552</td>\n      <td>-122.330075</td>\n      <td>47.617577</td>\n      <td>172431.565915</td>\n      <td>223480.115962</td>\n      <td>223799.806501</td>\n      <td>40811.356925</td>\n      <td>2.377562</td>\n      <td>0.042542</td>\n      <td>0.032936</td>\n      <td>1.840295</td>\n      <td>13.230037</td>\n      <td>NaN</td>\n      <td>406.164851</td>\n      <td>16048.234840</td>\n      <td>0.040913</td>\n      <td>2.909426</td>\n    </tr>\n    <tr>\n      <th>2017</th>\n      <td>1.314449</td>\n      <td>-122.330120</td>\n      <td>47.618087</td>\n      <td>184712.746896</td>\n      <td>245939.294675</td>\n      <td>246483.728226</td>\n      <td>40326.004699</td>\n      <td>1.917134</td>\n      <td>0.042766</td>\n      <td>0.031822</td>\n      <td>1.896073</td>\n      <td>13.780925</td>\n      <td>1.224002e+07</td>\n      <td>450.494160</td>\n      <td>16602.361354</td>\n      <td>0.041755</td>\n      <td>2.883749</td>\n    </tr>\n    <tr>\n      <th>2018</th>\n      <td>1.322296</td>\n      <td>-122.330251</td>\n      <td>47.616349</td>\n      <td>202316.980996</td>\n      <td>292989.641136</td>\n      <td>294059.717343</td>\n      <td>41351.144357</td>\n      <td>2.446876</td>\n      <td>0.047029</td>\n      <td>0.035320</td>\n      <td>1.864478</td>\n      <td>13.947596</td>\n      <td>NaN</td>\n      <td>126.791535</td>\n      <td>9362.342451</td>\n      <td>0.045782</td>\n      <td>2.912468</td>\n    </tr>\n    <tr>\n      <th>2019</th>\n      <td>1.325329</td>\n      <td>-122.330452</td>\n      <td>47.615155</td>\n      <td>203967.720888</td>\n      <td>321102.128559</td>\n      <td>322589.730238</td>\n      <td>40790.948590</td>\n      <td>2.407671</td>\n      <td>0.051211</td>\n      <td>0.038355</td>\n      <td>1.813961</td>\n      <td>14.437527</td>\n      <td>NaN</td>\n      <td>128.563217</td>\n      <td>11290.601254</td>\n      <td>0.048874</td>\n      <td>2.879941</td>\n    </tr>\n    <tr>\n      <th>2020</th>\n      <td>1.304232</td>\n      <td>-122.329010</td>\n      <td>47.616688</td>\n      <td>193530.836971</td>\n      <td>329501.952784</td>\n      <td>331001.952784</td>\n      <td>42794.713961</td>\n      <td>2.297996</td>\n      <td>0.027617</td>\n      <td>0.014699</td>\n      <td>1.092650</td>\n      <td>14.317595</td>\n      <td>NaN</td>\n      <td>182.357684</td>\n      <td>11651.919822</td>\n      <td>0.026281</td>\n      <td>2.962138</td>\n    </tr>\n  </tbody>\n</table>\n</div>"
                    },
                    "metadata": {}
                }
            ]
        },
        {
            "metadata": {},
            "cell_type": "markdown",
            "source": "Some fascinating insights here:\n    -Inattention spiked in 2013 and has never come back down. \n    -SDOT must have stopped giving classifiers in 2014, as most values after that date are null\n    -People started suddenly hitting a lot of parked cars in 2015. Why?"
        },
        {
            "metadata": {},
            "cell_type": "markdown",
            "source": "Moving on to Junction Type"
        },
        {
            "metadata": {
                "scrolled": true
            },
            "cell_type": "code",
            "source": "# Junction Type\ndf['JUNCTIONTYPE'].value_counts(dropna=False)",
            "execution_count": 22,
            "outputs": [
                {
                    "output_type": "execute_result",
                    "execution_count": 22,
                    "data": {
                        "text/plain": "Mid-Block (not related to intersection)              89800\nAt Intersection (intersection related)               62810\nMid-Block (but intersection related)                 22790\nDriveway Junction                                    10671\nNaN                                                   6329\nAt Intersection (but not related to intersection)     2098\nRamp Junction                                          166\nUnknown                                                  9\nName: JUNCTIONTYPE, dtype: int64"
                    },
                    "metadata": {}
                }
            ]
        },
        {
            "metadata": {},
            "cell_type": "code",
            "source": "df.groupby(['JUNCTIONTYPE'])['SEVERITYCODE'].value_counts(normalize=True)",
            "execution_count": 23,
            "outputs": [
                {
                    "output_type": "execute_result",
                    "execution_count": 23,
                    "data": {
                        "text/plain": "JUNCTIONTYPE                                       SEVERITYCODE\nAt Intersection (but not related to intersection)  1               0.703051\n                                                   2               0.296949\nAt Intersection (intersection related)             1               0.567362\n                                                   2               0.432638\nDriveway Junction                                  1               0.696936\n                                                   2               0.303064\nMid-Block (but intersection related)               1               0.679816\n                                                   2               0.320184\nMid-Block (not related to intersection)            1               0.783920\n                                                   2               0.216080\nRamp Junction                                      1               0.674699\n                                                   2               0.325301\nUnknown                                            1               0.777778\n                                                   2               0.222222\nName: SEVERITYCODE, dtype: float64"
                    },
                    "metadata": {}
                }
            ]
        },
        {
            "metadata": {},
            "cell_type": "markdown",
            "source": "Its not clear there's anything happening with Junction Type"
        },
        {
            "metadata": {},
            "cell_type": "markdown",
            "source": "SDOT Collision codes"
        },
        {
            "metadata": {},
            "cell_type": "code",
            "source": "# SDOT Collision Codes\ndf['SDOT_COLCODE'].value_counts(dropna=False)",
            "execution_count": 24,
            "outputs": [
                {
                    "output_type": "execute_result",
                    "execution_count": 24,
                    "data": {
                        "text/plain": "11    85209\n14    54299\n16     9928\n0      9787\n28     8856\n24     6518\n13     5852\n26     4741\n18     3104\n15     1604\n12     1440\n51     1312\n29      479\n21      181\n56      180\n27      166\n54      139\n23      124\n48      107\n31      104\n25      102\n34       93\n64       75\n69       69\n33       53\n55       50\n66       23\n22       17\n32       12\n53        9\n44        8\n61        7\n35        6\n58        5\n68        4\n36        4\n46        3\n52        2\n47        1\nName: SDOT_COLCODE, dtype: int64"
                    },
                    "metadata": {}
                }
            ]
        },
        {
            "metadata": {},
            "cell_type": "code",
            "source": "df.groupby(['SDOT_COLCODE'])['SEVERITYCODE'].value_counts(normalize=True)",
            "execution_count": 25,
            "outputs": [
                {
                    "output_type": "execute_result",
                    "execution_count": 25,
                    "data": {
                        "text/plain": "SDOT_COLCODE  SEVERITYCODE\n0             1               0.927659\n              2               0.072341\n11            1               0.714373\n              2               0.285627\n12            1               0.981250\n              2               0.018750\n13            1               0.965995\n              2               0.034005\n14            1               0.673143\n              2               0.326857\n15            1               0.953242\n              2               0.046758\n16            1               0.930298\n              2               0.069702\n18            2               0.880799\n              1               0.119201\n21            2               0.773481\n              1               0.226519\n22            2               0.941176\n              1               0.058824\n23            2               0.750000\n              1               0.250000\n24            2               0.897975\n              1               0.102025\n25            1               0.803922\n              2               0.196078\n26            1               0.752584\n              2               0.247416\n27            1               0.783133\n              2               0.216867\n                                ...   \n35            2               0.166667\n36            1               0.750000\n              2               0.250000\n44            2               1.000000\n46            1               1.000000\n47            1               1.000000\n48            1               0.897196\n              2               0.102804\n51            2               0.884146\n              1               0.115854\n52            1               0.500000\n              2               0.500000\n53            2               0.777778\n              1               0.222222\n54            2               0.769784\n              1               0.230216\n55            2               0.800000\n              1               0.200000\n56            2               0.894444\n              1               0.105556\n58            2               1.000000\n61            2               1.000000\n64            2               0.960000\n              1               0.040000\n66            2               0.956522\n              1               0.043478\n68            2               0.750000\n              1               0.250000\n69            2               0.985507\n              1               0.014493\nName: SEVERITYCODE, Length: 73, dtype: float64"
                    },
                    "metadata": {}
                }
            ]
        },
        {
            "metadata": {},
            "cell_type": "markdown",
            "source": "Lots of variety here, however we're also dealing with small sample sizes and an overload of categories. There is a potential unbalanced model concern with this variable"
        },
        {
            "metadata": {},
            "cell_type": "markdown",
            "source": "Inattention"
        },
        {
            "metadata": {},
            "cell_type": "code",
            "source": "# Inattention\ndf['INATTENTIONIND'].value_counts(dropna=False)\n\n# Recode Nan/Y vars to 0/1\ndf['INATTENTIONIND'].replace(to_replace='Y', value=1, inplace=True)\ndf['INATTENTIONIND'] = df['INATTENTIONIND'].fillna(0)\n\ndf['INATTENTIONIND'].value_counts(dropna=False)",
            "execution_count": 26,
            "outputs": [
                {
                    "output_type": "execute_result",
                    "execution_count": 26,
                    "data": {
                        "text/plain": "0.0    164868\n1.0     29805\nName: INATTENTIONIND, dtype: int64"
                    },
                    "metadata": {}
                }
            ]
        },
        {
            "metadata": {},
            "cell_type": "code",
            "source": "df.groupby(['INATTENTIONIND'])['SEVERITYCODE'].value_counts(normalize=True)",
            "execution_count": 27,
            "outputs": [
                {
                    "output_type": "execute_result",
                    "execution_count": 27,
                    "data": {
                        "text/plain": "INATTENTIONIND  SEVERITYCODE\n0.0             1               0.710126\n                2               0.289874\n1.0             1               0.651166\n                2               0.348834\nName: SEVERITYCODE, dtype: float64"
                    },
                    "metadata": {}
                }
            ]
        },
        {
            "metadata": {},
            "cell_type": "markdown",
            "source": "Inattentive drivers are only marginally more likely to cause bodily harm, though it does appear to be statistically significant."
        },
        {
            "metadata": {},
            "cell_type": "markdown",
            "source": "What about drunk driving?"
        },
        {
            "metadata": {
                "scrolled": true
            },
            "cell_type": "code",
            "source": "# Under Influence\ndf['UNDERINFL'].value_counts(dropna=False)\n\n# Recode N/Y vars to 0/1\ndf['UNDERINFL'].replace(to_replace='N', value=0, inplace=True)\ndf['UNDERINFL'].replace(to_replace='0', value=0, inplace=True)\ndf['UNDERINFL'].replace(to_replace='Y', value=1, inplace=True)\ndf['UNDERINFL'].replace(to_replace='1', value=1, inplace=True)\ndf['UNDERINFL'] = df['UNDERINFL'].fillna(0)\n\ndf['UNDERINFL'].value_counts(dropna=False)",
            "execution_count": 28,
            "outputs": [
                {
                    "output_type": "execute_result",
                    "execution_count": 28,
                    "data": {
                        "text/plain": "0.0    185552\n1.0      9121\nName: UNDERINFL, dtype: int64"
                    },
                    "metadata": {}
                }
            ]
        },
        {
            "metadata": {
                "scrolled": false
            },
            "cell_type": "code",
            "source": "df.groupby(['UNDERINFL'])['SEVERITYCODE'].value_counts(normalize=True)",
            "execution_count": 29,
            "outputs": [
                {
                    "output_type": "execute_result",
                    "execution_count": 29,
                    "data": {
                        "text/plain": "UNDERINFL  SEVERITYCODE\n0.0        1               0.705603\n           2               0.294397\n1.0        1               0.609473\n           2               0.390527\nName: SEVERITYCODE, dtype: float64"
                    },
                    "metadata": {}
                }
            ]
        },
        {
            "metadata": {},
            "cell_type": "code",
            "source": "df[['UNDERINFL']].head()",
            "execution_count": 30,
            "outputs": [
                {
                    "output_type": "execute_result",
                    "execution_count": 30,
                    "data": {
                        "text/plain": "   UNDERINFL\n0        0.0\n1        0.0\n2        0.0\n3        0.0\n4        0.0",
                        "text/html": "<div>\n<style scoped>\n    .dataframe tbody tr th:only-of-type {\n        vertical-align: middle;\n    }\n\n    .dataframe tbody tr th {\n        vertical-align: top;\n    }\n\n    .dataframe thead th {\n        text-align: right;\n    }\n</style>\n<table border=\"1\" class=\"dataframe\">\n  <thead>\n    <tr style=\"text-align: right;\">\n      <th></th>\n      <th>UNDERINFL</th>\n    </tr>\n  </thead>\n  <tbody>\n    <tr>\n      <th>0</th>\n      <td>0.0</td>\n    </tr>\n    <tr>\n      <th>1</th>\n      <td>0.0</td>\n    </tr>\n    <tr>\n      <th>2</th>\n      <td>0.0</td>\n    </tr>\n    <tr>\n      <th>3</th>\n      <td>0.0</td>\n    </tr>\n    <tr>\n      <th>4</th>\n      <td>0.0</td>\n    </tr>\n  </tbody>\n</table>\n</div>"
                    },
                    "metadata": {}
                }
            ]
        },
        {
            "metadata": {},
            "cell_type": "markdown",
            "source": "Yes, drunk drivers appear to be more likely to cause harm."
        },
        {
            "metadata": {},
            "cell_type": "markdown",
            "source": "Does the weather matter?"
        },
        {
            "metadata": {
                "scrolled": true
            },
            "cell_type": "code",
            "source": "# Weather\ndf['WEATHER'].value_counts(dropna=False)",
            "execution_count": 31,
            "outputs": [
                {
                    "output_type": "execute_result",
                    "execution_count": 31,
                    "data": {
                        "text/plain": "Clear                       111135\nRaining                      33145\nOvercast                     27714\nUnknown                      15091\nNaN                           5081\nSnowing                        907\nOther                          832\nFog/Smog/Smoke                 569\nSleet/Hail/Freezing Rain       113\nBlowing Sand/Dirt               56\nSevere Crosswind                25\nPartly Cloudy                    5\nName: WEATHER, dtype: int64"
                    },
                    "metadata": {}
                }
            ]
        },
        {
            "metadata": {},
            "cell_type": "code",
            "source": "df.groupby(['WEATHER'])['SEVERITYCODE'].value_counts(normalize=True)",
            "execution_count": 32,
            "outputs": [
                {
                    "output_type": "execute_result",
                    "execution_count": 32,
                    "data": {
                        "text/plain": "WEATHER                   SEVERITYCODE\nBlowing Sand/Dirt         1               0.732143\n                          2               0.267857\nClear                     1               0.677509\n                          2               0.322491\nFog/Smog/Smoke            1               0.671353\n                          2               0.328647\nOther                     1               0.860577\n                          2               0.139423\nOvercast                  1               0.684456\n                          2               0.315544\nPartly Cloudy             2               0.600000\n                          1               0.400000\nRaining                   1               0.662815\n                          2               0.337185\nSevere Crosswind          1               0.720000\n                          2               0.280000\nSleet/Hail/Freezing Rain  1               0.752212\n                          2               0.247788\nSnowing                   1               0.811466\n                          2               0.188534\nUnknown                   1               0.945928\n                          2               0.054072\nName: SEVERITYCODE, dtype: float64"
                    },
                    "metadata": {}
                }
            ]
        },
        {
            "metadata": {},
            "cell_type": "markdown",
            "source": "Weather doesn't actually appear to make that much of a difference. We'll leave this one out of the model."
        },
        {
            "metadata": {},
            "cell_type": "markdown",
            "source": "What about the road conditions? After all, that is more directly relevent to driving"
        },
        {
            "metadata": {
                "scrolled": true
            },
            "cell_type": "code",
            "source": "# Road Conditions\ndf['ROADCOND'].value_counts(dropna=False)",
            "execution_count": 33,
            "outputs": [
                {
                    "output_type": "execute_result",
                    "execution_count": 33,
                    "data": {
                        "text/plain": "Dry               124510\nWet                47474\nUnknown            15078\nNaN                 5012\nIce                 1209\nSnow/Slush          1004\nOther                132\nStanding Water       115\nSand/Mud/Dirt         75\nOil                   64\nName: ROADCOND, dtype: int64"
                    },
                    "metadata": {}
                }
            ]
        },
        {
            "metadata": {},
            "cell_type": "code",
            "source": "df.groupby(['ROADCOND'])['SEVERITYCODE'].value_counts(normalize=True)",
            "execution_count": 34,
            "outputs": [
                {
                    "output_type": "execute_result",
                    "execution_count": 34,
                    "data": {
                        "text/plain": "ROADCOND        SEVERITYCODE\nDry             1               0.678227\n                2               0.321773\nIce             1               0.774194\n                2               0.225806\nOil             1               0.625000\n                2               0.375000\nOther           1               0.674242\n                2               0.325758\nSand/Mud/Dirt   1               0.693333\n                2               0.306667\nSnow/Slush      1               0.833665\n                2               0.166335\nStanding Water  1               0.739130\n                2               0.260870\nUnknown         1               0.950325\n                2               0.049675\nWet             1               0.668134\n                2               0.331866\nName: SEVERITYCODE, dtype: float64"
                    },
                    "metadata": {}
                }
            ]
        },
        {
            "metadata": {},
            "cell_type": "markdown",
            "source": "Some strange results here. For example \"unknown\" road conditions only have a 5% severity rate. I'm not sure what that could mean."
        },
        {
            "metadata": {},
            "cell_type": "markdown",
            "source": "Let's move on to light conditions"
        },
        {
            "metadata": {
                "scrolled": true
            },
            "cell_type": "code",
            "source": "# Light Conditions\ndf['LIGHTCOND'].value_counts(dropna=False)",
            "execution_count": 35,
            "outputs": [
                {
                    "output_type": "execute_result",
                    "execution_count": 35,
                    "data": {
                        "text/plain": "Daylight                    116137\nDark - Street Lights On      48507\nUnknown                      13473\nDusk                          5902\nNaN                           5170\nDawn                          2502\nDark - No Street Lights       1537\nDark - Street Lights Off      1199\nOther                          235\nDark - Unknown Lighting         11\nName: LIGHTCOND, dtype: int64"
                    },
                    "metadata": {}
                }
            ]
        },
        {
            "metadata": {},
            "cell_type": "code",
            "source": "df.groupby(['LIGHTCOND'])['SEVERITYCODE'].value_counts(normalize=True)",
            "execution_count": 36,
            "outputs": [
                {
                    "output_type": "execute_result",
                    "execution_count": 36,
                    "data": {
                        "text/plain": "LIGHTCOND                 SEVERITYCODE\nDark - No Street Lights   1               0.782694\n                          2               0.217306\nDark - Street Lights Off  1               0.736447\n                          2               0.263553\nDark - Street Lights On   1               0.701589\n                          2               0.298411\nDark - Unknown Lighting   1               0.636364\n                          2               0.363636\nDawn                      1               0.670663\n                          2               0.329337\nDaylight                  1               0.668116\n                          2               0.331884\nDusk                      1               0.670620\n                          2               0.329380\nOther                     1               0.778723\n                          2               0.221277\nUnknown                   1               0.955095\n                          2               0.044905\nName: SEVERITYCODE, dtype: float64"
                    },
                    "metadata": {}
                }
            ]
        },
        {
            "metadata": {},
            "cell_type": "markdown",
            "source": "Again, it's not particularly clear."
        },
        {
            "metadata": {},
            "cell_type": "markdown",
            "source": "Was right of way not granted?"
        },
        {
            "metadata": {},
            "cell_type": "code",
            "source": "# Right of way not granted?\ndf['PEDROWNOTGRNT'].value_counts(dropna=False)\n\n# Recode N/Y vars to 0/1\ndf['PEDROWNOTGRNT'].replace(to_replace='Y', value=1, inplace=True)\ndf['PEDROWNOTGRNT'] = df['PEDROWNOTGRNT'].fillna(0)\n\ndf['PEDROWNOTGRNT'].value_counts(dropna=False)",
            "execution_count": 37,
            "outputs": [
                {
                    "output_type": "execute_result",
                    "execution_count": 37,
                    "data": {
                        "text/plain": "0.0    190006\n1.0      4667\nName: PEDROWNOTGRNT, dtype: int64"
                    },
                    "metadata": {}
                }
            ]
        },
        {
            "metadata": {},
            "cell_type": "code",
            "source": "df.groupby(['PEDROWNOTGRNT'])['SEVERITYCODE'].value_counts(normalize=True)",
            "execution_count": 38,
            "outputs": [
                {
                    "output_type": "execute_result",
                    "execution_count": 38,
                    "data": {
                        "text/plain": "PEDROWNOTGRNT  SEVERITYCODE\n0.0            1               0.715898\n               2               0.284102\n1.0            2               0.901436\n               1               0.098564\nName: SEVERITYCODE, dtype: float64"
                    },
                    "metadata": {}
                }
            ]
        },
        {
            "metadata": {},
            "cell_type": "markdown",
            "source": "Winner winner chicken dinner. in 90% of cases where the right of way was not granted, there was an injury. This is likely tied into the type of collision."
        },
        {
            "metadata": {},
            "cell_type": "markdown",
            "source": "Does speeding matter?"
        },
        {
            "metadata": {
                "scrolled": true
            },
            "cell_type": "code",
            "source": "# Speeding\ndf['SPEEDING'].value_counts(dropna=False)\n\n# Recode N/Y vars to 0/1\ndf['SPEEDING'].replace(to_replace='Y', value=1, inplace=True)\ndf['SPEEDING'] = df['SPEEDING'].fillna(0)\n\ndf['SPEEDING'].value_counts(dropna=False)",
            "execution_count": 39,
            "outputs": [
                {
                    "output_type": "execute_result",
                    "execution_count": 39,
                    "data": {
                        "text/plain": "0.0    185340\n1.0      9333\nName: SPEEDING, dtype: int64"
                    },
                    "metadata": {}
                }
            ]
        },
        {
            "metadata": {},
            "cell_type": "code",
            "source": "df.groupby(['SPEEDING'])['SEVERITYCODE'].value_counts(normalize=True)",
            "execution_count": 40,
            "outputs": [
                {
                    "output_type": "execute_result",
                    "execution_count": 40,
                    "data": {
                        "text/plain": "SPEEDING  SEVERITYCODE\n0.0       1               0.705099\n          2               0.294901\n1.0       1               0.621665\n          2               0.378335\nName: SEVERITYCODE, dtype: float64"
                    },
                    "metadata": {}
                }
            ]
        },
        {
            "metadata": {},
            "cell_type": "markdown",
            "source": "It appears it matters, at least a little - speeders are 8 percentage points more likely to cause injuries"
        },
        {
            "metadata": {},
            "cell_type": "markdown",
            "source": "Does the State Collision Code matter?"
        },
        {
            "metadata": {},
            "cell_type": "code",
            "source": "# State Collision Code\ndf['ST_COLDESC'].value_counts(dropna=False)",
            "execution_count": 41,
            "outputs": [
                {
                    "output_type": "execute_result",
                    "execution_count": 41,
                    "data": {
                        "text/plain": "One parked--one moving                                                                   44421\nEntering at angle                                                                        34674\nFrom same direction - both going straight - one stopped - rear-end                       25771\nFixed object                                                                             13554\nFrom same direction - both going straight - both moving - sideswipe                      12777\nFrom opposite direction - one left turn - one straight                                   10324\nFrom same direction - both going straight - both moving - rear-end                        7629\nNaN                                                                                       4904\nVehicle - Pedalcyclist                                                                    4701\nFrom same direction - all others                                                          4537\nFrom same direction - one left turn - one straight                                        3093\nFrom same direction - one right turn - one straight                                       2956\nVehicle going straight hits pedestrian                                                    2882\nOne car leaving parked position                                                           2846\nFrom same direction - both going straight - one stopped - sideswipe                       2435\nOne car leaving driveway access                                                           2274\nVehicle turning left hits pedestrian                                                      2178\nOne car entering driveway access                                                          1617\nFrom opposite direction - all others                                                      1302\nVehicle turning right hits pedestrian                                                     1201\nSame direction -- both turning right -- both moving -- sideswipe                          1184\nFrom opposite direction - both going straight - sideswipe                                 1039\nSame direction -- both turning left -- both moving -- sideswipe                            835\nVehicle overturned                                                                         815\nOne car entering parked position                                                           720\nFrom opposite direction - both moving - head-on                                            590\nVehicle Strikes Pedalcyclist                                                               416\nOther object                                                                               371\nSame direction -- both turning right -- one stopped -- rear end                            343\nFrom opposite direction - one left turn - one right turn                                   286\n                                                                                         ...  \nSame direction -- both turning right -- both moving -- rear end                            167\nFrom opposite direction - one stopped - head-on                                            132\nVehicle hits Pedestrian - All Other Actions                                                111\nAll other non-collision                                                                    108\nRailway Vehicle Strikes Vehicle                                                            103\nSame direction -- both turning left -- one stopped -- rear end                              94\nSame direction -- both turning left -- both moving -- rear end                              86\nSame direction -- both turning right -- one stopped -- sideswipe                            73\nVehicle Strikes Railway Vehicle                                                             57\nVehicle Hits City Road or Construction Machinery                                            50\nNot stated                                                                                  47\nSame direction -- both turning left -- one stopped -- sideswipe                             35\nBreakage of any part of the vehicle resulting in injury or in further property damage       34\nDomestic animal other (cat, dog, etc)                                                       32\nPerson fell, jumped or was pushed from vehicle                                              26\nPedalcyclist All Other Involvements ONE UNIT - PEDALCYCLIST ONLY or PEDALCYCLIST STR        23\nPedalcyclist Strikes Pedalcyclist or Pedestrian                                             18\nRailway Vehicle Strikes Pedestrian                                                          11\nVehicle Struck by City Road or Construction Machinery                                       11\nVehicle Hits Other Road or Construction Machinery                                           11\nStrikes or Was Struck by Object from the Load of Another Vehicle                             9\nVehicle Struck by Other Road or Construction Machinery                                       9\nAll Other Multi Vehicle                                                                      8\nFire started in vehicle                                                                      7\nStrikes or Was Struck by a Part of Another Vehicle (Not from Load)                           5\nRailway Vehicle Strikes Pedalcyclist                                                         2\nVehicle Strikes All Other Non-Domestic Animal                                                2\nVehicle Strikes Deer                                                                         1\nVehicle Hits State Road or Construction Machinery                                            1\nNon-domestic animal (deer, bear, elk, etc)                                                   1\nName: ST_COLDESC, Length: 63, dtype: int64"
                    },
                    "metadata": {}
                }
            ]
        },
        {
            "metadata": {},
            "cell_type": "code",
            "source": "df.groupby(['ST_COLDESC'])['SEVERITYCODE'].value_counts(normalize=True)",
            "execution_count": 42,
            "outputs": [
                {
                    "output_type": "execute_result",
                    "execution_count": 42,
                    "data": {
                        "text/plain": "ST_COLDESC                                                                             SEVERITYCODE\nAll Other Multi Vehicle                                                                1               0.625000\n                                                                                       2               0.375000\nAll other non-collision                                                                1               0.703704\n                                                                                       2               0.296296\nBreakage of any part of the vehicle resulting in injury or in further property damage  1               0.735294\n                                                                                       2               0.264706\nDomestic animal other (cat, dog, etc)                                                  1               0.937500\n                                                                                       2               0.062500\nEntering at angle                                                                      1               0.607083\n                                                                                       2               0.392917\nFire started in vehicle                                                                1               0.857143\n                                                                                       2               0.142857\nFixed object                                                                           1               0.757193\n                                                                                       2               0.242807\nFrom opposite direction - all others                                                   1               0.655914\n                                                                                       2               0.344086\nFrom opposite direction - both going straight - one stopped - sideswipe                1               0.774892\n                                                                                       2               0.225108\nFrom opposite direction - both going straight - sideswipe                              1               0.728585\n                                                                                       2               0.271415\nFrom opposite direction - both moving - head-on                                        2               0.632203\n                                                                                       1               0.367797\nFrom opposite direction - one left turn - one right turn                               1               0.828671\n                                                                                       2               0.171329\nFrom opposite direction - one left turn - one straight                                 1               0.551434\n                                                                                       2               0.448566\nFrom opposite direction - one stopped - head-on                                        1               0.613636\n                                                                                       2               0.386364\nFrom same direction - all others                                                       1               0.814856\n                                                                                       2               0.185144\n                                                                                                         ...   \nStrikes or Was Struck by Object from the Load of Another Vehicle                       2               0.222222\nStrikes or Was Struck by a Part of Another Vehicle (Not from Load)                     1               1.000000\nVehicle - Pedalcyclist                                                                 2               0.876835\n                                                                                       1               0.123165\nVehicle Hits City Road or Construction Machinery                                       1               0.820000\n                                                                                       2               0.180000\nVehicle Hits Other Road or Construction Machinery                                      1               0.636364\n                                                                                       2               0.363636\nVehicle Hits State Road or Construction Machinery                                      1               1.000000\nVehicle Strikes All Other Non-Domestic Animal                                          2               1.000000\nVehicle Strikes Deer                                                                   1               1.000000\nVehicle Strikes Pedalcyclist                                                           2               0.855769\n                                                                                       1               0.144231\nVehicle Strikes Railway Vehicle                                                        1               0.771930\n                                                                                       2               0.228070\nVehicle Struck by City Road or Construction Machinery                                  1               1.000000\nVehicle Struck by Other Road or Construction Machinery                                 1               0.777778\n                                                                                       2               0.222222\nVehicle backing hits pedestrian                                                        2               0.902542\n                                                                                       1               0.097458\nVehicle going straight hits pedestrian                                                 2               0.890701\n                                                                                       1               0.109299\nVehicle hits Pedestrian - All Other Actions                                            2               0.864865\n                                                                                       1               0.135135\nVehicle overturned                                                                     2               0.760736\n                                                                                       1               0.239264\nVehicle turning left hits pedestrian                                                   2               0.918733\n                                                                                       1               0.081267\nVehicle turning right hits pedestrian                                                  2               0.881765\n                                                                                       1               0.118235\nName: SEVERITYCODE, Length: 117, dtype: float64"
                    },
                    "metadata": {}
                }
            ]
        },
        {
            "metadata": {},
            "cell_type": "markdown",
            "source": "Probably somewhat, but we're dealing with the same small sample size / too many categories issues that we dealt with with the SDOT data"
        },
        {
            "metadata": {},
            "cell_type": "markdown",
            "source": "Last but not least : Did the driver hit a parked car?"
        },
        {
            "metadata": {},
            "cell_type": "code",
            "source": "# Hit Parked Car\ndf['HITPARKEDCAR'].value_counts(dropna=False)\n\n# Recode N/Y vars to 0/1\ndf['HITPARKEDCAR'].replace(to_replace='Y', value=1, inplace=True)\ndf['HITPARKEDCAR'].replace(to_replace='N', value=0, inplace=True)\ndf['HITPARKEDCAR'] = df['HITPARKEDCAR'].fillna(0)\n\ndf['HITPARKEDCAR'].value_counts(dropna=False)",
            "execution_count": 43,
            "outputs": [
                {
                    "output_type": "execute_result",
                    "execution_count": 43,
                    "data": {
                        "text/plain": "0    187457\n1      7216\nName: HITPARKEDCAR, dtype: int64"
                    },
                    "metadata": {}
                }
            ]
        },
        {
            "metadata": {},
            "cell_type": "code",
            "source": "df.groupby(['HITPARKEDCAR'])['SEVERITYCODE'].value_counts(normalize=True)",
            "execution_count": 44,
            "outputs": [
                {
                    "output_type": "execute_result",
                    "execution_count": 44,
                    "data": {
                        "text/plain": "HITPARKEDCAR  SEVERITYCODE\n0             1               0.691983\n              2               0.308017\n1             1               0.937916\n              2               0.062084\nName: SEVERITYCODE, dtype: float64"
                    },
                    "metadata": {}
                }
            ]
        },
        {
            "metadata": {},
            "cell_type": "markdown",
            "source": "Clearly important. If you hit a parked car, you probably didn't do too much bodily harm. This will definitely go in the model."
        },
        {
            "metadata": {},
            "cell_type": "markdown",
            "source": "Let's take another look at the raw data"
        },
        {
            "metadata": {},
            "cell_type": "code",
            "source": "df.head(10)",
            "execution_count": 45,
            "outputs": [
                {
                    "output_type": "execute_result",
                    "execution_count": 45,
                    "data": {
                        "text/plain": "   SEVERITYCODE           X          Y  OBJECTID  INCKEY  COLDETKEY REPORTNO  \\\n0             2 -122.323148  47.703140         1    1307       1307  3502005   \n1             1 -122.347294  47.647172         2   52200      52200  2607959   \n2             1 -122.334540  47.607871         3   26700      26700  1482393   \n3             1 -122.334803  47.604803         4    1144       1144  3503937   \n4             2 -122.306426  47.545739         5   17700      17700  1807429   \n5             1 -122.387598  47.690575         6  320840     322340  E919477   \n6             1 -122.338485  47.618534         7   83300      83300  3282542   \n7             2 -122.320780  47.614076         9  330897     332397  EA30304   \n8             1 -122.335930  47.611904        10   63400      63400  2071243   \n9             2 -122.384700  47.528475        12   58600      58600  2072105   \n\n    STATUS      ADDRTYPE   INTKEY  ... PEDROWNOTGRNT SDOTCOLNUM SPEEDING  \\\n0  Matched  Intersection  37475.0  ...           0.0        NaN      0.0   \n1  Matched         Block      NaN  ...           0.0  6354039.0      0.0   \n2  Matched         Block      NaN  ...           0.0  4323031.0      0.0   \n3  Matched         Block      NaN  ...           0.0        NaN      0.0   \n4  Matched  Intersection  34387.0  ...           0.0  4028032.0      0.0   \n5  Matched  Intersection  36974.0  ...           0.0        NaN      0.0   \n6  Matched  Intersection  29510.0  ...           0.0  8344002.0      0.0   \n7  Matched  Intersection  29745.0  ...           0.0        NaN      0.0   \n8  Matched         Block      NaN  ...           0.0  6166014.0      0.0   \n9  Matched  Intersection  34679.0  ...           0.0  6079001.0      0.0   \n\n  ST_COLCODE                                         ST_COLDESC  SEGLANEKEY  \\\n0         10                                  Entering at angle           0   \n1         11  From same direction - both going straight - bo...           0   \n2         32                             One parked--one moving           0   \n3         23                   From same direction - all others           0   \n4         10                                  Entering at angle           0   \n5         10                                  Entering at angle           0   \n6         10                                  Entering at angle           0   \n7          5                       Vehicle Strikes Pedalcyclist        6855   \n8         32                             One parked--one moving           0   \n9         10                                  Entering at angle           0   \n\n   CROSSWALKKEY  HITPARKEDCAR  PEDCOUNT_0 dayofweek  \n0             0             0           0         2  \n1             0             0           0         2  \n2             0             0           0         3  \n3             0             0           0         4  \n4             0             0           0         2  \n5             0             0           0         5  \n6             0             0           0         1  \n7             0             0           0         2  \n8             0             0           0         3  \n9             0             0           0         0  \n\n[10 rows x 39 columns]",
                        "text/html": "<div>\n<style scoped>\n    .dataframe tbody tr th:only-of-type {\n        vertical-align: middle;\n    }\n\n    .dataframe tbody tr th {\n        vertical-align: top;\n    }\n\n    .dataframe thead th {\n        text-align: right;\n    }\n</style>\n<table border=\"1\" class=\"dataframe\">\n  <thead>\n    <tr style=\"text-align: right;\">\n      <th></th>\n      <th>SEVERITYCODE</th>\n      <th>X</th>\n      <th>Y</th>\n      <th>OBJECTID</th>\n      <th>INCKEY</th>\n      <th>COLDETKEY</th>\n      <th>REPORTNO</th>\n      <th>STATUS</th>\n      <th>ADDRTYPE</th>\n      <th>INTKEY</th>\n      <th>...</th>\n      <th>PEDROWNOTGRNT</th>\n      <th>SDOTCOLNUM</th>\n      <th>SPEEDING</th>\n      <th>ST_COLCODE</th>\n      <th>ST_COLDESC</th>\n      <th>SEGLANEKEY</th>\n      <th>CROSSWALKKEY</th>\n      <th>HITPARKEDCAR</th>\n      <th>PEDCOUNT_0</th>\n      <th>dayofweek</th>\n    </tr>\n  </thead>\n  <tbody>\n    <tr>\n      <th>0</th>\n      <td>2</td>\n      <td>-122.323148</td>\n      <td>47.703140</td>\n      <td>1</td>\n      <td>1307</td>\n      <td>1307</td>\n      <td>3502005</td>\n      <td>Matched</td>\n      <td>Intersection</td>\n      <td>37475.0</td>\n      <td>...</td>\n      <td>0.0</td>\n      <td>NaN</td>\n      <td>0.0</td>\n      <td>10</td>\n      <td>Entering at angle</td>\n      <td>0</td>\n      <td>0</td>\n      <td>0</td>\n      <td>0</td>\n      <td>2</td>\n    </tr>\n    <tr>\n      <th>1</th>\n      <td>1</td>\n      <td>-122.347294</td>\n      <td>47.647172</td>\n      <td>2</td>\n      <td>52200</td>\n      <td>52200</td>\n      <td>2607959</td>\n      <td>Matched</td>\n      <td>Block</td>\n      <td>NaN</td>\n      <td>...</td>\n      <td>0.0</td>\n      <td>6354039.0</td>\n      <td>0.0</td>\n      <td>11</td>\n      <td>From same direction - both going straight - bo...</td>\n      <td>0</td>\n      <td>0</td>\n      <td>0</td>\n      <td>0</td>\n      <td>2</td>\n    </tr>\n    <tr>\n      <th>2</th>\n      <td>1</td>\n      <td>-122.334540</td>\n      <td>47.607871</td>\n      <td>3</td>\n      <td>26700</td>\n      <td>26700</td>\n      <td>1482393</td>\n      <td>Matched</td>\n      <td>Block</td>\n      <td>NaN</td>\n      <td>...</td>\n      <td>0.0</td>\n      <td>4323031.0</td>\n      <td>0.0</td>\n      <td>32</td>\n      <td>One parked--one moving</td>\n      <td>0</td>\n      <td>0</td>\n      <td>0</td>\n      <td>0</td>\n      <td>3</td>\n    </tr>\n    <tr>\n      <th>3</th>\n      <td>1</td>\n      <td>-122.334803</td>\n      <td>47.604803</td>\n      <td>4</td>\n      <td>1144</td>\n      <td>1144</td>\n      <td>3503937</td>\n      <td>Matched</td>\n      <td>Block</td>\n      <td>NaN</td>\n      <td>...</td>\n      <td>0.0</td>\n      <td>NaN</td>\n      <td>0.0</td>\n      <td>23</td>\n      <td>From same direction - all others</td>\n      <td>0</td>\n      <td>0</td>\n      <td>0</td>\n      <td>0</td>\n      <td>4</td>\n    </tr>\n    <tr>\n      <th>4</th>\n      <td>2</td>\n      <td>-122.306426</td>\n      <td>47.545739</td>\n      <td>5</td>\n      <td>17700</td>\n      <td>17700</td>\n      <td>1807429</td>\n      <td>Matched</td>\n      <td>Intersection</td>\n      <td>34387.0</td>\n      <td>...</td>\n      <td>0.0</td>\n      <td>4028032.0</td>\n      <td>0.0</td>\n      <td>10</td>\n      <td>Entering at angle</td>\n      <td>0</td>\n      <td>0</td>\n      <td>0</td>\n      <td>0</td>\n      <td>2</td>\n    </tr>\n    <tr>\n      <th>5</th>\n      <td>1</td>\n      <td>-122.387598</td>\n      <td>47.690575</td>\n      <td>6</td>\n      <td>320840</td>\n      <td>322340</td>\n      <td>E919477</td>\n      <td>Matched</td>\n      <td>Intersection</td>\n      <td>36974.0</td>\n      <td>...</td>\n      <td>0.0</td>\n      <td>NaN</td>\n      <td>0.0</td>\n      <td>10</td>\n      <td>Entering at angle</td>\n      <td>0</td>\n      <td>0</td>\n      <td>0</td>\n      <td>0</td>\n      <td>5</td>\n    </tr>\n    <tr>\n      <th>6</th>\n      <td>1</td>\n      <td>-122.338485</td>\n      <td>47.618534</td>\n      <td>7</td>\n      <td>83300</td>\n      <td>83300</td>\n      <td>3282542</td>\n      <td>Matched</td>\n      <td>Intersection</td>\n      <td>29510.0</td>\n      <td>...</td>\n      <td>0.0</td>\n      <td>8344002.0</td>\n      <td>0.0</td>\n      <td>10</td>\n      <td>Entering at angle</td>\n      <td>0</td>\n      <td>0</td>\n      <td>0</td>\n      <td>0</td>\n      <td>1</td>\n    </tr>\n    <tr>\n      <th>7</th>\n      <td>2</td>\n      <td>-122.320780</td>\n      <td>47.614076</td>\n      <td>9</td>\n      <td>330897</td>\n      <td>332397</td>\n      <td>EA30304</td>\n      <td>Matched</td>\n      <td>Intersection</td>\n      <td>29745.0</td>\n      <td>...</td>\n      <td>0.0</td>\n      <td>NaN</td>\n      <td>0.0</td>\n      <td>5</td>\n      <td>Vehicle Strikes Pedalcyclist</td>\n      <td>6855</td>\n      <td>0</td>\n      <td>0</td>\n      <td>0</td>\n      <td>2</td>\n    </tr>\n    <tr>\n      <th>8</th>\n      <td>1</td>\n      <td>-122.335930</td>\n      <td>47.611904</td>\n      <td>10</td>\n      <td>63400</td>\n      <td>63400</td>\n      <td>2071243</td>\n      <td>Matched</td>\n      <td>Block</td>\n      <td>NaN</td>\n      <td>...</td>\n      <td>0.0</td>\n      <td>6166014.0</td>\n      <td>0.0</td>\n      <td>32</td>\n      <td>One parked--one moving</td>\n      <td>0</td>\n      <td>0</td>\n      <td>0</td>\n      <td>0</td>\n      <td>3</td>\n    </tr>\n    <tr>\n      <th>9</th>\n      <td>2</td>\n      <td>-122.384700</td>\n      <td>47.528475</td>\n      <td>12</td>\n      <td>58600</td>\n      <td>58600</td>\n      <td>2072105</td>\n      <td>Matched</td>\n      <td>Intersection</td>\n      <td>34679.0</td>\n      <td>...</td>\n      <td>0.0</td>\n      <td>6079001.0</td>\n      <td>0.0</td>\n      <td>10</td>\n      <td>Entering at angle</td>\n      <td>0</td>\n      <td>0</td>\n      <td>0</td>\n      <td>0</td>\n      <td>0</td>\n    </tr>\n  </tbody>\n</table>\n<p>10 rows \u00d7 39 columns</p>\n</div>"
                    },
                    "metadata": {}
                }
            ]
        },
        {
            "metadata": {},
            "cell_type": "markdown",
            "source": "### Data Preparation:\nThe data preparation includes all the required activities to construct the final dataset which will be fed into the modeling tools. Data preparation can be performed multiple times and it includes balancing the labeled data, transformation, filling missing data, and cleaning the dataset."
        },
        {
            "metadata": {},
            "cell_type": "markdown",
            "source": "Based on the above analysis, the following variables seem important:<br><br>\nCategorical<br>\nADDRTYPE<br>\nCOLLISIONTYPE<br>\nROADCOND<br><br>\nBinary<br>\nINATTENTIONIND<br>\nUNDERINFL<br>\nPEDROWNOTGRNT<br>\nSPEEDING<br>\nHITPARKEDCAR<br><br>\nNumerical<br>\nPEDCOUNT<br>\nPERSONCOUNT<br>\nPEDCYLCOUNT<br>\nVEHCOUNT<br>"
        },
        {
            "metadata": {},
            "cell_type": "code",
            "source": "",
            "execution_count": null,
            "outputs": []
        },
        {
            "metadata": {},
            "cell_type": "markdown",
            "source": "### Modeling:\nIn this phase, various algorithms and methods can be selected and applied to build the model including supervised machine learning techniques. You can select SVM, XGBoost, decision tree, or any other techniques. You can select a single or multiple machine learning models for the same data mining problem. At this phase, stepping back to the data preparation phase is often required."
        },
        {
            "metadata": {
                "scrolled": false
            },
            "cell_type": "code",
            "source": "df['SEVERITYCODE'].value_counts(dropna=False)\n\n# Let's change the weighting to over-sample serious injuries\n\n# Model for resampling\nfrom sklearn.utils import resample\n\n# Separate majority and minority classes\ndf_majority = df[df.SEVERITYCODE==1]\ndf_minority = df[df.SEVERITYCODE==2]\n\n# Upsample minority class\ndf_minority_upsampled = resample(df_minority, \n                                 replace=True,     # sample with replacement\n                                 n_samples=136485,    # to match majority class\n                                 random_state=123) # reproducible results\n \n# Combine majority class with upsampled minority class\ndf_upsampled = pd.concat([df_majority, df_minority_upsampled])\n \n# Display new class counts\ndf_upsampled['SEVERITYCODE'].value_counts()\n# 1    576\n# 0    576\n# Name: balance, dtype: int64",
            "execution_count": 46,
            "outputs": [
                {
                    "output_type": "execute_result",
                    "execution_count": 46,
                    "data": {
                        "text/plain": "2    136485\n1    136485\nName: SEVERITYCODE, dtype: int64"
                    },
                    "metadata": {}
                }
            ]
        },
        {
            "metadata": {},
            "cell_type": "code",
            "source": "Feature = df_upsampled[['INATTENTIONIND','UNDERINFL','PEDROWNOTGRNT','SPEEDING','HITPARKEDCAR','PEDCOUNT','PEDCOUNT_0','PERSONCOUNT','PEDCYLCOUNT','VEHCOUNT']]\n\n\n",
            "execution_count": 47,
            "outputs": []
        },
        {
            "metadata": {},
            "cell_type": "code",
            "source": "Feature = pd.concat([Feature,pd.get_dummies(df_upsampled['ADDRTYPE'])], axis=1)\n#Feature.drop(['Alley'], axis = 1,inplace=True)\n\nFeature = pd.concat([Feature,pd.get_dummies(df_upsampled['COLLISIONTYPE'])], axis=1)\n#Feature.drop(['Angles'], axis = 1,inplace=True)\n\nFeature = pd.concat([Feature,pd.get_dummies(df_upsampled['ROADCOND'])], axis=1)\n#Feature.drop(['Dry'], axis = 1,inplace=True)\n\nFeature = pd.concat([Feature,pd.get_dummies(df_upsampled['WEATHER'])], axis=1)\n#Feature.drop(['Unknown'], axis = 1,inplace=True)\n\nFeature = pd.concat([Feature,pd.get_dummies(df_upsampled['LIGHTCOND'])], axis=1)\n#Feature.drop(['Daylight'], axis = 1,inplace=True)\n\nFeature = pd.concat([Feature,pd.get_dummies(df_upsampled['JUNCTIONTYPE'])], axis=1)\n#Feature.drop(['Unknown'], axis = 1,inplace=True)\n\n\nX = Feature\nX[0:5]",
            "execution_count": 48,
            "outputs": [
                {
                    "output_type": "execute_result",
                    "execution_count": 48,
                    "data": {
                        "text/plain": "   INATTENTIONIND  UNDERINFL  PEDROWNOTGRNT  SPEEDING  HITPARKEDCAR  PEDCOUNT  \\\n1             0.0        0.0            0.0       0.0             0         0   \n2             0.0        0.0            0.0       0.0             0         0   \n3             0.0        0.0            0.0       0.0             0         0   \n5             0.0        0.0            0.0       0.0             0         0   \n6             0.0        0.0            0.0       0.0             0         0   \n\n   PEDCOUNT_0  PERSONCOUNT  PEDCYLCOUNT  VEHCOUNT  ...  Dusk  Other  Unknown  \\\n1           0            2            0         2  ...     0      0        0   \n2           0            4            0         3  ...     0      0        0   \n3           0            3            0         3  ...     0      0        0   \n5           0            2            0         2  ...     0      0        0   \n6           0            2            0         2  ...     0      0        0   \n\n   At Intersection (but not related to intersection)  \\\n1                                                  0   \n2                                                  0   \n3                                                  0   \n5                                                  0   \n6                                                  0   \n\n   At Intersection (intersection related)  Driveway Junction  \\\n1                                       0                  0   \n2                                       0                  0   \n3                                       0                  0   \n5                                       1                  0   \n6                                       1                  0   \n\n   Mid-Block (but intersection related)  \\\n1                                     0   \n2                                     0   \n3                                     0   \n5                                     0   \n6                                     0   \n\n   Mid-Block (not related to intersection)  Ramp Junction  Unknown  \n1                                        1              0        0  \n2                                        1              0        0  \n3                                        1              0        0  \n5                                        0              0        0  \n6                                        0              0        0  \n\n[5 rows x 59 columns]",
                        "text/html": "<div>\n<style scoped>\n    .dataframe tbody tr th:only-of-type {\n        vertical-align: middle;\n    }\n\n    .dataframe tbody tr th {\n        vertical-align: top;\n    }\n\n    .dataframe thead th {\n        text-align: right;\n    }\n</style>\n<table border=\"1\" class=\"dataframe\">\n  <thead>\n    <tr style=\"text-align: right;\">\n      <th></th>\n      <th>INATTENTIONIND</th>\n      <th>UNDERINFL</th>\n      <th>PEDROWNOTGRNT</th>\n      <th>SPEEDING</th>\n      <th>HITPARKEDCAR</th>\n      <th>PEDCOUNT</th>\n      <th>PEDCOUNT_0</th>\n      <th>PERSONCOUNT</th>\n      <th>PEDCYLCOUNT</th>\n      <th>VEHCOUNT</th>\n      <th>...</th>\n      <th>Dusk</th>\n      <th>Other</th>\n      <th>Unknown</th>\n      <th>At Intersection (but not related to intersection)</th>\n      <th>At Intersection (intersection related)</th>\n      <th>Driveway Junction</th>\n      <th>Mid-Block (but intersection related)</th>\n      <th>Mid-Block (not related to intersection)</th>\n      <th>Ramp Junction</th>\n      <th>Unknown</th>\n    </tr>\n  </thead>\n  <tbody>\n    <tr>\n      <th>1</th>\n      <td>0.0</td>\n      <td>0.0</td>\n      <td>0.0</td>\n      <td>0.0</td>\n      <td>0</td>\n      <td>0</td>\n      <td>0</td>\n      <td>2</td>\n      <td>0</td>\n      <td>2</td>\n      <td>...</td>\n      <td>0</td>\n      <td>0</td>\n      <td>0</td>\n      <td>0</td>\n      <td>0</td>\n      <td>0</td>\n      <td>0</td>\n      <td>1</td>\n      <td>0</td>\n      <td>0</td>\n    </tr>\n    <tr>\n      <th>2</th>\n      <td>0.0</td>\n      <td>0.0</td>\n      <td>0.0</td>\n      <td>0.0</td>\n      <td>0</td>\n      <td>0</td>\n      <td>0</td>\n      <td>4</td>\n      <td>0</td>\n      <td>3</td>\n      <td>...</td>\n      <td>0</td>\n      <td>0</td>\n      <td>0</td>\n      <td>0</td>\n      <td>0</td>\n      <td>0</td>\n      <td>0</td>\n      <td>1</td>\n      <td>0</td>\n      <td>0</td>\n    </tr>\n    <tr>\n      <th>3</th>\n      <td>0.0</td>\n      <td>0.0</td>\n      <td>0.0</td>\n      <td>0.0</td>\n      <td>0</td>\n      <td>0</td>\n      <td>0</td>\n      <td>3</td>\n      <td>0</td>\n      <td>3</td>\n      <td>...</td>\n      <td>0</td>\n      <td>0</td>\n      <td>0</td>\n      <td>0</td>\n      <td>0</td>\n      <td>0</td>\n      <td>0</td>\n      <td>1</td>\n      <td>0</td>\n      <td>0</td>\n    </tr>\n    <tr>\n      <th>5</th>\n      <td>0.0</td>\n      <td>0.0</td>\n      <td>0.0</td>\n      <td>0.0</td>\n      <td>0</td>\n      <td>0</td>\n      <td>0</td>\n      <td>2</td>\n      <td>0</td>\n      <td>2</td>\n      <td>...</td>\n      <td>0</td>\n      <td>0</td>\n      <td>0</td>\n      <td>0</td>\n      <td>1</td>\n      <td>0</td>\n      <td>0</td>\n      <td>0</td>\n      <td>0</td>\n      <td>0</td>\n    </tr>\n    <tr>\n      <th>6</th>\n      <td>0.0</td>\n      <td>0.0</td>\n      <td>0.0</td>\n      <td>0.0</td>\n      <td>0</td>\n      <td>0</td>\n      <td>0</td>\n      <td>2</td>\n      <td>0</td>\n      <td>2</td>\n      <td>...</td>\n      <td>0</td>\n      <td>0</td>\n      <td>0</td>\n      <td>0</td>\n      <td>1</td>\n      <td>0</td>\n      <td>0</td>\n      <td>0</td>\n      <td>0</td>\n      <td>0</td>\n    </tr>\n  </tbody>\n</table>\n<p>5 rows \u00d7 59 columns</p>\n</div>"
                    },
                    "metadata": {}
                }
            ]
        },
        {
            "metadata": {},
            "cell_type": "code",
            "source": "X.shape",
            "execution_count": 49,
            "outputs": [
                {
                    "output_type": "execute_result",
                    "execution_count": 49,
                    "data": {
                        "text/plain": "(272970, 59)"
                    },
                    "metadata": {}
                }
            ]
        },
        {
            "metadata": {},
            "cell_type": "code",
            "source": "# Drop any NaN values\nX = X.dropna()\nX.shape",
            "execution_count": 50,
            "outputs": [
                {
                    "output_type": "execute_result",
                    "execution_count": 50,
                    "data": {
                        "text/plain": "(272970, 59)"
                    },
                    "metadata": {}
                }
            ]
        },
        {
            "metadata": {},
            "cell_type": "code",
            "source": "# Normalize the X data\nfrom sklearn import preprocessing\nX= preprocessing.StandardScaler().fit(X).transform(X)\nX[0:5]",
            "execution_count": 51,
            "outputs": [
                {
                    "output_type": "stream",
                    "text": "/opt/conda/envs/Python36/lib/python3.6/site-packages/sklearn/preprocessing/data.py:645: DataConversionWarning: Data with input dtype uint8, int64, float64 were all converted to float64 by StandardScaler.\n  return self.partial_fit(X, y)\n/opt/conda/envs/Python36/lib/python3.6/site-packages/ipykernel/__main__.py:3: DataConversionWarning: Data with input dtype uint8, int64, float64 were all converted to float64 by StandardScaler.\n  app.launch_new_instance()\n",
                    "name": "stderr"
                },
                {
                    "output_type": "execute_result",
                    "execution_count": 51,
                    "data": {
                        "text/plain": "array([[-0.43670817, -0.23070007, -0.1993071 , -0.23296354, -0.17180232,\n        -0.23902672, -0.24502348, -0.42390388, -0.21526527,  0.14961355,\n        -0.05634921,  0.79576403, -0.77730655, -0.49104226, -0.21369548,\n        -0.10868854, -0.28744689, -0.36356721, -0.4819729 , -0.23852175,\n        -0.49508953, -0.1191811 ,  3.37053891, -1.3692963 , -0.07654373,\n        -0.01923905, -0.02618256, -0.01914353, -0.06763464, -0.02421753,\n        -0.2502145 ,  1.71919409, -0.01624299, -1.18135873, -0.05318649,\n        -0.05965566, -0.41202891, -0.00506404,  2.15287479, -0.01116115,\n        -0.02329116, -0.06490199, -0.25105653, -0.08447238, -0.07753019,\n         1.73231312, -0.0069012 , -0.11699637, -1.26266701, -0.17948233,\n        -0.03322503, -0.23475833, -0.10461279, -0.75834319, -0.24130549,\n        -0.36635788,  1.1638163 , -0.02891288, -0.00634816],\n       [-0.43670817, -0.23070007, -0.1993071 , -0.23296354, -0.17180232,\n        -0.23902672, -0.24502348,  1.45106944, -0.21526527,  1.68132453,\n        -0.05634921,  0.79576403, -0.77730655, -0.49104226, -0.21369548,\n        -0.10868854, -0.28744689, -0.36356721,  2.07480544, -0.23852175,\n        -0.49508953, -0.1191811 , -0.29668846,  0.73030213, -0.07654373,\n        -0.01923905, -0.02618256, -0.01914353, -0.06763464, -0.02421753,\n        -0.2502145 , -0.58166789, -0.01624299, -1.18135873, -0.05318649,\n        -0.05965566,  2.42701418, -0.00506404, -0.4644952 , -0.01116115,\n        -0.02329116, -0.06490199, -0.25105653, -0.08447238, -0.07753019,\n        -0.57726285, -0.0069012 , -0.11699637,  0.79197444, -0.17948233,\n        -0.03322503, -0.23475833, -0.10461279, -0.75834319, -0.24130549,\n        -0.36635788,  1.1638163 , -0.02891288, -0.00634816],\n       [-0.43670817, -0.23070007, -0.1993071 , -0.23296354, -0.17180232,\n        -0.23902672, -0.24502348,  0.51358278, -0.21526527,  1.68132453,\n        -0.05634921,  0.79576403, -0.77730655, -0.49104226, -0.21369548,\n        -0.10868854, -0.28744689,  2.75052304, -0.4819729 , -0.23852175,\n        -0.49508953, -0.1191811 , -0.29668846,  0.73030213, -0.07654373,\n        -0.01923905, -0.02618256, -0.01914353, -0.06763464, -0.02421753,\n        -0.2502145 , -0.58166789, -0.01624299,  0.84648293, -0.05318649,\n        -0.05965566, -0.41202891, -0.00506404, -0.4644952 , -0.01116115,\n        -0.02329116, -0.06490199, -0.25105653, -0.08447238, -0.07753019,\n        -0.57726285, -0.0069012 , -0.11699637,  0.79197444, -0.17948233,\n        -0.03322503, -0.23475833, -0.10461279, -0.75834319, -0.24130549,\n        -0.36635788,  1.1638163 , -0.02891288, -0.00634816],\n       [-0.43670817, -0.23070007, -0.1993071 , -0.23296354, -0.17180232,\n        -0.23902672, -0.24502348, -0.42390388, -0.21526527,  0.14961355,\n        -0.05634921, -1.25665393,  1.28649372,  2.03648461, -0.21369548,\n        -0.10868854, -0.28744689, -0.36356721, -0.4819729 , -0.23852175,\n        -0.49508953, -0.1191811 , -0.29668846,  0.73030213, -0.07654373,\n        -0.01923905, -0.02618256, -0.01914353, -0.06763464, -0.02421753,\n        -0.2502145 , -0.58166789, -0.01624299,  0.84648293, -0.05318649,\n        -0.05965566, -0.41202891, -0.00506404, -0.4644952 , -0.01116115,\n        -0.02329116, -0.06490199, -0.25105653, -0.08447238, -0.07753019,\n        -0.57726285, -0.0069012 , -0.11699637,  0.79197444, -0.17948233,\n        -0.03322503, -0.23475833, -0.10461279,  1.31866418, -0.24130549,\n        -0.36635788, -0.85924213, -0.02891288, -0.00634816],\n       [-0.43670817, -0.23070007, -0.1993071 , -0.23296354, -0.17180232,\n        -0.23902672, -0.24502348, -0.42390388, -0.21526527,  0.14961355,\n        -0.05634921, -1.25665393,  1.28649372,  2.03648461, -0.21369548,\n        -0.10868854, -0.28744689, -0.36356721, -0.4819729 , -0.23852175,\n        -0.49508953, -0.1191811 , -0.29668846, -1.3692963 , -0.07654373,\n        -0.01923905, -0.02618256, -0.01914353, -0.06763464, -0.02421753,\n        -0.2502145 ,  1.71919409, -0.01624299, -1.18135873, -0.05318649,\n        -0.05965566, -0.41202891, -0.00506404,  2.15287479, -0.01116115,\n        -0.02329116, -0.06490199, -0.25105653, -0.08447238, -0.07753019,\n        -0.57726285, -0.0069012 , -0.11699637,  0.79197444, -0.17948233,\n        -0.03322503, -0.23475833, -0.10461279,  1.31866418, -0.24130549,\n        -0.36635788, -0.85924213, -0.02891288, -0.00634816]])"
                    },
                    "metadata": {}
                }
            ]
        },
        {
            "metadata": {},
            "cell_type": "code",
            "source": "y = df_upsampled['SEVERITYCODE'].values",
            "execution_count": 52,
            "outputs": []
        },
        {
            "metadata": {
                "scrolled": true
            },
            "cell_type": "code",
            "source": "# Split the datasets into training and testing data\nfrom sklearn.model_selection import train_test_split\nX_train, X_test, y_train, y_test = train_test_split( X, y, test_size=0.99, random_state=4)\nprint ('Train set:', X_train.shape,  y_train.shape)\nprint ('Test set:', X_test.shape,  y_test.shape)",
            "execution_count": 53,
            "outputs": [
                {
                    "output_type": "stream",
                    "text": "Train set: (2729, 59) (2729,)\nTest set: (270241, 59) (270241,)\n",
                    "name": "stdout"
                }
            ]
        },
        {
            "metadata": {},
            "cell_type": "markdown",
            "source": "### Model 1: K Nearest Neighbor (KNN)"
        },
        {
            "metadata": {},
            "cell_type": "code",
            "source": "from sklearn.neighbors import KNeighborsClassifier\nfrom sklearn import metrics",
            "execution_count": 54,
            "outputs": []
        },
        {
            "metadata": {},
            "cell_type": "markdown",
            "source": "Ks = 10\nmean_acc = np.zeros((Ks-1))\nstd_acc = np.zeros((Ks-1))\nConfustionMx = [];\nfor n in range(1,Ks):\n    \n    #Train Model and Predict  \n    neigh = KNeighborsClassifier(n_neighbors = n).fit(X_train,y_train)\n    yhat=neigh.predict(X_test)\n    mean_acc[n-1] = metrics.accuracy_score(y_test, yhat)\n\n    \n    std_acc[n-1]=np.std(yhat==y_test)/np.sqrt(yhat.shape[0])\n\nmean_acc\n\nplt.plot(range(1,Ks),mean_acc,'g')\nplt.fill_between(range(1,Ks),mean_acc - 1 * std_acc,mean_acc + 1 * std_acc, alpha=0.10)\nplt.legend(('Accuracy ', '+/- 3xstd'))\nplt.ylabel('Accuracy ')\nplt.xlabel('Number of Neighbors (K)')\nplt.tight_layout()\nplt.show()\n\nprint( \"The best accuracy was with\", mean_acc.max(), \"with k=\", mean_acc.argmax()+1) "
        },
        {
            "metadata": {},
            "cell_type": "code",
            "source": "k = 8\n#Train Model and Predict  \nneigh = KNeighborsClassifier(n_neighbors = k).fit(X_train,y_train)\nneigh\nyhat1 = neigh.predict(X_test)\nyhat1[0:5]\nprint(\"Train set Accuracy: \", metrics.accuracy_score(y_train, neigh.predict(X_train)))\nprint(\"Test set Accuracy: \", metrics.accuracy_score(y_test, yhat1))",
            "execution_count": 55,
            "outputs": [
                {
                    "output_type": "stream",
                    "text": "Train set Accuracy:  0.7237083180652254\nTest set Accuracy:  0.6611395014080025\n",
                    "name": "stdout"
                }
            ]
        },
        {
            "metadata": {},
            "cell_type": "code",
            "source": "# Add a confusion matrix for KNN\ndef plot_confusion_matrix(cm, classes,\n                          normalize=False,\n                          title='Confusion matrix',\n                          cmap=plt.cm.Blues):\n    \"\"\"\n    This function prints and plots the confusion matrix.\n    Normalization can be applied by setting `normalize=True`.\n    \"\"\"\n    if normalize:\n        cm = cm.astype('float') / cm.sum(axis=1)[:, np.newaxis]\n        print(\"Normalized confusion matrix\")\n    else:\n        print('Confusion matrix, without normalization')\n\n    print(cm)\n\n    plt.imshow(cm, interpolation='nearest', cmap=cmap)\n    plt.title(title)\n    plt.colorbar()\n    tick_marks = np.arange(len(classes))\n    plt.xticks(tick_marks, classes, rotation=45)\n    plt.yticks(tick_marks, classes)\n\n    fmt = '.2f' if normalize else 'd'\n    thresh = cm.max() / 2.\n    for i, j in itertools.product(range(cm.shape[0]), range(cm.shape[1])):\n        plt.text(j, i, format(cm[i, j], fmt),\n                 horizontalalignment=\"center\",\n                 color=\"white\" if cm[i, j] > thresh else \"black\")\n\n    plt.tight_layout()\n    plt.ylabel('True label')\n    plt.xlabel('Predicted label')",
            "execution_count": 56,
            "outputs": []
        },
        {
            "metadata": {},
            "cell_type": "code",
            "source": "from sklearn.metrics import classification_report, confusion_matrix, jaccard_similarity_score, f1_score\n\n# Compute confusion matrix\ncnf_matrix = confusion_matrix(y_test, yhat1)\nnp.set_printoptions(precision=2)\n\nprint (classification_report(y_test, yhat1))\n\n# Plot non-normalized confusion matrix\nplt.figure()\nplot_confusion_matrix(cnf_matrix, classes=['Property Damage','Injury'],normalize= True,  title='Confusion matrix')",
            "execution_count": 57,
            "outputs": [
                {
                    "output_type": "stream",
                    "text": "              precision    recall  f1-score   support\n\n           1       0.64      0.75      0.69    135120\n           2       0.70      0.57      0.63    135121\n\n   micro avg       0.66      0.66      0.66    270241\n   macro avg       0.67      0.66      0.66    270241\nweighted avg       0.67      0.66      0.66    270241\n\nNormalized confusion matrix\n[[0.75 0.25]\n [0.43 0.57]]\n",
                    "name": "stdout"
                },
                {
                    "output_type": "display_data",
                    "data": {
                        "text/plain": "<Figure size 432x288 with 2 Axes>",
                        "image/png": "[encoded data removed]"
                    },
                    "metadata": {
                        "needs_background": "light"
                    }
                }
            ]
        },
        {
            "metadata": {},
            "cell_type": "markdown",
            "source": "### Model 2: Decision Tree"
        },
        {
            "metadata": {},
            "cell_type": "code",
            "source": "from sklearn.tree import DecisionTreeClassifier\n\nTree = DecisionTreeClassifier(criterion=\"entropy\", max_depth = 5)\nTree # it shows the default parameters\n\nTree.fit(X_train,y_train)\n\nyhat2 = Tree.predict(X_test)\n\nprint (yhat2 [0:10])\nprint (y_test [0:10])\n\nprint(\"DecisionTrees's Accuracy: \", metrics.accuracy_score(y_test, yhat2))",
            "execution_count": 58,
            "outputs": [
                {
                    "output_type": "stream",
                    "text": "[1 1 2 1 1 1 2 2 2 1]\n[1 1 2 1 1 2 2 2 2 1]\nDecisionTrees's Accuracy:  0.6785646885557706\n",
                    "name": "stdout"
                }
            ]
        },
        {
            "metadata": {},
            "cell_type": "code",
            "source": "# Compute confusion matrix\ncnf_matrix = confusion_matrix(y_test, yhat2)\nnp.set_printoptions(precision=2)\n\nprint (classification_report(y_test, yhat2))\n\n# Plot non-normalized confusion matrix\nplt.figure()\nplot_confusion_matrix(cnf_matrix, classes=['Property Damage','Injury'],normalize= True,  title='Confusion matrix')",
            "execution_count": 59,
            "outputs": [
                {
                    "output_type": "stream",
                    "text": "              precision    recall  f1-score   support\n\n           1       0.64      0.80      0.71    135120\n           2       0.74      0.55      0.63    135121\n\n   micro avg       0.68      0.68      0.68    270241\n   macro avg       0.69      0.68      0.67    270241\nweighted avg       0.69      0.68      0.67    270241\n\nNormalized confusion matrix\n[[0.8  0.2 ]\n [0.45 0.55]]\n",
                    "name": "stdout"
                },
                {
                    "output_type": "display_data",
                    "data": {
                        "text/plain": "<Figure size 432x288 with 2 Axes>",
                        "image/png": "[encoded data removed]"
                    },
                    "metadata": {
                        "needs_background": "light"
                    }
                }
            ]
        },
        {
            "metadata": {},
            "cell_type": "code",
            "source": "print(metrics.accuracy_score(y_test, yhat2))",
            "execution_count": 60,
            "outputs": [
                {
                    "output_type": "stream",
                    "text": "0.6785646885557706\n[1 2]\n",
                    "name": "stdout"
                }
            ]
        },
        {
            "metadata": {},
            "cell_type": "markdown",
            "source": "### Model 3: Support Vector Machine"
        },
        {
            "metadata": {},
            "cell_type": "code",
            "source": "from sklearn import svm\n\nclf = svm.SVC(kernel='rbf')\nclf.fit(X_train, y_train) \n\nyhat3 = clf.predict(X_test)\nyhat3 [0:5]",
            "execution_count": 61,
            "outputs": [
                {
                    "output_type": "stream",
                    "text": "/opt/conda/envs/Python36/lib/python3.6/site-packages/sklearn/svm/base.py:196: FutureWarning: The default value of gamma will change from 'auto' to 'scale' in version 0.22 to account better for unscaled features. Set gamma explicitly to 'auto' or 'scale' to avoid this warning.\n  \"avoid this warning.\", FutureWarning)\n",
                    "name": "stderr"
                },
                {
                    "output_type": "execute_result",
                    "execution_count": 61,
                    "data": {
                        "text/plain": "array([1, 1, 2, 1, 1])"
                    },
                    "metadata": {}
                }
            ]
        },
        {
            "metadata": {},
            "cell_type": "code",
            "source": "# Compute confusion matrix\ncnf_matrix = confusion_matrix(y_test, yhat3)\nnp.set_printoptions(precision=2)\n\nprint (classification_report(y_test, yhat3))\n\n# Plot non-normalized confusion matrix\nplt.figure()\nplot_confusion_matrix(cnf_matrix, classes=['Property Damage','Injury'],normalize= True,  title='Confusion matrix')\n\n# F1 Score\nf1_score(y_test, yhat3, average='weighted') \n\n# Jaccard\njaccard_similarity_score(y_test, yhat3)",
            "execution_count": 62,
            "outputs": [
                {
                    "output_type": "stream",
                    "text": "              precision    recall  f1-score   support\n\n           1       0.73      0.63      0.68    135120\n           2       0.67      0.77      0.72    135121\n\n   micro avg       0.70      0.70      0.70    270241\n   macro avg       0.70      0.70      0.70    270241\nweighted avg       0.70      0.70      0.70    270241\n\nNormalized confusion matrix\n[[0.63 0.37]\n [0.23 0.77]]\n",
                    "name": "stdout"
                },
                {
                    "output_type": "execute_result",
                    "execution_count": 62,
                    "data": {
                        "text/plain": "0.6992906331755729"
                    },
                    "metadata": {}
                },
                {
                    "output_type": "display_data",
                    "data": {
                        "text/plain": "<Figure size 432x288 with 2 Axes>",
                        "image/png": "[encoded data removed]"
                    },
                    "metadata": {
                        "needs_background": "light"
                    }
                }
            ]
        },
        {
            "metadata": {},
            "cell_type": "markdown",
            "source": "### Model 4: Logistic Regression"
        },
        {
            "metadata": {},
            "cell_type": "code",
            "source": "from sklearn.linear_model import LogisticRegression\n\nLR = LogisticRegression(C=0.01, solver='liblinear').fit(X_train,y_train)\nLR\n\nyhat4 = LR.predict(X_test)\nyhat4\n\nyhat4_prob = LR.predict_proba(X_test)\nyhat4_prob\n\njaccard_similarity_score(y_test, yhat4)\n\n#from sklearn.metrics import classification_report, confusion_matrix\n#import itertools\n\nprint(confusion_matrix(y_test, yhat4))\n\n# Compute confusion matrix\ncnf_matrix = confusion_matrix(y_test, yhat4)\nnp.set_printoptions(precision=2)\n\n\n# Plot non-normalized confusion matrix\nplt.figure()\nplot_confusion_matrix(cnf_matrix, classes=['Property Damage','Injury'],normalize= True,  title='Confusion matrix')\n\nprint (classification_report(y_test, yhat4))\n\n\nfrom sklearn.metrics import log_loss\nlog_loss(y_test, yhat4_prob)",
            "execution_count": 66,
            "outputs": [
                {
                    "output_type": "stream",
                    "text": "[[ 85726  49394]\n [ 30481 104640]]\nNormalized confusion matrix\n[[0.63 0.37]\n [0.23 0.77]]\n              precision    recall  f1-score   support\n\n           1       0.74      0.63      0.68    135120\n           2       0.68      0.77      0.72    135121\n\n   micro avg       0.70      0.70      0.70    270241\n   macro avg       0.71      0.70      0.70    270241\nweighted avg       0.71      0.70      0.70    270241\n\n",
                    "name": "stdout"
                },
                {
                    "output_type": "execute_result",
                    "execution_count": 66,
                    "data": {
                        "text/plain": "0.5470091967665992"
                    },
                    "metadata": {}
                },
                {
                    "output_type": "display_data",
                    "data": {
                        "text/plain": "<Figure size 432x288 with 2 Axes>",
                        "image/png": "[encoded data removed]"
                    },
                    "metadata": {
                        "needs_background": "light"
                    }
                }
            ]
        },
        {
            "metadata": {},
            "cell_type": "code",
            "source": "",
            "execution_count": null,
            "outputs": []
        },
        {
            "metadata": {},
            "cell_type": "code",
            "source": "",
            "execution_count": null,
            "outputs": []
        },
        {
            "metadata": {},
            "cell_type": "code",
            "source": "",
            "execution_count": null,
            "outputs": []
        },
        {
            "metadata": {},
            "cell_type": "markdown",
            "source": "### Evaluation:\nBefore proceeding to the deployment stage, the model needs to be evaluated thoroughly to ensure that the business or the applications' objectives are achieved. Certain metrics can be used for the model evaluation such as accuracy, recall, F1-score, precision, and others."
        },
        {
            "metadata": {},
            "cell_type": "code",
            "source": "from sklearn.metrics import jaccard_similarity_score\nfrom sklearn.metrics import f1_score\nfrom sklearn.metrics import log_loss",
            "execution_count": 64,
            "outputs": []
        },
        {
            "metadata": {},
            "cell_type": "markdown",
            "source": "Evaluate KNN"
        },
        {
            "metadata": {},
            "cell_type": "code",
            "source": "# Evaluate KNN\nprint(\"KNN Evaluation set Accuracy: \", metrics.accuracy_score(y_test, yhat1))\n\n# F1 Score\nprint(\"KNN Evaluation F1 Score: \", f1_score(y_test, yhat1, average='weighted'))\n\n# Jaccard\nprint(\"KNN Evaluation Jaccard Score: \", jaccard_similarity_score(y_test, yhat1))",
            "execution_count": 67,
            "outputs": [
                {
                    "output_type": "stream",
                    "text": "KNN Evaluation set Accuracy:  0.6611395014080025\nKNN Evaluation F1 Score:  0.6583188775446457\nKNN Evaluation Jaccard Score:  0.6611395014080025\n",
                    "name": "stdout"
                }
            ]
        },
        {
            "metadata": {},
            "cell_type": "markdown",
            "source": "Evaluate Decision Tree"
        },
        {
            "metadata": {},
            "cell_type": "code",
            "source": "# Evaluate Decision Tree\nprint(\"Decision Tree Evaluation set Accuracy: \", metrics.accuracy_score(y_test, yhat2))\n\n# F1 Score\nprint(\"Decision Tree Evaluation F1 Score: \", f1_score(y_test, yhat2, average='weighted'))\n\n# Jaccard\nprint(\"Decision Tree Evaluation Jaccard Score: \", jaccard_similarity_score(y_test, yhat2))",
            "execution_count": 68,
            "outputs": [
                {
                    "output_type": "stream",
                    "text": "Decision Tree Evaluation set Accuracy:  0.6785646885557706\nDecision Tree Evaluation F1 Score:  0.673356910370187\nDecision Tree Evaluation Jaccard Score:  0.6785646885557706\n",
                    "name": "stdout"
                }
            ]
        },
        {
            "metadata": {},
            "cell_type": "markdown",
            "source": "Evaluate SVM"
        },
        {
            "metadata": {},
            "cell_type": "code",
            "source": "# Evaluate SVM\nprint(\"SVM Evaluation set Accuracy: \", metrics.accuracy_score(y_test, yhat3))\n\n# F1 Score\nprint(\"SVM Evaluation F1 Score: \", f1_score(y_test, yhat3, average='weighted'))\n\n# Jaccard\nprint(\"SVM Evaluation Jaccard Score: \", jaccard_similarity_score(y_test, yhat3))",
            "execution_count": 69,
            "outputs": [
                {
                    "output_type": "stream",
                    "text": "SVM Evaluation set Accuracy:  0.6992906331755729\nSVM Evaluation F1 Score:  0.6977633410513087\nSVM Evaluation Jaccard Score:  0.6992906331755729\n",
                    "name": "stdout"
                }
            ]
        },
        {
            "metadata": {},
            "cell_type": "markdown",
            "source": "Evaluate Log Reg"
        },
        {
            "metadata": {},
            "cell_type": "code",
            "source": "yhat4_prob = LR.predict_proba(X_test)\nprint(\"LogReg Evaluation set Accuracy: \", metrics.accuracy_score(y_test, yhat4))\n\n# F1 Score\nprint(\"LogReg Evaluation F1 Score: \", f1_score(y_test, yhat4, average='weighted'))\n\n# Jaccard\nprint(\"LogReg Evaluation Jaccard Score: \", jaccard_similarity_score(y_test, yhat4))\n\n# Log Loss\nfrom sklearn.metrics import log_loss\nprint(\"LogReg Evaluation Log Loss Score: \", log_loss(y_test, yhat4_prob))",
            "execution_count": 70,
            "outputs": [
                {
                    "output_type": "stream",
                    "text": "LogReg Evaluation set Accuracy:  0.7044304898220477\nLogReg Evaluation F1 Score:  0.7029755883427451\nLogReg Evaluation Jaccard Score:  0.7044304898220477\nLogReg Evaluation Log Loss Score:  0.5470091967665992\n",
                    "name": "stdout"
                }
            ]
        },
        {
            "metadata": {},
            "cell_type": "code",
            "source": "",
            "execution_count": null,
            "outputs": []
        },
        {
            "metadata": {},
            "cell_type": "code",
            "source": "",
            "execution_count": null,
            "outputs": []
        },
        {
            "metadata": {},
            "cell_type": "markdown",
            "source": "### Deployment:\nThe deployment phase requirements vary from project to project. It can be as simple as creating a report, developing interactive visualization, or making the machine learning model available in the production environment. In this environment, the customers or end-users can utilize the model in different ways such as API, website, or so on."
        },
        {
            "metadata": {},
            "cell_type": "code",
            "source": "",
            "execution_count": null,
            "outputs": []
        },
        {
            "metadata": {},
            "cell_type": "code",
            "source": "",
            "execution_count": null,
            "outputs": []
        },
        {
            "metadata": {},
            "cell_type": "code",
            "source": "",
            "execution_count": null,
            "outputs": []
        },
        {
            "metadata": {},
            "cell_type": "code",
            "source": "",
            "execution_count": null,
            "outputs": []
        },
        {
            "metadata": {},
            "cell_type": "code",
            "source": "",
            "execution_count": null,
            "outputs": []
        },
        {
            "metadata": {},
            "cell_type": "code",
            "source": "",
            "execution_count": null,
            "outputs": []
        },
        {
            "metadata": {},
            "cell_type": "code",
            "source": "",
            "execution_count": null,
            "outputs": []
        },
        {
            "metadata": {},
            "cell_type": "code",
            "source": "",
            "execution_count": null,
            "outputs": []
        },
        {
            "metadata": {},
            "cell_type": "code",
            "source": "",
            "execution_count": null,
            "outputs": []
        },
        {
            "metadata": {},
            "cell_type": "code",
            "source": "",
            "execution_count": null,
            "outputs": []
        },
        {
            "metadata": {},
            "cell_type": "markdown",
            "source": "\n\n\nimport matplotlib.ticker as ticker\nfrom matplotlib.ticker import NullFormatter\nimport matplotlib.image as mpimg\nimport scipy.optimize as opt\nfrom sklearn import tree\n\n\n\nfrom sklearn.externals.six import StringIO\n\n\n\n#\n\n\n!conda install -c conda-forge python-graphviz -y\n!conda install -c anaconda seaborn -y\n\n%matplotlib inline "
        },
        {
            "metadata": {},
            "cell_type": "code",
            "source": "",
            "execution_count": null,
            "outputs": []
        }
    ],
    "metadata": {
        "kernelspec": {
            "name": "python3",
            "display_name": "Python 3.6",
            "language": "python"
        },
        "language_info": {
            "name": "python",
            "version": "3.6.9",
            "mimetype": "text/x-python",
            "codemirror_mode": {
                "name": "ipython",
                "version": 3
            },
            "pygments_lexer": "ipython3",
            "nbconvert_exporter": "python",
            "file_extension": ".py"
        }
    },
    "nbformat": 4,
    "nbformat_minor": 1
}